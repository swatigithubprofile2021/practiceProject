{
  "nbformat": 4,
  "nbformat_minor": 0,
  "metadata": {
    "colab": {
      "name": "LSA.ipynb",
      "provenance": [],
      "authorship_tag": "ABX9TyPICLGXerFKU1YCGnX8uqq+",
      "include_colab_link": true
    },
    "kernelspec": {
      "name": "python3",
      "display_name": "Python 3"
    },
    "language_info": {
      "name": "python"
    }
  },
  "cells": [
    {
      "cell_type": "markdown",
      "metadata": {
        "id": "view-in-github",
        "colab_type": "text"
      },
      "source": [
        "<a href=\"https://colab.research.google.com/github/swatigithubprofile2021/practiceProject/blob/main/LSA.ipynb\" target=\"_parent\"><img src=\"https://colab.research.google.com/assets/colab-badge.svg\" alt=\"Open In Colab\"/></a>"
      ]
    },
    {
      "cell_type": "code",
      "execution_count": 2,
      "metadata": {
        "id": "4IDjkffdcvBO"
      },
      "outputs": [],
      "source": [
        "import nltk\n",
        "from sklearn.feature_extraction.text import TfidfVectorizer\n"
      ]
    },
    {
      "cell_type": "code",
      "source": [
        "TextCorpus = ['Seven continent planet','Five ocean planet','Asia largetst continent','Pacifiv Ocean largest','Ocean saline water']"
      ],
      "metadata": {
        "id": "jalr9-ICec08"
      },
      "execution_count": 3,
      "outputs": []
    },
    {
      "cell_type": "code",
      "source": [
        "text_tokens = [sent.split() for sent in TextCorpus]\n",
        "print(text_tokens)\n"
      ],
      "metadata": {
        "colab": {
          "base_uri": "https://localhost:8080/"
        },
        "id": "wjbf9sYtfB0r",
        "outputId": "e9599e32-fee3-4e46-9f88-b3b523a85d10"
      },
      "execution_count": 4,
      "outputs": [
        {
          "output_type": "stream",
          "name": "stdout",
          "text": [
            "[['Seven', 'continent', 'planet'], ['Five', 'ocean', 'planet'], ['Asia', 'largetst', 'continent'], ['Pacifiv', 'Ocean', 'largest'], ['Ocean', 'saline', 'water']]\n"
          ]
        }
      ]
    },
    {
      "cell_type": "code",
      "source": [
        "transformer = TfidfVectorizer()\n",
        "tfidf = transformer.fit_transform(TextCorpus)\n",
        "print(tfidf)"
      ],
      "metadata": {
        "colab": {
          "base_uri": "https://localhost:8080/"
        },
        "id": "LMK6wZnbgpmo",
        "outputId": "9240c080-fd23-4373-faa9-dfbdfacb77a9"
      },
      "execution_count": 5,
      "outputs": [
        {
          "output_type": "stream",
          "name": "stdout",
          "text": [
            "  (0, 7)\t0.5317722537280788\n",
            "  (0, 1)\t0.5317722537280788\n",
            "  (0, 9)\t0.6591180018251055\n",
            "  (1, 5)\t0.46220770413113277\n",
            "  (1, 2)\t0.6901592662889633\n",
            "  (1, 7)\t0.5568161504458247\n",
            "  (2, 4)\t0.6141889663426562\n",
            "  (2, 0)\t0.6141889663426562\n",
            "  (2, 1)\t0.49552379079705033\n",
            "  (3, 3)\t0.6390704413963749\n",
            "  (3, 6)\t0.6390704413963749\n",
            "  (3, 5)\t0.42799292268317357\n",
            "  (4, 10)\t0.6390704413963749\n",
            "  (4, 8)\t0.6390704413963749\n",
            "  (4, 5)\t0.42799292268317357\n"
          ]
        }
      ]
    },
    {
      "cell_type": "code",
      "source": [
        "from sklearn.decomposition import TruncatedSVD\n",
        "svd = TruncatedSVD(n_components = 2)\n",
        "lsa = svd.fit_transform(tfidf)"
      ],
      "metadata": {
        "id": "XQC8rgFnhIVD"
      },
      "execution_count": 6,
      "outputs": []
    },
    {
      "cell_type": "code",
      "source": [
        "lsa"
      ],
      "metadata": {
        "colab": {
          "base_uri": "https://localhost:8080/"
        },
        "id": "AuHgfuQchkop",
        "outputId": "68d83ef5-634e-4b91-d28a-8c69e8d8166f"
      },
      "execution_count": 7,
      "outputs": [
        {
          "output_type": "execute_result",
          "data": {
            "text/plain": [
              "array([[ 0.62051217,  0.56429487],\n",
              "       [ 0.74652819, -0.12447404],\n",
              "       [ 0.32953882,  0.63854727],\n",
              "       [ 0.47182536, -0.49558015],\n",
              "       [ 0.47182536, -0.49558015]])"
            ]
          },
          "metadata": {},
          "execution_count": 7
        }
      ]
    }
  ]
}