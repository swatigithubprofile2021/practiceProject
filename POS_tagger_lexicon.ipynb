{
  "nbformat": 4,
  "nbformat_minor": 0,
  "metadata": {
    "colab": {
      "name": "Untitled0.ipynb",
      "provenance": [],
      "authorship_tag": "ABX9TyNy3yX0Nxv0PJN9KNSTjoRy",
      "include_colab_link": true
    },
    "kernelspec": {
      "name": "python3",
      "display_name": "Python 3"
    },
    "language_info": {
      "name": "python"
    }
  },
  "cells": [
    {
      "cell_type": "markdown",
      "metadata": {
        "id": "view-in-github",
        "colab_type": "text"
      },
      "source": [
        "<a href=\"https://colab.research.google.com/github/swatigithubprofile2021/practiceProject/blob/main/POS_tagger_lexicon.ipynb\" target=\"_parent\"><img src=\"https://colab.research.google.com/assets/colab-badge.svg\" alt=\"Open In Colab\"/></a>"
      ]
    },
    {
      "cell_type": "code",
      "execution_count": 1,
      "metadata": {
        "id": "ZxpyQc2SxP3e"
      },
      "outputs": [],
      "source": [
        "import nltk\n",
        "import pandas as pd\n",
        "import numpy as np\n",
        "import pprint,time\n",
        "import random\n",
        "from sklearn.model_selection import train_test_split\n",
        "from nltk.tokenize import word_tokenize\n",
        "import math"
      ]
    },
    {
      "cell_type": "code",
      "source": [
        "nltk.download('treebank')"
      ],
      "metadata": {
        "id": "ArobNLUj22RO",
        "outputId": "cb51d854-52e8-4a4d-dced-e11f91165c3a",
        "colab": {
          "base_uri": "https://localhost:8080/"
        }
      },
      "execution_count": 3,
      "outputs": [
        {
          "output_type": "stream",
          "name": "stdout",
          "text": [
            "[nltk_data] Downloading package treebank to /root/nltk_data...\n",
            "[nltk_data]   Unzipping corpora/treebank.zip.\n"
          ]
        },
        {
          "output_type": "execute_result",
          "data": {
            "text/plain": [
              "True"
            ]
          },
          "metadata": {},
          "execution_count": 3
        }
      ]
    },
    {
      "cell_type": "code",
      "source": [
        "## reading the treebank tagged sentences\n",
        "corpus = list(nltk.corpus.treebank.tagged_sents())"
      ],
      "metadata": {
        "id": "DC8JEmcq29nH"
      },
      "execution_count": 4,
      "outputs": []
    },
    {
      "cell_type": "code",
      "source": [
        "corpus[:3]"
      ],
      "metadata": {
        "id": "KL-cgTam3gOn",
        "outputId": "2a4ec234-78d2-4278-cf62-3160965225b3",
        "colab": {
          "base_uri": "https://localhost:8080/"
        }
      },
      "execution_count": null,
      "outputs": [
        {
          "output_type": "execute_result",
          "data": {
            "text/plain": [
              "[[('Pierre', 'NNP'),\n",
              "  ('Vinken', 'NNP'),\n",
              "  (',', ','),\n",
              "  ('61', 'CD'),\n",
              "  ('years', 'NNS'),\n",
              "  ('old', 'JJ'),\n",
              "  (',', ','),\n",
              "  ('will', 'MD'),\n",
              "  ('join', 'VB'),\n",
              "  ('the', 'DT'),\n",
              "  ('board', 'NN'),\n",
              "  ('as', 'IN'),\n",
              "  ('a', 'DT'),\n",
              "  ('nonexecutive', 'JJ'),\n",
              "  ('director', 'NN'),\n",
              "  ('Nov.', 'NNP'),\n",
              "  ('29', 'CD'),\n",
              "  ('.', '.')],\n",
              " [('Mr.', 'NNP'),\n",
              "  ('Vinken', 'NNP'),\n",
              "  ('is', 'VBZ'),\n",
              "  ('chairman', 'NN'),\n",
              "  ('of', 'IN'),\n",
              "  ('Elsevier', 'NNP'),\n",
              "  ('N.V.', 'NNP'),\n",
              "  (',', ','),\n",
              "  ('the', 'DT'),\n",
              "  ('Dutch', 'NNP'),\n",
              "  ('publishing', 'VBG'),\n",
              "  ('group', 'NN'),\n",
              "  ('.', '.')],\n",
              " [('Rudolph', 'NNP'),\n",
              "  ('Agnew', 'NNP'),\n",
              "  (',', ','),\n",
              "  ('55', 'CD'),\n",
              "  ('years', 'NNS'),\n",
              "  ('old', 'JJ'),\n",
              "  ('and', 'CC'),\n",
              "  ('former', 'JJ'),\n",
              "  ('chairman', 'NN'),\n",
              "  ('of', 'IN'),\n",
              "  ('Consolidated', 'NNP'),\n",
              "  ('Gold', 'NNP'),\n",
              "  ('Fields', 'NNP'),\n",
              "  ('PLC', 'NNP'),\n",
              "  (',', ','),\n",
              "  ('was', 'VBD'),\n",
              "  ('named', 'VBN'),\n",
              "  ('*-1', '-NONE-'),\n",
              "  ('a', 'DT'),\n",
              "  ('nonexecutive', 'JJ'),\n",
              "  ('director', 'NN'),\n",
              "  ('of', 'IN'),\n",
              "  ('this', 'DT'),\n",
              "  ('British', 'JJ'),\n",
              "  ('industrial', 'JJ'),\n",
              "  ('conglomerate', 'NN'),\n",
              "  ('.', '.')]]"
            ]
          },
          "metadata": {},
          "execution_count": 5
        }
      ]
    },
    {
      "cell_type": "code",
      "source": [
        "tagged_words = [tup for sent in corpus for tup in sent]\n",
        "print(len(tagged_words))\n",
        "tagged_words[:50]"
      ],
      "metadata": {
        "id": "2uSkN4Gh4r4P",
        "outputId": "05f58d2e-a594-47c6-ceac-2b6a3b3a0f93",
        "colab": {
          "base_uri": "https://localhost:8080/"
        }
      },
      "execution_count": 5,
      "outputs": [
        {
          "output_type": "stream",
          "name": "stdout",
          "text": [
            "100676\n"
          ]
        },
        {
          "output_type": "execute_result",
          "data": {
            "text/plain": [
              "[('Pierre', 'NNP'),\n",
              " ('Vinken', 'NNP'),\n",
              " (',', ','),\n",
              " ('61', 'CD'),\n",
              " ('years', 'NNS'),\n",
              " ('old', 'JJ'),\n",
              " (',', ','),\n",
              " ('will', 'MD'),\n",
              " ('join', 'VB'),\n",
              " ('the', 'DT'),\n",
              " ('board', 'NN'),\n",
              " ('as', 'IN'),\n",
              " ('a', 'DT'),\n",
              " ('nonexecutive', 'JJ'),\n",
              " ('director', 'NN'),\n",
              " ('Nov.', 'NNP'),\n",
              " ('29', 'CD'),\n",
              " ('.', '.'),\n",
              " ('Mr.', 'NNP'),\n",
              " ('Vinken', 'NNP'),\n",
              " ('is', 'VBZ'),\n",
              " ('chairman', 'NN'),\n",
              " ('of', 'IN'),\n",
              " ('Elsevier', 'NNP'),\n",
              " ('N.V.', 'NNP'),\n",
              " (',', ','),\n",
              " ('the', 'DT'),\n",
              " ('Dutch', 'NNP'),\n",
              " ('publishing', 'VBG'),\n",
              " ('group', 'NN'),\n",
              " ('.', '.'),\n",
              " ('Rudolph', 'NNP'),\n",
              " ('Agnew', 'NNP'),\n",
              " (',', ','),\n",
              " ('55', 'CD'),\n",
              " ('years', 'NNS'),\n",
              " ('old', 'JJ'),\n",
              " ('and', 'CC'),\n",
              " ('former', 'JJ'),\n",
              " ('chairman', 'NN'),\n",
              " ('of', 'IN'),\n",
              " ('Consolidated', 'NNP'),\n",
              " ('Gold', 'NNP'),\n",
              " ('Fields', 'NNP'),\n",
              " ('PLC', 'NNP'),\n",
              " (',', ','),\n",
              " ('was', 'VBD'),\n",
              " ('named', 'VBN'),\n",
              " ('*-1', '-NONE-'),\n",
              " ('a', 'DT')]"
            ]
          },
          "metadata": {},
          "execution_count": 5
        }
      ]
    },
    {
      "cell_type": "code",
      "source": [
        "## EDA"
      ],
      "metadata": {
        "id": "vEuTw6aj9Nh8"
      },
      "execution_count": null,
      "outputs": []
    },
    {
      "cell_type": "code",
      "source": [
        "## Unique tags\n",
        "tags = [pair[1] for pair in tagged_words]\n",
        "unique_tags = set(tags)\n",
        "len(unique_tags)"
      ],
      "metadata": {
        "id": "Knv5iiWH80e8",
        "outputId": "1cf1e467-208d-4800-fd2d-5e033b014e97",
        "colab": {
          "base_uri": "https://localhost:8080/"
        }
      },
      "execution_count": 6,
      "outputs": [
        {
          "output_type": "execute_result",
          "data": {
            "text/plain": [
              "46"
            ]
          },
          "metadata": {},
          "execution_count": 6
        }
      ]
    },
    {
      "cell_type": "code",
      "source": [
        "## Frequency of the different tags\n",
        "from collections import Counter\n",
        "tags_counts = Counter(tags)\n",
        "tags_counts\n"
      ],
      "metadata": {
        "id": "duzkgvq89P4r",
        "outputId": "f75625a9-f18e-4349-b2c7-248fe8fd18f1",
        "colab": {
          "base_uri": "https://localhost:8080/"
        }
      },
      "execution_count": 7,
      "outputs": [
        {
          "output_type": "execute_result",
          "data": {
            "text/plain": [
              "Counter({'#': 16,\n",
              "         '$': 724,\n",
              "         \"''\": 694,\n",
              "         ',': 4886,\n",
              "         '-LRB-': 120,\n",
              "         '-NONE-': 6592,\n",
              "         '-RRB-': 126,\n",
              "         '.': 3874,\n",
              "         ':': 563,\n",
              "         'CC': 2265,\n",
              "         'CD': 3546,\n",
              "         'DT': 8165,\n",
              "         'EX': 88,\n",
              "         'FW': 4,\n",
              "         'IN': 9857,\n",
              "         'JJ': 5834,\n",
              "         'JJR': 381,\n",
              "         'JJS': 182,\n",
              "         'LS': 13,\n",
              "         'MD': 927,\n",
              "         'NN': 13166,\n",
              "         'NNP': 9410,\n",
              "         'NNPS': 244,\n",
              "         'NNS': 6047,\n",
              "         'PDT': 27,\n",
              "         'POS': 824,\n",
              "         'PRP': 1716,\n",
              "         'PRP$': 766,\n",
              "         'RB': 2822,\n",
              "         'RBR': 136,\n",
              "         'RBS': 35,\n",
              "         'RP': 216,\n",
              "         'SYM': 1,\n",
              "         'TO': 2179,\n",
              "         'UH': 3,\n",
              "         'VB': 2554,\n",
              "         'VBD': 3043,\n",
              "         'VBG': 1460,\n",
              "         'VBN': 2134,\n",
              "         'VBP': 1321,\n",
              "         'VBZ': 2125,\n",
              "         'WDT': 445,\n",
              "         'WP': 241,\n",
              "         'WP$': 14,\n",
              "         'WRB': 178,\n",
              "         '``': 712})"
            ]
          },
          "metadata": {},
          "execution_count": 7
        }
      ]
    },
    {
      "cell_type": "code",
      "source": [
        "## Most occuring top five tags in the corpus\n",
        "tags_counts.most_common(5)"
      ],
      "metadata": {
        "id": "1HOWJYjj9uKD",
        "outputId": "22d6faec-2883-47dd-f003-507b840f9313",
        "colab": {
          "base_uri": "https://localhost:8080/"
        }
      },
      "execution_count": 8,
      "outputs": [
        {
          "output_type": "execute_result",
          "data": {
            "text/plain": [
              "[('NN', 13166), ('IN', 9857), ('NNP', 9410), ('DT', 8165), ('-NONE-', 6592)]"
            ]
          },
          "metadata": {},
          "execution_count": 8
        }
      ]
    },
    {
      "cell_type": "code",
      "source": [
        "nltk.download('tagsets')"
      ],
      "metadata": {
        "id": "siKR8ppp_2Fq",
        "outputId": "85ad475d-f951-48c7-cfee-da9c8ca17c2c",
        "colab": {
          "base_uri": "https://localhost:8080/"
        }
      },
      "execution_count": 9,
      "outputs": [
        {
          "output_type": "stream",
          "name": "stdout",
          "text": [
            "[nltk_data] Downloading package tagsets to /root/nltk_data...\n",
            "[nltk_data]   Unzipping help/tagsets.zip.\n"
          ]
        },
        {
          "output_type": "execute_result",
          "data": {
            "text/plain": [
              "True"
            ]
          },
          "metadata": {},
          "execution_count": 9
        }
      ]
    },
    {
      "cell_type": "code",
      "source": [
        "## list of POS tags in NLTK\n",
        "nltk.help.upenn_tagset()"
      ],
      "metadata": {
        "id": "s2UEN7Wy_eww",
        "outputId": "e1d694e5-fa39-416b-f1c3-e73293535d61",
        "colab": {
          "base_uri": "https://localhost:8080/"
        }
      },
      "execution_count": 10,
      "outputs": [
        {
          "output_type": "stream",
          "name": "stdout",
          "text": [
            "$: dollar\n",
            "    $ -$ --$ A$ C$ HK$ M$ NZ$ S$ U.S.$ US$\n",
            "'': closing quotation mark\n",
            "    ' ''\n",
            "(: opening parenthesis\n",
            "    ( [ {\n",
            "): closing parenthesis\n",
            "    ) ] }\n",
            ",: comma\n",
            "    ,\n",
            "--: dash\n",
            "    --\n",
            ".: sentence terminator\n",
            "    . ! ?\n",
            ":: colon or ellipsis\n",
            "    : ; ...\n",
            "CC: conjunction, coordinating\n",
            "    & 'n and both but either et for less minus neither nor or plus so\n",
            "    therefore times v. versus vs. whether yet\n",
            "CD: numeral, cardinal\n",
            "    mid-1890 nine-thirty forty-two one-tenth ten million 0.5 one forty-\n",
            "    seven 1987 twenty '79 zero two 78-degrees eighty-four IX '60s .025\n",
            "    fifteen 271,124 dozen quintillion DM2,000 ...\n",
            "DT: determiner\n",
            "    all an another any both del each either every half la many much nary\n",
            "    neither no some such that the them these this those\n",
            "EX: existential there\n",
            "    there\n",
            "FW: foreign word\n",
            "    gemeinschaft hund ich jeux habeas Haementeria Herr K'ang-si vous\n",
            "    lutihaw alai je jour objets salutaris fille quibusdam pas trop Monte\n",
            "    terram fiche oui corporis ...\n",
            "IN: preposition or conjunction, subordinating\n",
            "    astride among uppon whether out inside pro despite on by throughout\n",
            "    below within for towards near behind atop around if like until below\n",
            "    next into if beside ...\n",
            "JJ: adjective or numeral, ordinal\n",
            "    third ill-mannered pre-war regrettable oiled calamitous first separable\n",
            "    ectoplasmic battery-powered participatory fourth still-to-be-named\n",
            "    multilingual multi-disciplinary ...\n",
            "JJR: adjective, comparative\n",
            "    bleaker braver breezier briefer brighter brisker broader bumper busier\n",
            "    calmer cheaper choosier cleaner clearer closer colder commoner costlier\n",
            "    cozier creamier crunchier cuter ...\n",
            "JJS: adjective, superlative\n",
            "    calmest cheapest choicest classiest cleanest clearest closest commonest\n",
            "    corniest costliest crassest creepiest crudest cutest darkest deadliest\n",
            "    dearest deepest densest dinkiest ...\n",
            "LS: list item marker\n",
            "    A A. B B. C C. D E F First G H I J K One SP-44001 SP-44002 SP-44005\n",
            "    SP-44007 Second Third Three Two * a b c d first five four one six three\n",
            "    two\n",
            "MD: modal auxiliary\n",
            "    can cannot could couldn't dare may might must need ought shall should\n",
            "    shouldn't will would\n",
            "NN: noun, common, singular or mass\n",
            "    common-carrier cabbage knuckle-duster Casino afghan shed thermostat\n",
            "    investment slide humour falloff slick wind hyena override subhumanity\n",
            "    machinist ...\n",
            "NNP: noun, proper, singular\n",
            "    Motown Venneboerger Czestochwa Ranzer Conchita Trumplane Christos\n",
            "    Oceanside Escobar Kreisler Sawyer Cougar Yvette Ervin ODI Darryl CTCA\n",
            "    Shannon A.K.C. Meltex Liverpool ...\n",
            "NNPS: noun, proper, plural\n",
            "    Americans Americas Amharas Amityvilles Amusements Anarcho-Syndicalists\n",
            "    Andalusians Andes Andruses Angels Animals Anthony Antilles Antiques\n",
            "    Apache Apaches Apocrypha ...\n",
            "NNS: noun, common, plural\n",
            "    undergraduates scotches bric-a-brac products bodyguards facets coasts\n",
            "    divestitures storehouses designs clubs fragrances averages\n",
            "    subjectivists apprehensions muses factory-jobs ...\n",
            "PDT: pre-determiner\n",
            "    all both half many quite such sure this\n",
            "POS: genitive marker\n",
            "    ' 's\n",
            "PRP: pronoun, personal\n",
            "    hers herself him himself hisself it itself me myself one oneself ours\n",
            "    ourselves ownself self she thee theirs them themselves they thou thy us\n",
            "PRP$: pronoun, possessive\n",
            "    her his mine my our ours their thy your\n",
            "RB: adverb\n",
            "    occasionally unabatingly maddeningly adventurously professedly\n",
            "    stirringly prominently technologically magisterially predominately\n",
            "    swiftly fiscally pitilessly ...\n",
            "RBR: adverb, comparative\n",
            "    further gloomier grander graver greater grimmer harder harsher\n",
            "    healthier heavier higher however larger later leaner lengthier less-\n",
            "    perfectly lesser lonelier longer louder lower more ...\n",
            "RBS: adverb, superlative\n",
            "    best biggest bluntest earliest farthest first furthest hardest\n",
            "    heartiest highest largest least less most nearest second tightest worst\n",
            "RP: particle\n",
            "    aboard about across along apart around aside at away back before behind\n",
            "    by crop down ever fast for forth from go high i.e. in into just later\n",
            "    low more off on open out over per pie raising start teeth that through\n",
            "    under unto up up-pp upon whole with you\n",
            "SYM: symbol\n",
            "    % & ' '' ''. ) ). * + ,. < = > @ A[fj] U.S U.S.S.R * ** ***\n",
            "TO: \"to\" as preposition or infinitive marker\n",
            "    to\n",
            "UH: interjection\n",
            "    Goodbye Goody Gosh Wow Jeepers Jee-sus Hubba Hey Kee-reist Oops amen\n",
            "    huh howdy uh dammit whammo shucks heck anyways whodunnit honey golly\n",
            "    man baby diddle hush sonuvabitch ...\n",
            "VB: verb, base form\n",
            "    ask assemble assess assign assume atone attention avoid bake balkanize\n",
            "    bank begin behold believe bend benefit bevel beware bless boil bomb\n",
            "    boost brace break bring broil brush build ...\n",
            "VBD: verb, past tense\n",
            "    dipped pleaded swiped regummed soaked tidied convened halted registered\n",
            "    cushioned exacted snubbed strode aimed adopted belied figgered\n",
            "    speculated wore appreciated contemplated ...\n",
            "VBG: verb, present participle or gerund\n",
            "    telegraphing stirring focusing angering judging stalling lactating\n",
            "    hankerin' alleging veering capping approaching traveling besieging\n",
            "    encrypting interrupting erasing wincing ...\n",
            "VBN: verb, past participle\n",
            "    multihulled dilapidated aerosolized chaired languished panelized used\n",
            "    experimented flourished imitated reunifed factored condensed sheared\n",
            "    unsettled primed dubbed desired ...\n",
            "VBP: verb, present tense, not 3rd person singular\n",
            "    predominate wrap resort sue twist spill cure lengthen brush terminate\n",
            "    appear tend stray glisten obtain comprise detest tease attract\n",
            "    emphasize mold postpone sever return wag ...\n",
            "VBZ: verb, present tense, 3rd person singular\n",
            "    bases reconstructs marks mixes displeases seals carps weaves snatches\n",
            "    slumps stretches authorizes smolders pictures emerges stockpiles\n",
            "    seduces fizzes uses bolsters slaps speaks pleads ...\n",
            "WDT: WH-determiner\n",
            "    that what whatever which whichever\n",
            "WP: WH-pronoun\n",
            "    that what whatever whatsoever which who whom whosoever\n",
            "WP$: WH-pronoun, possessive\n",
            "    whose\n",
            "WRB: Wh-adverb\n",
            "    how however whence whenever where whereby whereever wherein whereof why\n",
            "``: opening quotation mark\n",
            "    ` ``\n"
          ]
        }
      ]
    },
    {
      "cell_type": "code",
      "source": [
        "## which tag is most commonly assigned to the word w\n",
        "bank = [pair for pair in tagged_words if pair[0].lower() == 'bank']\n",
        "bank\n"
      ],
      "metadata": {
        "id": "Rdz1GJjCH56Q",
        "outputId": "44a74495-24db-4331-908f-cb1d5032b4e2",
        "colab": {
          "base_uri": "https://localhost:8080/"
        }
      },
      "execution_count": 11,
      "outputs": [
        {
          "output_type": "execute_result",
          "data": {
            "text/plain": [
              "[('bank', 'NN'),\n",
              " ('Bank', 'NNP'),\n",
              " ('bank', 'NN'),\n",
              " ('Bank', 'NNP'),\n",
              " ('bank', 'NN'),\n",
              " ('Bank', 'NNP'),\n",
              " ('bank', 'NN'),\n",
              " ('Bank', 'NNP'),\n",
              " ('bank', 'NN'),\n",
              " ('bank', 'NN'),\n",
              " ('bank', 'NN'),\n",
              " ('Bank', 'NNP'),\n",
              " ('Bank', 'NNP'),\n",
              " ('Bank', 'NNP'),\n",
              " ('Bank', 'NNP'),\n",
              " ('bank', 'NN'),\n",
              " ('bank', 'NN'),\n",
              " ('bank', 'NN'),\n",
              " ('bank', 'NN'),\n",
              " ('bank', 'NN'),\n",
              " ('Bank', 'NNP'),\n",
              " ('Bank', 'NNP'),\n",
              " ('Bank', 'NNP'),\n",
              " ('bank', 'NN'),\n",
              " ('Bank', 'NNP'),\n",
              " ('Bank', 'NNP'),\n",
              " ('bank', 'NN'),\n",
              " ('Bank', 'NNP'),\n",
              " ('Bank', 'NNP'),\n",
              " ('bank', 'NN'),\n",
              " ('bank', 'NN'),\n",
              " ('Bank', 'NNP'),\n",
              " ('bank', 'NN'),\n",
              " ('bank', 'NN'),\n",
              " ('bank', 'NN'),\n",
              " ('Bank', 'NNP'),\n",
              " ('bank', 'NN'),\n",
              " ('bank', 'NN'),\n",
              " ('bank', 'NN'),\n",
              " ('bank', 'NN'),\n",
              " ('bank', 'NN'),\n",
              " ('Bank', 'NNP'),\n",
              " ('Bank', 'NNP'),\n",
              " ('Bank', 'NNP'),\n",
              " ('bank', 'NN'),\n",
              " ('Bank', 'NNP'),\n",
              " ('Bank', 'NNP'),\n",
              " ('Bank', 'NNP'),\n",
              " ('Bank', 'NNP'),\n",
              " ('Bank', 'NNP'),\n",
              " ('Bank', 'NNP'),\n",
              " ('Bank', 'NNP'),\n",
              " ('Bank', 'NNP'),\n",
              " ('Bank', 'NNP'),\n",
              " ('bank', 'NN'),\n",
              " ('bank', 'NN'),\n",
              " ('Bank', 'NNP'),\n",
              " ('bank', 'NN'),\n",
              " ('bank', 'NN'),\n",
              " ('Bank', 'NNP'),\n",
              " ('bank', 'NN'),\n",
              " ('bank', 'NN'),\n",
              " ('bank', 'NN'),\n",
              " ('bank', 'NN'),\n",
              " ('bank', 'NN'),\n",
              " ('bank', 'NN'),\n",
              " ('bank', 'NN'),\n",
              " ('bank', 'NN'),\n",
              " ('Bank', 'NNP'),\n",
              " ('bank', 'NN')]"
            ]
          },
          "metadata": {},
          "execution_count": 11
        }
      ]
    },
    {
      "cell_type": "code",
      "source": [
        "executive = [pair for pair in tagged_words if pair[0].lower() == 'executive']\n",
        "executive"
      ],
      "metadata": {
        "id": "NmAVvPYQIexq",
        "outputId": "a06cb130-b0e3-426a-eb2d-654182434a7f",
        "colab": {
          "base_uri": "https://localhost:8080/"
        }
      },
      "execution_count": 12,
      "outputs": [
        {
          "output_type": "execute_result",
          "data": {
            "text/plain": [
              "[('executive', 'NN'),\n",
              " ('executive', 'JJ'),\n",
              " ('executive', 'JJ'),\n",
              " ('executive', 'NN'),\n",
              " ('executive', 'NN'),\n",
              " ('executive', 'NN'),\n",
              " ('executive', 'NN'),\n",
              " ('executive', 'NN'),\n",
              " ('executive', 'NN'),\n",
              " ('executive', 'NN'),\n",
              " ('executive', 'NN'),\n",
              " ('executive', 'NN'),\n",
              " ('executive', 'NN'),\n",
              " ('executive', 'JJ'),\n",
              " ('executive', 'JJ'),\n",
              " ('executive', 'JJ'),\n",
              " ('executive', 'NN'),\n",
              " ('executive', 'JJ'),\n",
              " ('executive', 'NN'),\n",
              " ('executive', 'NN'),\n",
              " ('executive', 'NN'),\n",
              " ('executive', 'NN'),\n",
              " ('executive', 'NN'),\n",
              " ('executive', 'NN'),\n",
              " ('executive', 'NN'),\n",
              " ('executive', 'NN'),\n",
              " ('executive', 'JJ'),\n",
              " ('executive', 'JJ'),\n",
              " ('executive', 'JJ'),\n",
              " ('executive', 'JJ'),\n",
              " ('executive', 'JJ'),\n",
              " ('executive', 'NN'),\n",
              " ('executive', 'NN'),\n",
              " ('executive', 'NN'),\n",
              " ('executive', 'NN'),\n",
              " ('executive', 'NN'),\n",
              " ('executive', 'JJ'),\n",
              " ('executive', 'NN'),\n",
              " ('executive', 'NN'),\n",
              " ('executive', 'NN'),\n",
              " ('executive', 'JJ'),\n",
              " ('executive', 'JJ'),\n",
              " ('executive', 'JJ'),\n",
              " ('executive', 'JJ'),\n",
              " ('executive', 'JJ'),\n",
              " ('executive', 'NN'),\n",
              " ('executive', 'NN'),\n",
              " ('executive', 'JJ'),\n",
              " ('executive', 'JJ'),\n",
              " ('executive', 'NN'),\n",
              " ('executive', 'JJ'),\n",
              " ('executive', 'JJ'),\n",
              " ('executive', 'NN'),\n",
              " ('executive', 'NN'),\n",
              " ('executive', 'JJ'),\n",
              " ('executive', 'NN'),\n",
              " ('executive', 'JJ'),\n",
              " ('executive', 'JJ'),\n",
              " ('executive', 'NN'),\n",
              " ('executive', 'NN'),\n",
              " ('executive', 'NN'),\n",
              " ('executive', 'JJ'),\n",
              " ('executive', 'NN'),\n",
              " ('executive', 'NN'),\n",
              " ('executive', 'JJ'),\n",
              " ('executive', 'JJ'),\n",
              " ('executive', 'NN'),\n",
              " ('executive', 'JJ')]"
            ]
          },
          "metadata": {},
          "execution_count": 12
        }
      ]
    },
    {
      "cell_type": "code",
      "source": [
        "## how many tags with the tag 'VBG' end with ing\n",
        "participle_verbs =[pair for pair in tagged_words if pair[1] == 'VBG']\n",
        "ing_verbs = [ pair for pair in participle_verbs if pair[0].endswith('ing') ]  \n",
        "print(len(ing_verbs)/len(participle_verbs))  \n",
        "ing_verbs[:20]              "
      ],
      "metadata": {
        "id": "68XDiiUgJHfS",
        "outputId": "572d87f7-8bd9-407b-8916-c86b4ae9a564",
        "colab": {
          "base_uri": "https://localhost:8080/"
        }
      },
      "execution_count": 13,
      "outputs": [
        {
          "output_type": "stream",
          "name": "stdout",
          "text": [
            "0.9972602739726028\n"
          ]
        },
        {
          "output_type": "execute_result",
          "data": {
            "text/plain": [
              "[('publishing', 'VBG'),\n",
              " ('causing', 'VBG'),\n",
              " ('using', 'VBG'),\n",
              " ('talking', 'VBG'),\n",
              " ('having', 'VBG'),\n",
              " ('making', 'VBG'),\n",
              " ('surviving', 'VBG'),\n",
              " ('including', 'VBG'),\n",
              " ('including', 'VBG'),\n",
              " ('according', 'VBG'),\n",
              " ('remaining', 'VBG'),\n",
              " ('according', 'VBG'),\n",
              " ('declining', 'VBG'),\n",
              " ('rising', 'VBG'),\n",
              " ('yielding', 'VBG'),\n",
              " ('waiving', 'VBG'),\n",
              " ('holding', 'VBG'),\n",
              " ('holding', 'VBG'),\n",
              " ('cutting', 'VBG'),\n",
              " ('manufacturing', 'VBG')]"
            ]
          },
          "metadata": {},
          "execution_count": 13
        }
      ]
    },
    {
      "cell_type": "code",
      "source": [
        "## What fraction of adjectives are followed by noun NN"
      ],
      "metadata": {
        "id": "ffsMoEBk3AFm"
      },
      "execution_count": 14,
      "outputs": []
    },
    {
      "cell_type": "code",
      "source": [
        "tags = [pair[1] for pair in tagged_words]\n",
        "## List of JJ tags\n",
        "jj_tags = [t for t in tags if t =='JJ']\n",
        "## list of (JJ,NN ) tags\n",
        "jj_nn_tags = [(t,tags[index + 1]) for index,t in enumerate(tags) if t == 'JJ' and\n",
        "              tags[index +1] == 'NN']\n",
        "print(len(jj_tags))\n",
        "print(len(jj_nn_tags))\n",
        "print(len(jj_nn_tags) / len(jj_tags))            "
      ],
      "metadata": {
        "id": "mQ1JuP3F3SWs",
        "outputId": "44394275-1918-4de4-83c4-b942fb6185da",
        "colab": {
          "base_uri": "https://localhost:8080/"
        }
      },
      "execution_count": null,
      "outputs": [
        {
          "output_type": "stream",
          "name": "stdout",
          "text": [
            "5834\n",
            "2611\n",
            "0.4475488515598217\n"
          ]
        }
      ]
    },
    {
      "cell_type": "code",
      "source": [
        "## Lexicon and Rule based POS tagging \n",
        "## Creating and evaluating lexicon POS tagger\n",
        "## Creating and evaluating rule based tagger\n",
        "## Splitting into train and test\n",
        "random.seed(26)\n",
        "\n",
        "train_set,test_set = train_test_split(corpus,test_size = .30)\n",
        "print(len(train_set))\n",
        "print(len(test_set))\n",
        "print(train_set[:2])"
      ],
      "metadata": {
        "id": "erP4eixSwOHx",
        "outputId": "453f8ce6-2d51-45bd-e3b9-2311c8815025",
        "colab": {
          "base_uri": "https://localhost:8080/"
        }
      },
      "execution_count": 15,
      "outputs": [
        {
          "output_type": "stream",
          "name": "stdout",
          "text": [
            "2739\n",
            "1175\n",
            "[[('It', 'PRP'), ('shed', 'VBD'), ('about', 'IN'), ('7', 'CD'), ('pence', 'NN'), (',', ','), ('however', 'RB'), (',', ','), ('after', 'IN'), ('dealers', 'NNS'), ('said', 'VBD'), ('0', '-NONE-'), ('the', 'DT'), ('market', 'NN'), ('was', 'VBD'), ('disappointed', 'VBN'), ('that', 'IN'), ('Ford', 'NNP'), ('did', 'VBD'), (\"n't\", 'RB'), ('move', 'VB'), ('*-1', '-NONE-'), ('to', 'TO'), ('tender', 'VB'), ('a', 'DT'), ('bid', 'NN'), ('for', 'IN'), ('control', 'NN'), ('of', 'IN'), ('the', 'DT'), ('company', 'NN'), ('.', '.')], [('A', 'DT'), ('survey', 'NN'), ('by', 'IN'), ('the', 'DT'), ('Federal', 'NNP'), ('Reserve', 'NNP'), (\"'s\", 'POS'), ('12', 'CD'), ('district', 'NN'), ('banks', 'NNS'), ('and', 'CC'), ('the', 'DT'), ('latest', 'JJS'), ('report', 'NN'), ('by', 'IN'), ('the', 'DT'), ('National', 'NNP'), ('Association', 'NNP'), ('of', 'IN'), ('Purchasing', 'NNP'), ('Management', 'NNP'), ('blurred', 'VBD'), ('that', 'DT'), ('picture', 'NN'), ('of', 'IN'), ('the', 'DT'), ('economy', 'NN'), ('.', '.')]]\n"
          ]
        }
      ]
    },
    {
      "cell_type": "code",
      "source": [
        "## Lexicon Tagger\n",
        "# In NLTK UnigramTagger() can be used to train such lexicon based tagger model.\n",
        "unigram_tagger = nltk.UnigramTagger(train_set)\n",
        "unigram_tagger.evaluate(test_set)"
      ],
      "metadata": {
        "id": "2MgDvoT39r5_",
        "outputId": "7afdd4d4-517f-4b72-b72b-757c6476b87f",
        "colab": {
          "base_uri": "https://localhost:8080/"
        }
      },
      "execution_count": 16,
      "outputs": [
        {
          "output_type": "execute_result",
          "data": {
            "text/plain": [
              "0.8731407134395156"
            ]
          },
          "metadata": {},
          "execution_count": 16
        }
      ]
    },
    {
      "cell_type": "code",
      "source": [
        "## Rule Based (Regular Expression ) Tagger\n",
        "patterns = [\n",
        "            (r'.*ing$','VBG'), # gerund\n",
        "            (r'.*ed$', 'VBD'), #past tense\n",
        "            (r'.*es$','VBZ'), #3rd singular present\n",
        "            (r'.*ould$','MD'), # Modals\n",
        "            (r'.*\\'s$','NN$'), ## Possesive noun\n",
        "            (r'.*s$','NNS'), ## plural nons\n",
        "            (r'^-?[0-9]+(.[0-9]+)?$','CD'), ## cardinal numbers\n",
        "            (r'.*','NN') ## Nouns\n",
        "]"
      ],
      "metadata": {
        "id": "F97Xb0Bi-fDv"
      },
      "execution_count": 17,
      "outputs": []
    },
    {
      "cell_type": "code",
      "source": [
        "regexp_tagger = nltk.RegexpTagger(patterns)\n",
        "regexp_tagger.evaluate(test_set)"
      ],
      "metadata": {
        "id": "ZuzW99KYBE2Q",
        "outputId": "da487d29-051d-403f-c879-18842b7e28db",
        "colab": {
          "base_uri": "https://localhost:8080/"
        }
      },
      "execution_count": 18,
      "outputs": [
        {
          "output_type": "execute_result",
          "data": {
            "text/plain": [
              "0.21834276688166382"
            ]
          },
          "metadata": {},
          "execution_count": 18
        }
      ]
    },
    {
      "cell_type": "code",
      "source": [
        "## Combination Taggers\n",
        "## Rule based tagger on top of lexicon tagger\n",
        "rule_based_tagger = nltk.RegexpTagger(patterns)\n",
        "\n",
        "## Lexicon backed up by rule based tagger\n",
        "lexicon_tagger = nltk.UnigramTagger(train_set, backoff = rule_based_tagger)\n",
        "lexicon_tagger.evaluate(test_set)\n"
      ],
      "metadata": {
        "id": "51yBz2xNBcsL",
        "outputId": "0a781cda-322f-4085-a8ae-85d11a3651f9",
        "colab": {
          "base_uri": "https://localhost:8080/"
        }
      },
      "execution_count": 19,
      "outputs": [
        {
          "output_type": "execute_result",
          "data": {
            "text/plain": [
              "0.9059497169935501"
            ]
          },
          "metadata": {},
          "execution_count": 19
        }
      ]
    }
  ]
}