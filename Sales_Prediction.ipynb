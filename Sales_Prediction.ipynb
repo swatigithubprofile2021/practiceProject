{
 "cells": [
  {
   "cell_type": "code",
   "execution_count": 67,
   "id": "e28b1285",
   "metadata": {},
   "outputs": [],
   "source": [
    "import pandas as  pd\n",
    "import numpy as np\n",
    "import seaborn as sns\n",
    "import matplotlib.pyplot as plt\n",
    "import warnings\n",
    "warnings.filterwarnings(\"ignore\")\n",
    "from sklearn.model_selection import train_test_split\n",
    "from sklearn.preprocessing import StandardScaler\n",
    "from sklearn.linear_model import LinearRegression\n",
    "from sklearn.metrics import r2_score\n",
    "from sklearn.ensemble import RandomForestRegressor\n",
    "from sklearn.tree import DecisionTreeRegressor\n",
    "from sklearn.neighbors import KNeighborsRegressor\n",
    "from sklearn.model_selection import GridSearchCV\n",
    "from sklearn.linear_model import Ridge,RidgeCV\n",
    "from sklearn.model_selection import cross_val_score\n",
    "\n",
    "\n",
    "\n",
    "\n",
    "import pickle\n",
    "\n"
   ]
  },
  {
   "cell_type": "code",
   "execution_count": 54,
   "id": "a6de2300",
   "metadata": {},
   "outputs": [],
   "source": [
    "### Loading dataset\n",
    "sales_df = pd.read_csv(\"C:/Users/swati/Downloads/DSData-master/DSData-master/Advertising.csv\")"
   ]
  },
  {
   "cell_type": "code",
   "execution_count": 12,
   "id": "eadba771",
   "metadata": {},
   "outputs": [
    {
     "data": {
      "text/html": [
       "<div>\n",
       "<style scoped>\n",
       "    .dataframe tbody tr th:only-of-type {\n",
       "        vertical-align: middle;\n",
       "    }\n",
       "\n",
       "    .dataframe tbody tr th {\n",
       "        vertical-align: top;\n",
       "    }\n",
       "\n",
       "    .dataframe thead th {\n",
       "        text-align: right;\n",
       "    }\n",
       "</style>\n",
       "<table border=\"1\" class=\"dataframe\">\n",
       "  <thead>\n",
       "    <tr style=\"text-align: right;\">\n",
       "      <th></th>\n",
       "      <th>Unnamed: 0</th>\n",
       "      <th>TV</th>\n",
       "      <th>radio</th>\n",
       "      <th>newspaper</th>\n",
       "      <th>sales</th>\n",
       "    </tr>\n",
       "  </thead>\n",
       "  <tbody>\n",
       "    <tr>\n",
       "      <th>0</th>\n",
       "      <td>1</td>\n",
       "      <td>230.1</td>\n",
       "      <td>37.8</td>\n",
       "      <td>69.2</td>\n",
       "      <td>22.1</td>\n",
       "    </tr>\n",
       "    <tr>\n",
       "      <th>1</th>\n",
       "      <td>2</td>\n",
       "      <td>44.5</td>\n",
       "      <td>39.3</td>\n",
       "      <td>45.1</td>\n",
       "      <td>10.4</td>\n",
       "    </tr>\n",
       "    <tr>\n",
       "      <th>2</th>\n",
       "      <td>3</td>\n",
       "      <td>17.2</td>\n",
       "      <td>45.9</td>\n",
       "      <td>69.3</td>\n",
       "      <td>9.3</td>\n",
       "    </tr>\n",
       "    <tr>\n",
       "      <th>3</th>\n",
       "      <td>4</td>\n",
       "      <td>151.5</td>\n",
       "      <td>41.3</td>\n",
       "      <td>58.5</td>\n",
       "      <td>18.5</td>\n",
       "    </tr>\n",
       "    <tr>\n",
       "      <th>4</th>\n",
       "      <td>5</td>\n",
       "      <td>180.8</td>\n",
       "      <td>10.8</td>\n",
       "      <td>58.4</td>\n",
       "      <td>12.9</td>\n",
       "    </tr>\n",
       "  </tbody>\n",
       "</table>\n",
       "</div>"
      ],
      "text/plain": [
       "   Unnamed: 0     TV  radio  newspaper  sales\n",
       "0           1  230.1   37.8       69.2   22.1\n",
       "1           2   44.5   39.3       45.1   10.4\n",
       "2           3   17.2   45.9       69.3    9.3\n",
       "3           4  151.5   41.3       58.5   18.5\n",
       "4           5  180.8   10.8       58.4   12.9"
      ]
     },
     "execution_count": 12,
     "metadata": {},
     "output_type": "execute_result"
    }
   ],
   "source": [
    "### Showing top 5 rows of dataset\n",
    "sales_df.head()"
   ]
  },
  {
   "cell_type": "code",
   "execution_count": 13,
   "id": "7e2cb3d4",
   "metadata": {},
   "outputs": [
    {
     "data": {
      "text/html": [
       "<div>\n",
       "<style scoped>\n",
       "    .dataframe tbody tr th:only-of-type {\n",
       "        vertical-align: middle;\n",
       "    }\n",
       "\n",
       "    .dataframe tbody tr th {\n",
       "        vertical-align: top;\n",
       "    }\n",
       "\n",
       "    .dataframe thead th {\n",
       "        text-align: right;\n",
       "    }\n",
       "</style>\n",
       "<table border=\"1\" class=\"dataframe\">\n",
       "  <thead>\n",
       "    <tr style=\"text-align: right;\">\n",
       "      <th></th>\n",
       "      <th>Unnamed: 0</th>\n",
       "      <th>TV</th>\n",
       "      <th>radio</th>\n",
       "      <th>newspaper</th>\n",
       "      <th>sales</th>\n",
       "    </tr>\n",
       "  </thead>\n",
       "  <tbody>\n",
       "    <tr>\n",
       "      <th>30</th>\n",
       "      <td>31</td>\n",
       "      <td>292.9</td>\n",
       "      <td>28.3</td>\n",
       "      <td>43.2</td>\n",
       "      <td>21.4</td>\n",
       "    </tr>\n",
       "    <tr>\n",
       "      <th>186</th>\n",
       "      <td>187</td>\n",
       "      <td>139.5</td>\n",
       "      <td>2.1</td>\n",
       "      <td>26.6</td>\n",
       "      <td>10.3</td>\n",
       "    </tr>\n",
       "    <tr>\n",
       "      <th>103</th>\n",
       "      <td>104</td>\n",
       "      <td>187.9</td>\n",
       "      <td>17.2</td>\n",
       "      <td>17.9</td>\n",
       "      <td>14.7</td>\n",
       "    </tr>\n",
       "    <tr>\n",
       "      <th>168</th>\n",
       "      <td>169</td>\n",
       "      <td>215.4</td>\n",
       "      <td>23.6</td>\n",
       "      <td>57.6</td>\n",
       "      <td>17.1</td>\n",
       "    </tr>\n",
       "    <tr>\n",
       "      <th>37</th>\n",
       "      <td>38</td>\n",
       "      <td>74.7</td>\n",
       "      <td>49.4</td>\n",
       "      <td>45.7</td>\n",
       "      <td>14.7</td>\n",
       "    </tr>\n",
       "    <tr>\n",
       "      <th>88</th>\n",
       "      <td>89</td>\n",
       "      <td>88.3</td>\n",
       "      <td>25.5</td>\n",
       "      <td>73.4</td>\n",
       "      <td>12.9</td>\n",
       "    </tr>\n",
       "    <tr>\n",
       "      <th>153</th>\n",
       "      <td>154</td>\n",
       "      <td>171.3</td>\n",
       "      <td>39.7</td>\n",
       "      <td>37.7</td>\n",
       "      <td>19.0</td>\n",
       "    </tr>\n",
       "    <tr>\n",
       "      <th>79</th>\n",
       "      <td>80</td>\n",
       "      <td>116.0</td>\n",
       "      <td>7.7</td>\n",
       "      <td>23.1</td>\n",
       "      <td>11.0</td>\n",
       "    </tr>\n",
       "    <tr>\n",
       "      <th>189</th>\n",
       "      <td>190</td>\n",
       "      <td>18.7</td>\n",
       "      <td>12.1</td>\n",
       "      <td>23.4</td>\n",
       "      <td>6.7</td>\n",
       "    </tr>\n",
       "    <tr>\n",
       "      <th>124</th>\n",
       "      <td>125</td>\n",
       "      <td>229.5</td>\n",
       "      <td>32.3</td>\n",
       "      <td>74.2</td>\n",
       "      <td>19.7</td>\n",
       "    </tr>\n",
       "  </tbody>\n",
       "</table>\n",
       "</div>"
      ],
      "text/plain": [
       "     Unnamed: 0     TV  radio  newspaper  sales\n",
       "30           31  292.9   28.3       43.2   21.4\n",
       "186         187  139.5    2.1       26.6   10.3\n",
       "103         104  187.9   17.2       17.9   14.7\n",
       "168         169  215.4   23.6       57.6   17.1\n",
       "37           38   74.7   49.4       45.7   14.7\n",
       "88           89   88.3   25.5       73.4   12.9\n",
       "153         154  171.3   39.7       37.7   19.0\n",
       "79           80  116.0    7.7       23.1   11.0\n",
       "189         190   18.7   12.1       23.4    6.7\n",
       "124         125  229.5   32.3       74.2   19.7"
      ]
     },
     "execution_count": 13,
     "metadata": {},
     "output_type": "execute_result"
    }
   ],
   "source": [
    "#### Showing random 10 rows to take more idea about data set:-\n",
    "sales_df.sample(10)"
   ]
  },
  {
   "cell_type": "markdown",
   "id": "6eadaf25",
   "metadata": {},
   "source": [
    "As we can see Unnamed: 0 column is nothing but an index or serial number,and it can not help  to  predict sales,so dropping this \n",
    "column.    "
   ]
  },
  {
   "cell_type": "code",
   "execution_count": 14,
   "id": "d1baf228",
   "metadata": {},
   "outputs": [],
   "source": [
    "sales_df.drop(['Unnamed: 0'],axis=1,inplace = True)"
   ]
  },
  {
   "cell_type": "code",
   "execution_count": 15,
   "id": "0a435e2a",
   "metadata": {},
   "outputs": [
    {
     "data": {
      "text/plain": [
       "(200, 4)"
      ]
     },
     "execution_count": 15,
     "metadata": {},
     "output_type": "execute_result"
    }
   ],
   "source": [
    "## Size of dataframe:\n",
    "sales_df.shape"
   ]
  },
  {
   "cell_type": "code",
   "execution_count": 17,
   "id": "dbd68651",
   "metadata": {},
   "outputs": [
    {
     "name": "stdout",
     "output_type": "stream",
     "text": [
      "<class 'pandas.core.frame.DataFrame'>\n",
      "RangeIndex: 200 entries, 0 to 199\n",
      "Data columns (total 4 columns):\n",
      " #   Column     Non-Null Count  Dtype  \n",
      "---  ------     --------------  -----  \n",
      " 0   TV         200 non-null    float64\n",
      " 1   radio      200 non-null    float64\n",
      " 2   newspaper  200 non-null    float64\n",
      " 3   sales      200 non-null    float64\n",
      "dtypes: float64(4)\n",
      "memory usage: 6.4 KB\n"
     ]
    }
   ],
   "source": [
    "##  Checking Data Type and column name information :\n",
    "sales_df.info()"
   ]
  },
  {
   "cell_type": "markdown",
   "id": "a6d3dcf9",
   "metadata": {},
   "source": [
    "As we can see all column data types are float and int type and there is not any null value present."
   ]
  },
  {
   "cell_type": "code",
   "execution_count": 16,
   "id": "9d03ae90",
   "metadata": {},
   "outputs": [
    {
     "data": {
      "text/plain": [
       "TV           0\n",
       "radio        0\n",
       "newspaper    0\n",
       "sales        0\n",
       "dtype: int64"
      ]
     },
     "execution_count": 16,
     "metadata": {},
     "output_type": "execute_result"
    }
   ],
   "source": [
    "#######Checking null values using isnull() method:-\n",
    "sales_df.isnull().sum()"
   ]
  },
  {
   "cell_type": "markdown",
   "id": "62ba9d23",
   "metadata": {},
   "source": [
    "As we can see there is not any null value."
   ]
  },
  {
   "cell_type": "code",
   "execution_count": 36,
   "id": "45c7d7a9",
   "metadata": {},
   "outputs": [
    {
     "data": {
      "text/html": [
       "<div>\n",
       "<style scoped>\n",
       "    .dataframe tbody tr th:only-of-type {\n",
       "        vertical-align: middle;\n",
       "    }\n",
       "\n",
       "    .dataframe tbody tr th {\n",
       "        vertical-align: top;\n",
       "    }\n",
       "\n",
       "    .dataframe thead th {\n",
       "        text-align: right;\n",
       "    }\n",
       "</style>\n",
       "<table border=\"1\" class=\"dataframe\">\n",
       "  <thead>\n",
       "    <tr style=\"text-align: right;\">\n",
       "      <th></th>\n",
       "      <th>TV</th>\n",
       "      <th>radio</th>\n",
       "      <th>newspaper</th>\n",
       "      <th>sales</th>\n",
       "    </tr>\n",
       "  </thead>\n",
       "  <tbody>\n",
       "    <tr>\n",
       "      <th>count</th>\n",
       "      <td>200.000000</td>\n",
       "      <td>200.000000</td>\n",
       "      <td>200.000000</td>\n",
       "      <td>200.000000</td>\n",
       "    </tr>\n",
       "    <tr>\n",
       "      <th>mean</th>\n",
       "      <td>147.042500</td>\n",
       "      <td>23.264000</td>\n",
       "      <td>30.554000</td>\n",
       "      <td>14.022500</td>\n",
       "    </tr>\n",
       "    <tr>\n",
       "      <th>std</th>\n",
       "      <td>85.854236</td>\n",
       "      <td>14.846809</td>\n",
       "      <td>21.778621</td>\n",
       "      <td>5.217457</td>\n",
       "    </tr>\n",
       "    <tr>\n",
       "      <th>min</th>\n",
       "      <td>0.700000</td>\n",
       "      <td>0.000000</td>\n",
       "      <td>0.300000</td>\n",
       "      <td>1.600000</td>\n",
       "    </tr>\n",
       "    <tr>\n",
       "      <th>25%</th>\n",
       "      <td>74.375000</td>\n",
       "      <td>9.975000</td>\n",
       "      <td>12.750000</td>\n",
       "      <td>10.375000</td>\n",
       "    </tr>\n",
       "    <tr>\n",
       "      <th>50%</th>\n",
       "      <td>149.750000</td>\n",
       "      <td>22.900000</td>\n",
       "      <td>25.750000</td>\n",
       "      <td>12.900000</td>\n",
       "    </tr>\n",
       "    <tr>\n",
       "      <th>75%</th>\n",
       "      <td>218.825000</td>\n",
       "      <td>36.525000</td>\n",
       "      <td>45.100000</td>\n",
       "      <td>17.400000</td>\n",
       "    </tr>\n",
       "    <tr>\n",
       "      <th>max</th>\n",
       "      <td>296.400000</td>\n",
       "      <td>49.600000</td>\n",
       "      <td>114.000000</td>\n",
       "      <td>27.000000</td>\n",
       "    </tr>\n",
       "  </tbody>\n",
       "</table>\n",
       "</div>"
      ],
      "text/plain": [
       "               TV       radio   newspaper       sales\n",
       "count  200.000000  200.000000  200.000000  200.000000\n",
       "mean   147.042500   23.264000   30.554000   14.022500\n",
       "std     85.854236   14.846809   21.778621    5.217457\n",
       "min      0.700000    0.000000    0.300000    1.600000\n",
       "25%     74.375000    9.975000   12.750000   10.375000\n",
       "50%    149.750000   22.900000   25.750000   12.900000\n",
       "75%    218.825000   36.525000   45.100000   17.400000\n",
       "max    296.400000   49.600000  114.000000   27.000000"
      ]
     },
     "execution_count": 36,
     "metadata": {},
     "output_type": "execute_result"
    }
   ],
   "source": [
    "\n",
    "sales_df.describe(include='all')\n"
   ]
  },
  {
   "cell_type": "code",
   "execution_count": 23,
   "id": "23bade6d",
   "metadata": {},
   "outputs": [
    {
     "data": {
      "image/png": "[encoded data removed]",
      "text/plain": [
       "<Figure size 864x720 with 3 Axes>"
      ]
     },
     "metadata": {},
     "output_type": "display_data"
    }
   ],
   "source": [
    "#### Checking data distribution in columns:\n",
    "plt.figure(figsize=(12,10),facecolor='b')\n",
    "plotnumber =1\n",
    "for column in sales_df :\n",
    "    if plotnumber <=3:\n",
    "        ax = plt.subplot(1,3,plotnumber)\n",
    "        sns.distplot(sales_df[column])\n",
    "        plt.xlabel(column,fontsize=20)\n",
    "        plotnumber +=1\n",
    "plt.show()    "
   ]
  },
  {
   "cell_type": "code",
   "execution_count": 24,
   "id": "51987886",
   "metadata": {},
   "outputs": [
    {
     "data": {
      "text/plain": [
       "<AxesSubplot:xlabel='TV', ylabel='sales'>"
      ]
     },
     "execution_count": 24,
     "metadata": {},
     "output_type": "execute_result"
    },
    {
     "data": {
      "image/png": "[encoded data removed]",
      "text/plain": [
       "<Figure size 432x288 with 1 Axes>"
      ]
     },
     "metadata": {
      "needs_background": "light"
     },
     "output_type": "display_data"
    }
   ],
   "source": [
    "### Checking  Tv feature relationship with label sales:\n",
    "sns.scatterplot(x=sales_df['TV'],y=sales_df['sales'],data =sales_df)\n"
   ]
  },
  {
   "cell_type": "markdown",
   "id": "a1ed1e92",
   "metadata": {},
   "source": [
    "As we can see there is a positive relationship between TV and sales,if we spend more on TV advertising ,sales increases."
   ]
  },
  {
   "cell_type": "code",
   "execution_count": 25,
   "id": "73e91d85",
   "metadata": {},
   "outputs": [
    {
     "data": {
      "text/plain": [
       "<AxesSubplot:xlabel='radio', ylabel='sales'>"
      ]
     },
     "execution_count": 25,
     "metadata": {},
     "output_type": "execute_result"
    },
    {
     "data": {
      "image/png": "[encoded data removed]",
      "text/plain": [
       "<Figure size 432x288 with 1 Axes>"
      ]
     },
     "metadata": {
      "needs_background": "light"
     },
     "output_type": "display_data"
    }
   ],
   "source": [
    "### Checking  radio feature relationship with label sales:\n",
    "sns.scatterplot(x=sales_df['radio'],y=sales_df['sales'],data =sales_df)\n"
   ]
  },
  {
   "cell_type": "markdown",
   "id": "7684d384",
   "metadata": {},
   "source": [
    "As we can see there is a positive relationship between radio and sales,if we spend more on radio advertising ,sales increases."
   ]
  },
  {
   "cell_type": "code",
   "execution_count": 26,
   "id": "48a62376",
   "metadata": {},
   "outputs": [
    {
     "data": {
      "text/plain": [
       "<AxesSubplot:xlabel='newspaper', ylabel='sales'>"
      ]
     },
     "execution_count": 26,
     "metadata": {},
     "output_type": "execute_result"
    },
    {
     "data": {
      "image/png": "[encoded data removed]",
      "text/plain": [
       "<Figure size 432x288 with 1 Axes>"
      ]
     },
     "metadata": {
      "needs_background": "light"
     },
     "output_type": "display_data"
    }
   ],
   "source": [
    "### Checking  newspaper feature relationship with label sales:\n",
    "sns.scatterplot(x=sales_df['newspaper'],y=sales_df['sales'],data =sales_df)\n"
   ]
  },
  {
   "cell_type": "markdown",
   "id": "9a36e0a7",
   "metadata": {},
   "source": [
    "As we can see there is  not any  sprcific relationship between newspaper and sales."
   ]
  },
  {
   "cell_type": "code",
   "execution_count": 32,
   "id": "e186f531",
   "metadata": {},
   "outputs": [
    {
     "data": {
      "text/plain": [
       "<AxesSubplot:>"
      ]
     },
     "execution_count": 32,
     "metadata": {},
     "output_type": "execute_result"
    },
    {
     "data": {
      "image/png": "[encoded data removed]",
      "text/plain": [
       "<Figure size 360x360 with 2 Axes>"
      ]
     },
     "metadata": {
      "needs_background": "light"
     },
     "output_type": "display_data"
    }
   ],
   "source": [
    "###Checking Correlation:\n",
    "plt.figure(figsize=(5,5))\n",
    "sns.heatmap(sales_df.corr(),annot =True)\n",
    "    "
   ]
  },
  {
   "cell_type": "markdown",
   "id": "63b1ff78",
   "metadata": {},
   "source": [
    "As from above heatmap,we can see TV and radio correlation with sales is more than 50% where as newspaper has very weak \n",
    "relationship  with sales."
   ]
  },
  {
   "cell_type": "code",
   "execution_count": 37,
   "id": "a7f10003",
   "metadata": {},
   "outputs": [
    {
     "data": {
      "text/plain": [
       "TV          -0.069853\n",
       "radio        0.094175\n",
       "newspaper    0.894720\n",
       "sales        0.407571\n",
       "dtype: float64"
      ]
     },
     "execution_count": 37,
     "metadata": {},
     "output_type": "execute_result"
    }
   ],
   "source": [
    "## Checking skewness:-\n",
    "sales_df.skew()"
   ]
  },
  {
   "cell_type": "code",
   "execution_count": null,
   "id": "fadfbae8",
   "metadata": {},
   "outputs": [],
   "source": [
    "As we can see data ranges between +/- 1,so will not remove skewness."
   ]
  },
  {
   "cell_type": "code",
   "execution_count": 40,
   "id": "f6ed4252",
   "metadata": {},
   "outputs": [
    {
     "data": {
      "image/png": "[encoded data removed]",
      "text/plain": [
       "<Figure size 864x720 with 3 Axes>"
      ]
     },
     "metadata": {},
     "output_type": "display_data"
    }
   ],
   "source": [
    "###Checking outliers:-\n",
    "plt.figure(figsize=(12,10),facecolor='b')\n",
    "plotnumber =1\n",
    "for column in sales_df :\n",
    "    if plotnumber <=3:\n",
    "        ax = plt.subplot(1,3,plotnumber)\n",
    "        sns.boxplot(sales_df[column],orient = 'h')\n",
    "        plt.xlabel(column,fontsize=20)\n",
    "        plotnumber +=1\n",
    "plt.show()    \n"
   ]
  },
  {
   "cell_type": "code",
   "execution_count": null,
   "id": "d697ca64",
   "metadata": {},
   "outputs": [],
   "source": [
    "from above graph we can see there is not any outliers in TV and radio data,and 2 data points are appeared close to viscus and as outliers \n",
    "since we have very less data,so will not remove it."
   ]
  },
  {
   "cell_type": "code",
   "execution_count": 46,
   "id": "8115b47a",
   "metadata": {},
   "outputs": [],
   "source": [
    "### Splitting Features and Label:-\n",
    "x = sales_df.drop('sales',axis=1)\n",
    "y = sales_df['sales']"
   ]
  },
  {
   "cell_type": "code",
   "execution_count": 47,
   "id": "33ab8527",
   "metadata": {},
   "outputs": [
    {
     "data": {
      "text/plain": [
       "(200, 4)"
      ]
     },
     "execution_count": 47,
     "metadata": {},
     "output_type": "execute_result"
    }
   ],
   "source": [
    "## Checking shape of X\n",
    "x.shape"
   ]
  },
  {
   "cell_type": "code",
   "execution_count": 48,
   "id": "5057c8e1",
   "metadata": {},
   "outputs": [
    {
     "data": {
      "text/plain": [
       "(200,)"
      ]
     },
     "execution_count": 48,
     "metadata": {},
     "output_type": "execute_result"
    }
   ],
   "source": [
    "## Checking shape of y:\n",
    "y.shape"
   ]
  },
  {
   "cell_type": "code",
   "execution_count": 49,
   "id": "e6d9cef8",
   "metadata": {},
   "outputs": [
    {
     "data": {
      "text/plain": [
       "array([[-1.72341210e+00,  9.69852266e-01,  9.81522472e-01,\n",
       "         1.77894547e+00],\n",
       "       [-1.70609137e+00, -1.19737623e+00,  1.08280781e+00,\n",
       "         6.69578760e-01],\n",
       "       [-1.68877065e+00, -1.51615499e+00,  1.52846331e+00,\n",
       "         1.78354865e+00],\n",
       "       [-1.67144992e+00,  5.20496822e-02,  1.21785493e+00,\n",
       "         1.28640506e+00],\n",
       "       [-1.65412920e+00,  3.94182198e-01, -8.41613655e-01,\n",
       "         1.28180188e+00],\n",
       "       [-1.63680847e+00, -1.61540845e+00,  1.73103399e+00,\n",
       "         2.04592999e+00],\n",
       "       [-1.61948775e+00, -1.04557682e+00,  6.43904671e-01,\n",
       "        -3.24708413e-01],\n",
       "       [-1.60216702e+00, -3.13436589e-01, -2.47406325e-01,\n",
       "        -8.72486994e-01],\n",
       "       [-1.58484630e+00, -1.61657614e+00, -1.42906863e+00,\n",
       "        -1.36042422e+00],\n",
       "       [-1.56752558e+00,  6.16042873e-01, -1.39530685e+00,\n",
       "        -4.30581584e-01],\n",
       "       [-1.55020485e+00, -9.45155670e-01, -1.17923146e+00,\n",
       "        -2.92486143e-01],\n",
       "       [-1.53288413e+00,  7.90028350e-01,  4.96973404e-02,\n",
       "        -1.22232878e+00],\n",
       "       [-1.51556340e+00, -1.43908760e+00,  7.99208859e-01,\n",
       "         1.62704048e+00],\n",
       "       [-1.49824268e+00, -5.78501712e-01, -1.05768905e+00,\n",
       "        -1.07502697e+00],\n",
       "       [-1.48092195e+00,  6.66253447e-01,  6.50657027e-01,\n",
       "         7.11007392e-01],\n",
       "       [-1.46360123e+00,  5.64664612e-01,  1.65000572e+00,\n",
       "         1.02862691e+00],\n",
       "       [-1.44628050e+00, -9.25304978e-01,  9.00494200e-01,\n",
       "         3.84117072e+00],\n",
       "       [-1.42895978e+00,  1.56887609e+00,  1.10306488e+00,\n",
       "         1.16211917e+00],\n",
       "       [-1.41163905e+00, -9.08957349e-01, -1.86635121e-01,\n",
       "        -5.64073843e-01],\n",
       "       [-1.39431833e+00,  3.00679600e-03,  4.29449843e-02,\n",
       "        -5.27248393e-01],\n",
       "       [-1.37699760e+00,  8.33232798e-01,  2.99534513e-01,\n",
       "         1.05164281e+00],\n",
       "       [-1.35967688e+00,  1.05509347e+00, -1.22649795e+00,\n",
       "        -3.24708413e-01],\n",
       "       [-1.34235616e+00, -1.56286250e+00, -4.97243498e-01,\n",
       "         8.76721921e-01],\n",
       "       [-1.32503543e+00,  9.48833887e-01, -4.29719938e-01,\n",
       "        -2.00422516e-01],\n",
       "       [-1.30771471e+00, -9.89527805e-01, -7.20071247e-01,\n",
       "        -5.64073843e-01],\n",
       "       [-1.29039398e+00,  1.35285385e+00, -1.33453565e+00,\n",
       "        -5.08835667e-01],\n",
       "       [-1.27307326e+00, -4.83714657e-02,  4.07572210e-01,\n",
       "        -8.26455181e-01],\n",
       "       [-1.25575253e+00,  1.08662104e+00, -4.43224650e-01,\n",
       "        -3.52327501e-01],\n",
       "       [-1.23843181e+00,  1.18820988e+00,  2.59020377e-01,\n",
       "        -3.52327501e-01],\n",
       "       [-1.22111108e+00, -8.92609721e-01, -4.90491142e-01,\n",
       "         4.71641962e-01],\n",
       "       [-1.20379036e+00,  1.70316018e+00,  3.40048650e-01,\n",
       "         5.82118314e-01],\n",
       "       [-1.18646963e+00, -3.98677796e-01, -3.95958157e-01,\n",
       "         3.70371972e-01],\n",
       "       [-1.16914891e+00, -5.82004775e-01, -1.46958277e+00,\n",
       "        -2.55016247e-02],\n",
       "       [-1.15182818e+00,  1.38438142e+00, -2.20396901e-01,\n",
       "        -1.39264649e+00],\n",
       "       [-1.13450746e+00, -5.99520091e-01, -1.47633512e+00,\n",
       "        -1.06582061e+00],\n",
       "       [-1.11718674e+00,  1.67747105e+00, -1.29402151e+00,\n",
       "        -1.01518562e+00],\n",
       "       [-1.09986601e+00,  1.39956136e+00,  1.38666383e+00,\n",
       "        -1.17629696e+00],\n",
       "       [-1.08254529e+00, -8.44734522e-01,  1.76479577e+00,\n",
       "         6.97197848e-01],\n",
       "       [-1.06522456e+00, -1.21372386e+00,  2.32010953e-01,\n",
       "         2.09260624e-01],\n",
       "       [-1.04790384e+00,  9.45330823e-01,  9.74770116e-01,\n",
       "         6.65620024e-02],\n",
       "       [-1.03058311e+00,  6.47570443e-01, -6.50927121e-02,\n",
       "         4.81492770e-02],\n",
       "       [-1.01326239e+00,  3.49810063e-01,  6.84418807e-01,\n",
       "         3.74975153e-01],\n",
       "       [-9.95941664e-01,  1.71133400e+00,  2.99534513e-01,\n",
       "        -1.32359877e+00],\n",
       "       [-9.78620939e-01,  6.98948705e-01, -1.00367020e+00,\n",
       "        -1.91216154e-01],\n",
       "       [-9.61300215e-01, -1.42390765e+00,  1.64487393e-01,\n",
       "         5.86721496e-01],\n",
       "       [-9.43979490e-01,  3.27623995e-01, -5.15880000e-02,\n",
       "         4.35460956e-02],\n",
       "       [-9.26658765e-01, -6.69581357e-01, -9.02384859e-01,\n",
       "         2.36879713e-01],\n",
       "       [-9.09338041e-01,  1.08428567e+00,  1.23135965e+00,\n",
       "        -5.54867481e-01],\n",
       "       [-8.92017316e-01,  9.35989321e-01, -5.03995854e-01,\n",
       "         8.90531465e-01],\n",
       "       [-8.74696592e-01, -9.35814168e-01, -7.80842451e-01,\n",
       "         2.87514708e-01],\n",
       "       [-8.57375867e-01,  6.16042873e-01, -1.36154507e+00,\n",
       "         1.86244718e-01],\n",
       "       [-8.40055142e-01, -5.44638766e-01, -9.22641928e-01,\n",
       "        -1.24074150e+00],\n",
       "       [-8.22734418e-01,  8.09879042e-01,  1.24486436e+00,\n",
       "         4.16403786e-01],\n",
       "       [-8.05413693e-01,  4.15200577e-01,  1.54872038e+00,\n",
       "         1.29561142e+00],\n",
       "       [-7.88092969e-01,  1.35051848e+00,  3.73810430e-01,\n",
       "        -6.74550196e-01],\n",
       "       [-7.70772244e-01,  6.05533683e-01,  1.76479577e+00,\n",
       "         1.35545278e+00],\n",
       "       [-7.53451519e-01, -1.63175608e+00,  3.26543937e-01,\n",
       "         4.99261050e-01],\n",
       "       [-7.36130795e-01, -1.26606546e-01, -2.74415749e-01,\n",
       "        -6.42327927e-01],\n",
       "       [-7.18810070e-01,  7.44488528e-01,  1.77830048e+00,\n",
       "         3.28943340e-01],\n",
       "       [-7.01489346e-01,  7.43320840e-01,  4.21076922e-01,\n",
       "        -9.78360166e-01],\n",
       "       [-6.84168621e-01, -1.09228433e+00, -1.43582099e+00,\n",
       "        -4.21375221e-01],\n",
       "       [-6.66847897e-01,  1.33417085e+00,  1.31238792e+00,\n",
       "         1.11148417e+00],\n",
       "       [-6.49527172e-01,  1.07727954e+00, -5.24252922e-01,\n",
       "        -1.49787521e-01],\n",
       "       [-6.32206447e-01, -5.17781948e-01,  4.27829278e-01,\n",
       "        -1.01978880e+00],\n",
       "       [-6.14885723e-01, -1.86158622e-01,  1.31914027e+00,\n",
       "        -7.61366196e-02],\n",
       "       [-5.97564998e-01, -9.11292725e-01, -9.42898996e-01,\n",
       "        -1.36502740e+00],\n",
       "       [-5.80244274e-01, -1.34917564e+00,  9.02114765e-02,\n",
       "        -1.30518604e+00],\n",
       "       [-5.62923549e-01, -9.04082253e-02, -5.91776482e-01,\n",
       "        -9.36931533e-01],\n",
       "       [-5.45602824e-01,  1.05509347e+00,  2.86029801e-01,\n",
       "        -9.00106083e-01],\n",
       "       [-5.28282100e-01,  8.14549794e-01,  1.39341619e+00,\n",
       "        -1.54390703e-01],\n",
       "       [-5.10961375e-01,  6.07869059e-01,  4.95352838e-01,\n",
       "         3.74975153e-01],\n",
       "       [-4.93640651e-01, -4.34876116e-01, -6.05281194e-01,\n",
       "         5.27524584e-02],\n",
       "       [-4.76319926e-01, -1.40405696e+00,  6.57409383e-01,\n",
       "        -5.18042030e-01],\n",
       "       [-4.58999202e-01, -2.06009314e-01, -1.18598381e+00,\n",
       "         3.43397329e-02],\n",
       "       [-4.41678477e-01,  7.74848409e-01,  9.02114765e-02,\n",
       "        -8.03439274e-01],\n",
       "       [-4.24357752e-01, -1.51965805e+00,  1.37991148e+00,\n",
       "         2.70878810e+00],\n",
       "       [-4.07037028e-01, -1.39588315e+00, -1.46283041e+00,\n",
       "        -4.53597491e-01],\n",
       "       [-3.89716303e-01, -3.09933525e-01,  3.53553362e-01,\n",
       "        -7.52804279e-01],\n",
       "       [-3.72395579e-01, -1.65394214e+00,  4.48086346e-01,\n",
       "        -9.73756984e-01],\n",
       "       [-3.55074854e-01, -3.62479475e-01, -1.05093669e+00,\n",
       "        -3.43121138e-01],\n",
       "       [-3.37754129e-01, -8.24883830e-01,  2.32010953e-01,\n",
       "        -3.79946589e-01],\n",
       "       [-3.20433405e-01,  1.08311798e+00, -1.29402151e+00,\n",
       "         2.92117889e-01],\n",
       "       [-3.03112680e-01, -8.37728396e-01, -2.00139833e-01,\n",
       "         8.95779092e-02],\n",
       "       [-2.85791956e-01, -9.18298852e-01,  1.43393033e+00,\n",
       "         2.32276531e-01],\n",
       "       [-2.68471231e-01,  7.76016097e-01,  1.33264499e+00,\n",
       "         1.49419267e-01],\n",
       "       [-2.51150506e-01,  5.38975481e-01, -3.28434597e-01,\n",
       "         1.61783412e+00],\n",
       "       [-2.33829782e-01, -8.26051518e-01,  2.86029801e-01,\n",
       "        -6.69947015e-01],\n",
       "       [-2.16509057e-01, -4.24366926e-01,  1.17058844e+00,\n",
       "         1.50275459e+00],\n",
       "       [-1.99188333e-01, -6.85928986e-01,  1.50982681e-01,\n",
       "         1.97227908e+00],\n",
       "       [-1.81867608e-01, -4.34876116e-01,  1.65675807e+00,\n",
       "         9.59579186e-01],\n",
       "       [-1.64546884e-01, -1.48792614e-01, -1.24000266e+00,\n",
       "        -9.78360166e-01],\n",
       "       [-1.47226159e-01, -1.38303858e+00, -1.46958277e+00,\n",
       "         1.12593816e-01],\n",
       "       [-1.29905434e-01,  8.25058983e-01,  6.91171163e-01,\n",
       "         1.30942097e+00],\n",
       "       [-1.12584710e-01,  1.21273132e+00,  8.93741844e-01,\n",
       "         1.92164409e+00],\n",
       "       [-9.52639852e-02, -4.62900623e-01, -6.25538262e-01,\n",
       "        -9.04709264e-01],\n",
       "       [-7.79432606e-02,  1.89836839e-01,  5.62876398e-01,\n",
       "         1.02862691e+00],\n",
       "       [-6.06225361e-02,  5.90353742e-01, -1.33453565e+00,\n",
       "        -1.13486833e+00],\n",
       "       [-4.33018115e-02,  4.42057396e-01, -1.52873340e-01,\n",
       "        -3.93756133e-01],\n",
       "       [-2.59810869e-02,  1.66579418e+00,  1.28537849e+00,\n",
       "         9.50372823e-01],\n",
       "       [-8.66036229e-03, -1.38283424e-01,  1.24486436e+00,\n",
       "         7.06404211e-01],\n",
       "       [ 8.66036229e-03,  8.79940308e-01, -1.28051680e+00,\n",
       "         8.85928284e-01],\n",
       "       [ 2.59810869e-02,  1.74402926e+00,  8.80237132e-01,\n",
       "         3.23815396e+00],\n",
       "       [ 4.33018115e-02,  1.55486384e+00, -8.88880147e-01,\n",
       "        -4.21375221e-01],\n",
       "       [ 6.06225361e-02,  4.77088029e-01, -4.09462869e-01,\n",
       "        -5.82486569e-01],\n",
       "       [ 7.79432606e-02,  1.06443498e+00,  7.45190011e-01,\n",
       "        -1.16248742e+00],\n",
       "       [ 9.52639852e-02, -1.06755854e-01,  1.56222509e+00,\n",
       "         1.30942097e+00],\n",
       "       [ 1.12584710e-01, -1.42507534e+00, -8.28108943e-01,\n",
       "        -3.93111688e-02],\n",
       "       [ 1.29905434e-01, -6.61407543e-01, -1.55061104e+00,\n",
       "        -3.38517957e-01],\n",
       "       [ 1.47226159e-01, -1.56403019e+00, -1.54385868e+00,\n",
       "        -2.28041604e-01],\n",
       "       [ 1.64546884e-01,  1.26527727e+00,  2.45515665e-01,\n",
       "        -1.15328106e+00],\n",
       "       [ 1.81867608e-01,  9.19641692e-01, -1.01717491e+00,\n",
       "         1.19434143e+00],\n",
       "       [ 1.99188333e-01,  1.10530405e+00,  9.95027184e-01,\n",
       "        -3.38517957e-01],\n",
       "       [ 2.16509057e-01,  3.34630122e-01, -5.31005278e-01,\n",
       "        -1.29597968e+00],\n",
       "       [ 2.33829782e-01,  7.30476274e-01, -1.79882765e-01,\n",
       "        -9.13915627e-01],\n",
       "       [ 2.51150506e-01, -8.03865450e-01,  1.58923451e+00,\n",
       "         1.81641536e-01],\n",
       "       [ 2.68471231e-01, -8.40063771e-01,  7.92456503e-01,\n",
       "         1.01942054e+00],\n",
       "       [ 2.85791956e-01, -9.15759131e-02, -6.05281194e-01,\n",
       "        -2.28041604e-01],\n",
       "       [ 3.03112680e-01, -8.24883830e-01, -1.51684926e+00,\n",
       "        -7.25185191e-01],\n",
       "       [ 3.20433405e-01, -2.49213762e-01,  9.20751268e-01,\n",
       "         2.23926360e+00],\n",
       "       [ 3.37754129e-01, -1.49046586e+00, -4.90491142e-01,\n",
       "        -3.79946589e-01],\n",
       "       [ 3.55074854e-01, -6.70544700e-02,  2.38763309e-01,\n",
       "         7.20213755e-01],\n",
       "       [ 3.72395579e-01, -1.49747198e+00, -1.05606848e-01,\n",
       "         9.13547372e-01],\n",
       "       [ 3.89716303e-01,  8.98623313e-01, -1.40881156e+00,\n",
       "        -6.88359740e-01],\n",
       "       [ 4.07037028e-01, -2.79573643e-01,  7.65447079e-01,\n",
       "        -8.35661544e-01],\n",
       "       [ 4.24357752e-01,  9.62846140e-01,  6.10142891e-01,\n",
       "         2.00910454e+00],\n",
       "       [ 4.41678477e-01, -6.98773552e-01, -7.74090095e-01,\n",
       "        -2.14232060e-01],\n",
       "       [ 4.58999202e-01, -1.62591764e+00,  1.05579839e+00,\n",
       "         9.22753735e-01],\n",
       "       [ 4.76319926e-01, -7.80511695e-01, -1.57086811e+00,\n",
       "        -9.82963347e-01],\n",
       "       [ 4.93640651e-01,  8.55418865e-01,  1.73778635e+00,\n",
       "        -1.25915423e+00],\n",
       "       [ 5.10961375e-01, -1.02105537e+00, -7.60585383e-01,\n",
       "         5.77515133e-01],\n",
       "       [ 5.28282100e-01, -1.70882347e+00,  1.10306488e+00,\n",
       "        -1.00597925e+00],\n",
       "       [ 5.45602824e-01,  1.37971067e+00, -1.37504978e+00,\n",
       "         5.72911952e-01],\n",
       "       [ 5.62923549e-01, -1.61891151e+00,  2.65772733e-01,\n",
       "        -1.30978922e+00],\n",
       "       [ 5.80244274e-01,  8.49580427e-01,  6.91171163e-01,\n",
       "         6.69578760e-01],\n",
       "       [ 5.97564998e-01, -1.28612050e+00,  1.03554132e+00,\n",
       "         1.61323094e+00],\n",
       "       [ 6.14885723e-01, -1.15300409e+00,  1.60273923e+00,\n",
       "        -1.01518562e+00],\n",
       "       [ 6.32206447e-01, -1.41806922e+00,  1.06255074e+00,\n",
       "        -9.78360166e-01],\n",
       "       [ 6.49527172e-01,  1.47896413e+00,  3.80562786e-01,\n",
       "         1.34164324e+00],\n",
       "       [ 6.66847897e-01, -1.21489154e+00,  1.77992105e-01,\n",
       "        -4.62803854e-01],\n",
       "       [ 6.84168621e-01,  4.42057396e-01,  1.39341619e+00,\n",
       "        -1.32820195e+00],\n",
       "       [ 7.01489346e-01, -8.59914463e-01, -4.22967582e-01,\n",
       "        -8.12645637e-01],\n",
       "       [ 7.18810070e-01,  5.44813920e-01,  8.19465927e-01,\n",
       "         2.07354907e+00],\n",
       "       [ 7.36130795e-01,  8.57754241e-01,  6.70914095e-01,\n",
       "         3.38149702e-01],\n",
       "       [ 7.53451519e-01, -4.95595880e-01, -1.18598381e+00,\n",
       "         1.77038355e-01],\n",
       "       [ 7.70772244e-01, -5.93681653e-01, -5.71519414e-01,\n",
       "         3.84181516e-01],\n",
       "       [ 7.88092969e-01, -7.87313476e-02, -1.44257334e+00,\n",
       "        -9.92169710e-01],\n",
       "       [ 8.05413693e-01,  1.08662104e+00, -1.07794612e+00,\n",
       "        -1.00597925e+00],\n",
       "       [ 8.22734418e-01,  1.12281936e+00,  1.73778635e+00,\n",
       "         6.32753309e-01],\n",
       "       [ 8.40055142e-01, -1.27327593e+00,  1.15033137e+00,\n",
       "        -8.58677450e-01],\n",
       "       [ 8.57375867e-01, -1.19504085e+00,  1.71239749e-01,\n",
       "        -4.58200672e-01],\n",
       "       [ 8.74696592e-01,  1.56070228e+00, -6.32290618e-01,\n",
       "         2.96721070e-01],\n",
       "       [ 8.92017316e-01, -3.04095087e-01, -1.00367020e+00,\n",
       "         8.35293289e-01],\n",
       "       [ 9.09338041e-01,  5.90353742e-01,  2.43084817e-03,\n",
       "        -7.52804279e-01],\n",
       "       [ 9.26658765e-01,  2.83251860e-01,  1.10981724e+00,\n",
       "         3.28943340e-01],\n",
       "       [ 9.43979490e-01,  4.75920341e-01, -1.46120984e-01,\n",
       "        -9.69153803e-01],\n",
       "       [ 9.61300215e-01, -1.66912209e+00, -7.87594807e-01,\n",
       "        -1.14407469e+00],\n",
       "       [ 9.78620939e-01, -6.20538471e-01,  1.36640677e+00,\n",
       "         9.18150553e-01],\n",
       "       [ 9.95941664e-01,  3.21989902e-02, -1.48308748e+00,\n",
       "        -2.87882962e-01],\n",
       "       [ 1.01326239e+00, -1.58037782e+00,  9.20751268e-01,\n",
       "         6.74181942e-01],\n",
       "       [ 1.03058311e+00, -1.79152496e-01, -3.28434597e-01,\n",
       "         1.86244718e-01],\n",
       "       [ 1.04790384e+00,  2.97264113e-01, -3.48691665e-01,\n",
       "         6.72064478e-03],\n",
       "       [ 1.06522456e+00, -7.16288868e-01,  8.46475352e-01,\n",
       "         8.62912377e-01],\n",
       "       [ 1.08254529e+00,  4.82926468e-01, -3.48691665e-01,\n",
       "        -2.28041604e-01],\n",
       "       [ 1.09986601e+00,  1.92172214e-01,  9.13998912e-01,\n",
       "        -1.06582061e+00],\n",
       "       [ 1.11718674e+00, -3.48467222e-01, -5.78271770e-01,\n",
       "        -1.15788424e+00],\n",
       "       [ 1.13450746e+00,  1.02123053e+00, -1.34128800e+00,\n",
       "         2.49704176e+00],\n",
       "       [ 1.15182818e+00, -1.50798117e+00,  9.68017760e-01,\n",
       "        -4.12168859e-01],\n",
       "       [ 1.16914891e+00,  6.97781017e-01, -1.21974559e+00,\n",
       "        -5.13438849e-01],\n",
       "       [ 1.18646963e+00,  7.98202165e-01,  2.26879163e-02,\n",
       "         1.24497643e+00],\n",
       "       [ 1.20379036e+00,  1.60273904e+00, -8.55118367e-01,\n",
       "        -1.11185242e+00],\n",
       "       [ 1.22111108e+00, -1.13315340e+00, -7.87594807e-01,\n",
       "        -5.59470662e-01],\n",
       "       [ 1.23843181e+00,  2.03849092e-01, -1.59625696e-01,\n",
       "         7.75451931e-01],\n",
       "       [ 1.25575253e+00, -1.48813048e+00, -2.13644545e-01,\n",
       "        -6.23915201e-01],\n",
       "       [ 1.27307326e+00,  2.49388915e-01, -1.09145083e+00,\n",
       "        -8.17248818e-01],\n",
       "       [ 1.29039398e+00,  8.79940308e-01, -1.34128800e+00,\n",
       "        -8.03439274e-01],\n",
       "       [ 1.30771471e+00,  1.51633014e+00,  1.73103399e+00,\n",
       "         5.17673775e-01],\n",
       "       [ 1.32503543e+00,  1.18353913e+00,  4.68343414e-01,\n",
       "        -4.72010216e-01],\n",
       "       [ 1.34235616e+00,  2.70407294e-01, -1.04418434e+00,\n",
       "         2.13863806e-01],\n",
       "       [ 1.35967688e+00,  1.51399477e+00, -1.41556392e+00,\n",
       "        -3.15502050e-01],\n",
       "       [ 1.37699760e+00,  2.16693657e-01, -8.95632503e-01,\n",
       "        -5.96296113e-01],\n",
       "       [ 1.39431833e+00,  1.11601758e-01, -1.39530685e+00,\n",
       "        -1.02439198e+00],\n",
       "       [ 1.41163905e+00,  8.34400486e-01, -1.20624088e+00,\n",
       "        -1.45184340e-01],\n",
       "       [ 1.42895978e+00, -1.06075676e+00, -1.18598381e+00,\n",
       "        -3.93111688e-02],\n",
       "       [ 1.44628050e+00,  1.64127273e+00,  1.33264499e+00,\n",
       "         1.89862818e+00],\n",
       "       [ 1.46360123e+00,  1.24659427e+00, -1.32616272e-01,\n",
       "        -2.55016247e-02],\n",
       "       [ 1.48092195e+00,  6.76762637e-01,  1.47444446e+00,\n",
       "        -5.04232486e-01],\n",
       "       [ 1.49824268e+00, -8.80728498e-02, -1.42906863e+00,\n",
       "        -1.82009791e-01],\n",
       "       [ 1.51556340e+00,  5.14454038e-01,  3.67058074e-01,\n",
       "        -5.68677025e-01],\n",
       "       [ 1.53288413e+00,  1.62258973e+00, -6.32290618e-01,\n",
       "        -1.23613832e+00],\n",
       "       [ 1.55020485e+00, -1.49863967e+00, -7.53833027e-01,\n",
       "        -3.29311594e-01],\n",
       "       [ 1.56752558e+00, -1.25576062e+00,  1.20435022e+00,\n",
       "        -1.13947151e+00],\n",
       "       [ 1.58484630e+00, -8.35393020e-01, -8.41613655e-01,\n",
       "        -1.13026515e+00],\n",
       "       [ 1.60216702e+00, -1.51615499e+00, -1.29402151e+00,\n",
       "         4.81492770e-02],\n",
       "       [ 1.61948775e+00,  2.30705910e-01,  1.26512143e+00,\n",
       "        -1.24074150e+00],\n",
       "       [ 1.63680847e+00,  3.10313024e-02,  8.32970639e-01,\n",
       "        -1.13026515e+00],\n",
       "       [ 1.65412920e+00, -1.27094056e+00, -1.32103093e+00,\n",
       "        -7.71217005e-01],\n",
       "       [ 1.67144992e+00, -6.17035408e-01, -1.24000266e+00,\n",
       "        -1.03359834e+00],\n",
       "       [ 1.68877065e+00,  3.49810063e-01, -9.42898996e-01,\n",
       "        -1.11185242e+00],\n",
       "       [ 1.70609137e+00,  1.59456522e+00,  1.26512143e+00,\n",
       "         1.64085003e+00],\n",
       "       [ 1.72341210e+00,  9.93206022e-01, -9.90165488e-01,\n",
       "        -1.00597925e+00]])"
      ]
     },
     "execution_count": 49,
     "metadata": {},
     "output_type": "execute_result"
    }
   ],
   "source": [
    "### Since data is not scaled between 0 and 1 so scaling data using Standard Scaler:-\n",
    "scaler = StandardScaler()\n",
    "x_scaler = scaler.fit_transform(x)\n",
    "x_scaler"
   ]
  },
  {
   "cell_type": "code",
   "execution_count": 52,
   "id": "f17d1ec9",
   "metadata": {},
   "outputs": [
    {
     "name": "stdout",
     "output_type": "stream",
     "text": [
      "Best Accuracy is : 0.9526488497301869 at random state 151\n"
     ]
    }
   ],
   "source": [
    "######## Finding best random state:-\n",
    "maxAcc = 0\n",
    "maxrs =0\n",
    "for i in range(1,200):\n",
    "    x_train,x_test,y_train,y_test = train_test_split(x_scaler,y,test_size =0.20,random_state =i)\n",
    "    lr = LinearRegression()\n",
    "    lr.fit(x_train,y_train)\n",
    "    pred_test = lr.predict(x_test)\n",
    "    acc = r2_score(y_test,pred_test)\n",
    "    \n",
    "    if acc >maxAcc:\n",
    "        maxAcc=acc\n",
    "        maxrs=i\n",
    "print(\"Best Accuracy is :\",maxAcc,\"at random state\",maxrs)        "
   ]
  },
  {
   "cell_type": "markdown",
   "id": "f453f07f",
   "metadata": {},
   "source": [
    "# Linear Regression"
   ]
  },
  {
   "cell_type": "code",
   "execution_count": 56,
   "id": "934dab1d",
   "metadata": {},
   "outputs": [
    {
     "data": {
      "text/plain": [
       "0.9526488497301869"
      ]
     },
     "execution_count": 56,
     "metadata": {},
     "output_type": "execute_result"
    }
   ],
   "source": [
    "### Creating train test split:-\n",
    "x_train,x_test,y_train,y_test = train_test_split(x_scaler,y,test_size =0.20,random_state =151)\n",
    "lr = LinearRegression()\n",
    "lr.fit(x_train,y_train)\n",
    "pred_test = lr.predict(x_test)\n",
    "acc = r2_score(y_test,pred_test)\n",
    "\n",
    "acc\n",
    "\n"
   ]
  },
  {
   "cell_type": "markdown",
   "id": "f8c29a9d",
   "metadata": {},
   "source": [
    "# Ensemble Technique"
   ]
  },
  {
   "cell_type": "code",
   "execution_count": 58,
   "id": "50844543",
   "metadata": {},
   "outputs": [
    {
     "data": {
      "text/plain": [
       "0.9753425487896157"
      ]
     },
     "execution_count": 58,
     "metadata": {},
     "output_type": "execute_result"
    }
   ],
   "source": [
    "rf = RandomForestRegressor()\n",
    "rf.fit(x_train,y_train)\n",
    "pred_test = rf.predict(x_test)\n",
    "acc = r2_score(y_test,pred_test)\n",
    "\n",
    "acc\n",
    "\n"
   ]
  },
  {
   "cell_type": "markdown",
   "id": "b1fb9608",
   "metadata": {},
   "source": [
    "# KNeighborsRegressor"
   ]
  },
  {
   "cell_type": "code",
   "execution_count": 61,
   "id": "ec57fffc",
   "metadata": {},
   "outputs": [
    {
     "data": {
      "text/plain": [
       "0.895553769834198"
      ]
     },
     "execution_count": 61,
     "metadata": {},
     "output_type": "execute_result"
    }
   ],
   "source": [
    "knr = KNeighborsRegressor()\n",
    "knr.fit(x_train,y_train)\n",
    "pred_test = knr.predict(x_test)\n",
    "acc = r2_score(y_test,pred_test)\n",
    "\n",
    "acc\n"
   ]
  },
  {
   "cell_type": "markdown",
   "id": "7055a70e",
   "metadata": {},
   "source": [
    "# DecisionTreeRegressor"
   ]
  },
  {
   "cell_type": "code",
   "execution_count": 62,
   "id": "a663c3e3",
   "metadata": {},
   "outputs": [
    {
     "data": {
      "text/plain": [
       "0.9413439137323772"
      ]
     },
     "execution_count": 62,
     "metadata": {},
     "output_type": "execute_result"
    }
   ],
   "source": [
    "dtr = DecisionTreeRegressor()\n",
    "dtr.fit(x_train,y_train)\n",
    "pred_test = dtr.predict(x_test)\n",
    "acc = r2_score(y_test,pred_test)\n",
    "\n",
    "acc\n",
    "\n"
   ]
  },
  {
   "cell_type": "markdown",
   "id": "7ea5a34b",
   "metadata": {},
   "source": [
    "# Ridge Regression"
   ]
  },
  {
   "cell_type": "code",
   "execution_count": 65,
   "id": "88ac9b11",
   "metadata": {},
   "outputs": [
    {
     "data": {
      "text/plain": [
       "0.9530650036445957"
      ]
     },
     "execution_count": 65,
     "metadata": {},
     "output_type": "execute_result"
    }
   ],
   "source": [
    "rd = Ridge()\n",
    "rd.fit(x_train,y_train)\n",
    "predict_rd = rd.predict(x_test)\n",
    "\n",
    "acc = r2_score(y_test,predict_rd)\n",
    "acc"
   ]
  },
  {
   "cell_type": "markdown",
   "id": "36a8db5d",
   "metadata": {},
   "source": [
    "# Cross Validation:-"
   ]
  },
  {
   "cell_type": "code",
   "execution_count": 73,
   "id": "4d1f5873",
   "metadata": {},
   "outputs": [
    {
     "name": "stdout",
     "output_type": "stream",
     "text": [
      "Cross Validation of Linear Regression model  0.8842777844741688\n"
     ]
    }
   ],
   "source": [
    "cvs= cross_val_score(lr,x_scaler,y,cv=5)\n",
    "print(\"Cross Validation of Linear Regression model \",cvs.mean())\n"
   ]
  },
  {
   "cell_type": "code",
   "execution_count": 74,
   "id": "58b6b258",
   "metadata": {},
   "outputs": [
    {
     "name": "stdout",
     "output_type": "stream",
     "text": [
      "Cross Validation of RandomForest Regression model  0.9715664639099202\n"
     ]
    }
   ],
   "source": [
    "cvs= cross_val_score(rf,x_scaler,y,cv=5)\n",
    "print(\"Cross Validation of RandomForest Regression model \",cvs.mean())\n"
   ]
  },
  {
   "cell_type": "code",
   "execution_count": 75,
   "id": "13cc9698",
   "metadata": {},
   "outputs": [
    {
     "name": "stdout",
     "output_type": "stream",
     "text": [
      "Cross Validation of KNeighbors Regression model  0.8808136029012269\n"
     ]
    }
   ],
   "source": [
    "cvs= cross_val_score(knr,x_scaler,y,cv=5)\n",
    "print(\"Cross Validation of KNeighbors Regression model \",cvs.mean())\n"
   ]
  },
  {
   "cell_type": "code",
   "execution_count": 76,
   "id": "17aa73dd",
   "metadata": {},
   "outputs": [
    {
     "name": "stdout",
     "output_type": "stream",
     "text": [
      "Cross Validation of DecisionTree Regression model  0.9495202087818597\n"
     ]
    }
   ],
   "source": [
    "cvs= cross_val_score(dtr,x_scaler,y,cv=5)\n",
    "print(\"Cross Validation of DecisionTree Regression model \",cvs.mean())\n"
   ]
  },
  {
   "cell_type": "code",
   "execution_count": 77,
   "id": "a0ee6be1",
   "metadata": {},
   "outputs": [
    {
     "name": "stdout",
     "output_type": "stream",
     "text": [
      "Cross Validation of Ridge Regression model  0.8843118500531693\n"
     ]
    }
   ],
   "source": [
    "cvs= cross_val_score(rd,x_scaler,y,cv=5)\n",
    "print(\"Cross Validation of Ridge Regression model \",cvs.mean())\n"
   ]
  },
  {
   "cell_type": "markdown",
   "id": "797ccb34",
   "metadata": {},
   "source": [
    "So we can see Cross validation score is higher than other models and models are not overfitting."
   ]
  },
  {
   "cell_type": "markdown",
   "id": "e71da62b",
   "metadata": {},
   "source": [
    "# Hyper Parameter Tuning"
   ]
  },
  {
   "cell_type": "code",
   "execution_count": 83,
   "id": "1b177e4d",
   "metadata": {},
   "outputs": [
    {
     "name": "stdout",
     "output_type": "stream",
     "text": [
      "{'criterion': 'mse', 'max_depth': 8, 'max_features': 'auto', 'min_samples_leaf': 2}\n"
     ]
    }
   ],
   "source": [
    "params = {\n",
    "          'criterion':['mse','mae'],\n",
    "          'max_features':[\"auto\",\"sqrt\",\"log2\"],\n",
    "          'max_depth' : range(2,15),\n",
    "          'min_samples_leaf':range(2,15)\n",
    "    \n",
    "         }\n",
    "rf = RandomForestRegressor()\n",
    "grid_search = GridSearchCV(rd,params)\n",
    "grid_search.fit(x_train,y_train)\n",
    "print(grid_search.best_params_)\n"
   ]
  },
  {
   "cell_type": "code",
   "execution_count": 101,
   "id": "7c37f662",
   "metadata": {},
   "outputs": [
    {
     "data": {
      "text/plain": [
       "0.9710451259392587"
      ]
     },
     "execution_count": 101,
     "metadata": {},
     "output_type": "execute_result"
    }
   ],
   "source": [
    "### Providing best features:-\n",
    "rf = RandomForestRegressor(criterion = 'mae',max_depth = 10,max_features = 'auto',min_samples_leaf=3)\n",
    "rf.fit(x_train,y_train)\n",
    "predict_rd = rd.predict(x_test)\n",
    "score = r2_score(y_test,predict_rd)\n",
    "score\n",
    "\n"
   ]
  },
  {
   "cell_type": "code",
   "execution_count": null,
   "id": "2fddda8b",
   "metadata": {},
   "outputs": [],
   "source": [
    "Here,I have provided model with best parameters.but it gives score  little less than without hyperparameters.So playing with some\n",
    "parameters,it has given above score."
   ]
  },
  {
   "cell_type": "markdown",
   "id": "b94a321b",
   "metadata": {},
   "source": [
    "# Model Saving"
   ]
  },
  {
   "cell_type": "code",
   "execution_count": 105,
   "id": "dba99eb0",
   "metadata": {},
   "outputs": [],
   "source": [
    "filename = 'sales_prediction.pickle'\n",
    "pickle.dump(rf,open(filename,'wb'))"
   ]
  },
  {
   "cell_type": "markdown",
   "id": "b0555c12",
   "metadata": {},
   "source": [
    "# Conclusion"
   ]
  },
  {
   "cell_type": "code",
   "execution_count": 107,
   "id": "c3d4eb73",
   "metadata": {},
   "outputs": [
    {
     "data": {
      "text/html": [
       "<div>\n",
       "<style scoped>\n",
       "    .dataframe tbody tr th:only-of-type {\n",
       "        vertical-align: middle;\n",
       "    }\n",
       "\n",
       "    .dataframe tbody tr th {\n",
       "        vertical-align: top;\n",
       "    }\n",
       "\n",
       "    .dataframe thead th {\n",
       "        text-align: right;\n",
       "    }\n",
       "</style>\n",
       "<table border=\"1\" class=\"dataframe\">\n",
       "  <thead>\n",
       "    <tr style=\"text-align: right;\">\n",
       "      <th></th>\n",
       "      <th>Original</th>\n",
       "      <th>predicted</th>\n",
       "    </tr>\n",
       "  </thead>\n",
       "  <tbody>\n",
       "    <tr>\n",
       "      <th>0</th>\n",
       "      <td>8.4</td>\n",
       "      <td>9.2830</td>\n",
       "    </tr>\n",
       "    <tr>\n",
       "      <th>1</th>\n",
       "      <td>13.2</td>\n",
       "      <td>13.3375</td>\n",
       "    </tr>\n",
       "    <tr>\n",
       "      <th>2</th>\n",
       "      <td>11.4</td>\n",
       "      <td>11.6480</td>\n",
       "    </tr>\n",
       "    <tr>\n",
       "      <th>3</th>\n",
       "      <td>10.1</td>\n",
       "      <td>10.6590</td>\n",
       "    </tr>\n",
       "    <tr>\n",
       "      <th>4</th>\n",
       "      <td>8.0</td>\n",
       "      <td>7.5580</td>\n",
       "    </tr>\n",
       "    <tr>\n",
       "      <th>5</th>\n",
       "      <td>21.2</td>\n",
       "      <td>21.6265</td>\n",
       "    </tr>\n",
       "    <tr>\n",
       "      <th>6</th>\n",
       "      <td>24.2</td>\n",
       "      <td>24.4915</td>\n",
       "    </tr>\n",
       "    <tr>\n",
       "      <th>7</th>\n",
       "      <td>6.9</td>\n",
       "      <td>8.2510</td>\n",
       "    </tr>\n",
       "    <tr>\n",
       "      <th>8</th>\n",
       "      <td>9.5</td>\n",
       "      <td>8.4245</td>\n",
       "    </tr>\n",
       "    <tr>\n",
       "      <th>9</th>\n",
       "      <td>4.8</td>\n",
       "      <td>6.1630</td>\n",
       "    </tr>\n",
       "    <tr>\n",
       "      <th>10</th>\n",
       "      <td>11.7</td>\n",
       "      <td>12.5340</td>\n",
       "    </tr>\n",
       "    <tr>\n",
       "      <th>11</th>\n",
       "      <td>14.7</td>\n",
       "      <td>15.1115</td>\n",
       "    </tr>\n",
       "    <tr>\n",
       "      <th>12</th>\n",
       "      <td>5.6</td>\n",
       "      <td>7.4155</td>\n",
       "    </tr>\n",
       "    <tr>\n",
       "      <th>13</th>\n",
       "      <td>15.3</td>\n",
       "      <td>13.2865</td>\n",
       "    </tr>\n",
       "    <tr>\n",
       "      <th>14</th>\n",
       "      <td>19.0</td>\n",
       "      <td>19.2025</td>\n",
       "    </tr>\n",
       "    <tr>\n",
       "      <th>15</th>\n",
       "      <td>11.5</td>\n",
       "      <td>12.1025</td>\n",
       "    </tr>\n",
       "    <tr>\n",
       "      <th>16</th>\n",
       "      <td>20.1</td>\n",
       "      <td>19.5505</td>\n",
       "    </tr>\n",
       "    <tr>\n",
       "      <th>17</th>\n",
       "      <td>9.6</td>\n",
       "      <td>10.5165</td>\n",
       "    </tr>\n",
       "    <tr>\n",
       "      <th>18</th>\n",
       "      <td>17.3</td>\n",
       "      <td>17.6535</td>\n",
       "    </tr>\n",
       "    <tr>\n",
       "      <th>19</th>\n",
       "      <td>17.4</td>\n",
       "      <td>16.9525</td>\n",
       "    </tr>\n",
       "    <tr>\n",
       "      <th>20</th>\n",
       "      <td>10.8</td>\n",
       "      <td>10.4195</td>\n",
       "    </tr>\n",
       "    <tr>\n",
       "      <th>21</th>\n",
       "      <td>25.4</td>\n",
       "      <td>24.2735</td>\n",
       "    </tr>\n",
       "    <tr>\n",
       "      <th>22</th>\n",
       "      <td>18.0</td>\n",
       "      <td>16.9420</td>\n",
       "    </tr>\n",
       "    <tr>\n",
       "      <th>23</th>\n",
       "      <td>24.4</td>\n",
       "      <td>23.2420</td>\n",
       "    </tr>\n",
       "    <tr>\n",
       "      <th>24</th>\n",
       "      <td>19.2</td>\n",
       "      <td>19.0115</td>\n",
       "    </tr>\n",
       "    <tr>\n",
       "      <th>25</th>\n",
       "      <td>9.7</td>\n",
       "      <td>9.5790</td>\n",
       "    </tr>\n",
       "    <tr>\n",
       "      <th>26</th>\n",
       "      <td>19.2</td>\n",
       "      <td>17.3510</td>\n",
       "    </tr>\n",
       "    <tr>\n",
       "      <th>27</th>\n",
       "      <td>5.3</td>\n",
       "      <td>7.0235</td>\n",
       "    </tr>\n",
       "    <tr>\n",
       "      <th>28</th>\n",
       "      <td>17.1</td>\n",
       "      <td>18.1935</td>\n",
       "    </tr>\n",
       "    <tr>\n",
       "      <th>29</th>\n",
       "      <td>10.6</td>\n",
       "      <td>9.8495</td>\n",
       "    </tr>\n",
       "    <tr>\n",
       "      <th>30</th>\n",
       "      <td>12.8</td>\n",
       "      <td>12.9745</td>\n",
       "    </tr>\n",
       "    <tr>\n",
       "      <th>31</th>\n",
       "      <td>12.3</td>\n",
       "      <td>12.2510</td>\n",
       "    </tr>\n",
       "    <tr>\n",
       "      <th>32</th>\n",
       "      <td>11.6</td>\n",
       "      <td>11.4910</td>\n",
       "    </tr>\n",
       "    <tr>\n",
       "      <th>33</th>\n",
       "      <td>11.7</td>\n",
       "      <td>11.6895</td>\n",
       "    </tr>\n",
       "    <tr>\n",
       "      <th>34</th>\n",
       "      <td>18.9</td>\n",
       "      <td>19.7420</td>\n",
       "    </tr>\n",
       "    <tr>\n",
       "      <th>35</th>\n",
       "      <td>18.9</td>\n",
       "      <td>19.4510</td>\n",
       "    </tr>\n",
       "    <tr>\n",
       "      <th>36</th>\n",
       "      <td>5.9</td>\n",
       "      <td>7.1220</td>\n",
       "    </tr>\n",
       "    <tr>\n",
       "      <th>37</th>\n",
       "      <td>20.2</td>\n",
       "      <td>20.0290</td>\n",
       "    </tr>\n",
       "    <tr>\n",
       "      <th>38</th>\n",
       "      <td>20.2</td>\n",
       "      <td>20.2060</td>\n",
       "    </tr>\n",
       "    <tr>\n",
       "      <th>39</th>\n",
       "      <td>16.7</td>\n",
       "      <td>14.7290</td>\n",
       "    </tr>\n",
       "  </tbody>\n",
       "</table>\n",
       "</div>"
      ],
      "text/plain": [
       "    Original  predicted\n",
       "0        8.4     9.2830\n",
       "1       13.2    13.3375\n",
       "2       11.4    11.6480\n",
       "3       10.1    10.6590\n",
       "4        8.0     7.5580\n",
       "5       21.2    21.6265\n",
       "6       24.2    24.4915\n",
       "7        6.9     8.2510\n",
       "8        9.5     8.4245\n",
       "9        4.8     6.1630\n",
       "10      11.7    12.5340\n",
       "11      14.7    15.1115\n",
       "12       5.6     7.4155\n",
       "13      15.3    13.2865\n",
       "14      19.0    19.2025\n",
       "15      11.5    12.1025\n",
       "16      20.1    19.5505\n",
       "17       9.6    10.5165\n",
       "18      17.3    17.6535\n",
       "19      17.4    16.9525\n",
       "20      10.8    10.4195\n",
       "21      25.4    24.2735\n",
       "22      18.0    16.9420\n",
       "23      24.4    23.2420\n",
       "24      19.2    19.0115\n",
       "25       9.7     9.5790\n",
       "26      19.2    17.3510\n",
       "27       5.3     7.0235\n",
       "28      17.1    18.1935\n",
       "29      10.6     9.8495\n",
       "30      12.8    12.9745\n",
       "31      12.3    12.2510\n",
       "32      11.6    11.4910\n",
       "33      11.7    11.6895\n",
       "34      18.9    19.7420\n",
       "35      18.9    19.4510\n",
       "36       5.9     7.1220\n",
       "37      20.2    20.0290\n",
       "38      20.2    20.2060\n",
       "39      16.7    14.7290"
      ]
     },
     "execution_count": 107,
     "metadata": {},
     "output_type": "execute_result"
    }
   ],
   "source": [
    "## Conclusion : -\n",
    "a =np.array(y_test)\n",
    "predicted = np.array(rf.predict(x_test))\n",
    "df =  pd.DataFrame({ 'Original' : a,\n",
    "                     'predicted' :predicted ,\n",
    "                   },index = range(len(a))) \n",
    "df\n"
   ]
  },
  {
   "cell_type": "code",
   "execution_count": null,
   "id": "28adaa93",
   "metadata": {},
   "outputs": [],
   "source": []
  }
 ],
 "metadata": {
  "kernelspec": {
   "display_name": "Python 3",
   "language": "python",
   "name": "python3"
  },
  "language_info": {
   "codemirror_mode": {
    "name": "ipython",
    "version": 3
   },
   "file_extension": ".py",
   "mimetype": "text/x-python",
   "name": "python",
   "nbconvert_exporter": "python",
   "pygments_lexer": "ipython3",
   "version": "3.8.8"
  }
 },
 "nbformat": 4,
 "nbformat_minor": 5
}
