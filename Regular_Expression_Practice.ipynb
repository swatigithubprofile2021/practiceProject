{
  "nbformat": 4,
  "nbformat_minor": 0,
  "metadata": {
    "colab": {
      "name": "Regular_Expression_Practice.ipynb",
      "provenance": [],
      "authorship_tag": "ABX9TyMKelEvwO9bDPDpeMOTWtYJ",
      "include_colab_link": true
    },
    "kernelspec": {
      "name": "python3",
      "display_name": "Python 3"
    },
    "language_info": {
      "name": "python"
    }
  },
  "cells": [
    {
      "cell_type": "markdown",
      "metadata": {
        "id": "view-in-github",
        "colab_type": "text"
      },
      "source": [
        "<a href=\"https://colab.research.google.com/github/swatigithubprofile2021/practiceProject/blob/main/Regular_Expression_Practice.ipynb\" target=\"_parent\"><img src=\"https://colab.research.google.com/assets/colab-badge.svg\" alt=\"Open In Colab\"/></a>"
      ]
    },
    {
      "cell_type": "code",
      "execution_count": 2,
      "metadata": {
        "id": "ZxpyQc2SxP3e"
      },
      "outputs": [],
      "source": [
        "import re"
      ]
    },
    {
      "cell_type": "code",
      "source": [
        "re.search('Swati','Swati is a good girl,Swati eats apple and Swati sings well.')"
      ],
      "metadata": {
        "colab": {
          "base_uri": "https://localhost:8080/"
        },
        "id": "whbLBU26WbQ_",
        "outputId": "548abaa2-2506-4773-af6f-7531185e54c7"
      },
      "execution_count": null,
      "outputs": [
        {
          "output_type": "execute_result",
          "data": {
            "text/plain": [
              "<re.Match object; span=(0, 5), match='Swati'>"
            ]
          },
          "metadata": {},
          "execution_count": 3
        }
      ]
    },
    {
      "cell_type": "code",
      "source": [
        "name = re.search('Swati','Swati is a good girl,Swati eats apple and Swati sings well.')\n",
        "print(name.group())"
      ],
      "metadata": {
        "colab": {
          "base_uri": "https://localhost:8080/"
        },
        "id": "amzwW9qoWxjm",
        "outputId": "d89b692c-1816-4582-ec02-baed945780b5"
      },
      "execution_count": null,
      "outputs": [
        {
          "output_type": "stream",
          "name": "stdout",
          "text": [
            "Swati\n"
          ]
        }
      ]
    },
    {
      "cell_type": "code",
      "source": [
        "def find_pattern(text,patterns):\n",
        "  if re.search(patterns,text):\n",
        "    return re.search(patterns,text)\n",
        "  else:\n",
        "    return 'not found'\n"
      ],
      "metadata": {
        "id": "BHzeHgP3XkG5"
      },
      "execution_count": null,
      "outputs": []
    },
    {
      "cell_type": "code",
      "source": [
        "## Quantifiers -?: tells  whether a pattern is present or absent(zero or 1)\n",
        "print(find_pattern(\"ac\", \"ab?\"))\n",
        "print(find_pattern(\"abc\",\"ab?\"))\n",
        "print(find_pattern(\"abbc\",\"ab?\"))"
      ],
      "metadata": {
        "id": "yyRJRk1SYL6x",
        "colab": {
          "base_uri": "https://localhost:8080/"
        },
        "outputId": "33aeed66-4030-4460-d716-ea68cd45b1fa"
      },
      "execution_count": null,
      "outputs": [
        {
          "output_type": "stream",
          "name": "stdout",
          "text": [
            "<re.Match object; span=(0, 1), match='a'>\n",
            "<re.Match object; span=(0, 2), match='ab'>\n",
            "<re.Match object; span=(0, 2), match='ab'>\n"
          ]
        }
      ]
    },
    {
      "cell_type": "code",
      "source": [
        "# '*' : Zero or more\n",
        "print(find_pattern(\"ac\",\"ab*\"))\n",
        "print(find_pattern(\"abc\",\"ab*\"))\n",
        "print(find_pattern(\"abbc\",\"ab*\"))\n"
      ],
      "metadata": {
        "colab": {
          "base_uri": "https://localhost:8080/"
        },
        "id": "x0t5kdGhx2uw",
        "outputId": "267ffa09-6a3e-407c-e0f4-4e50b9013973"
      },
      "execution_count": null,
      "outputs": [
        {
          "output_type": "stream",
          "name": "stdout",
          "text": [
            "<re.Match object; span=(0, 1), match='a'>\n",
            "<re.Match object; span=(0, 2), match='ab'>\n",
            "<re.Match object; span=(0, 3), match='abb'>\n"
          ]
        }
      ]
    },
    {
      "cell_type": "code",
      "source": [
        "# '+' : one or more\n",
        "print(find_pattern(\"ac\",\"ab+\"))\n",
        "print(find_pattern(\"abc\",\"ab+\"))\n",
        "print(find_pattern(\"abbc\",\"ab+\"))\n",
        "\n"
      ],
      "metadata": {
        "colab": {
          "base_uri": "https://localhost:8080/"
        },
        "id": "15g3iz3IyNEi",
        "outputId": "c1efc8ae-1603-4d89-f993-bffd2a27481d"
      },
      "execution_count": null,
      "outputs": [
        {
          "output_type": "stream",
          "name": "stdout",
          "text": [
            "not found\n",
            "<re.Match object; span=(0, 2), match='ab'>\n",
            "<re.Match object; span=(0, 3), match='abb'>\n"
          ]
        }
      ]
    },
    {
      "cell_type": "code",
      "source": [
        "# {n} : Matches if a character is present exactly n number of times\n",
        "print(find_pattern(\"abbbbc\", \"ab{2}\"))"
      ],
      "metadata": {
        "colab": {
          "base_uri": "https://localhost:8080/"
        },
        "id": "6BphFHphzZ5W",
        "outputId": "53822a1b-bece-4929-8e9c-4a4dcd378e80"
      },
      "execution_count": null,
      "outputs": [
        {
          "output_type": "stream",
          "name": "stdout",
          "text": [
            "<re.Match object; span=(0, 3), match='abb'>\n"
          ]
        }
      ]
    },
    {
      "cell_type": "code",
      "source": [
        "print(find_pattern(\"abbbbc\", \"ab{5}\"))"
      ],
      "metadata": {
        "colab": {
          "base_uri": "https://localhost:8080/"
        },
        "id": "3zqg2gTRz8j3",
        "outputId": "c37caff9-e3ab-4650-a23f-4dab985d72db"
      },
      "execution_count": null,
      "outputs": [
        {
          "output_type": "stream",
          "name": "stdout",
          "text": [
            "not found\n"
          ]
        }
      ]
    },
    {
      "cell_type": "code",
      "source": [
        "# {m,n} : Matches if a character is present from m to n number of times\n",
        "print(find_pattern(\"aabbbbbbbc\",\"ab{3,5}\")) ## return true if 'b'is present 3 to 5 times\n",
        "print(find_pattern(\"aabbbbbbbc\",\"ab{7,10}\")) ## return true if 'b' is present  7-10 times\n",
        "print(find_pattern(\"aabbbbbbc\",\"ab{,10}\")) # return true if 'b' is present at most 10 times\n",
        "print(find_pattern(\"aabbbbbbc\",\"ab{10,}\")) # return true if 'b' is present at least 10 times\n",
        "print(find_pattern(\"aaaabbbbb\",\"a{1,3}b{2,5}\"))"
      ],
      "metadata": {
        "colab": {
          "base_uri": "https://localhost:8080/"
        },
        "id": "2xAAkopy0BDy",
        "outputId": "f87bfd04-9bcd-414c-e048-7d05d7cf77ca"
      },
      "execution_count": null,
      "outputs": [
        {
          "output_type": "stream",
          "name": "stdout",
          "text": [
            "<re.Match object; span=(1, 7), match='abbbbb'>\n",
            "<re.Match object; span=(1, 9), match='abbbbbbb'>\n",
            "<re.Match object; span=(0, 1), match='a'>\n",
            "not found\n",
            "<re.Match object; span=(1, 9), match='aaabbbbb'>\n"
          ]
        }
      ]
    },
    {
      "cell_type": "code",
      "source": [
        "## Anchors"
      ],
      "metadata": {
        "id": "qq8B4icU1KKR"
      },
      "execution_count": null,
      "outputs": []
    },
    {
      "cell_type": "code",
      "source": [
        "# '^' : Indicates starting of a string\n",
        "# '$' : Indicates end of a string\n",
        "\n",
        "print(find_pattern(\"James\", \"^J\")) # return true if string starts with J\n",
        "print(find_pattern(\"Swati\", \"^J\"))\n",
        "print(find_pattern(\"India\", \"a$\")) # return true if string ends with a\n",
        "print(find_pattern(\"SriLanka\", \"K$\"))"
      ],
      "metadata": {
        "colab": {
          "base_uri": "https://localhost:8080/"
        },
        "id": "j2T7FvUaz3Ld",
        "outputId": "58380a09-3e61-495d-cded-2c5d5fdf413c"
      },
      "execution_count": null,
      "outputs": [
        {
          "output_type": "stream",
          "name": "stdout",
          "text": [
            "<re.Match object; span=(0, 1), match='J'>\n",
            "not found\n",
            "<re.Match object; span=(4, 5), match='a'>\n",
            "not found\n"
          ]
        }
      ]
    },
    {
      "cell_type": "code",
      "source": [
        "## Wildcard"
      ],
      "metadata": {
        "id": "UvaiZdq31MqO"
      },
      "execution_count": null,
      "outputs": []
    },
    {
      "cell_type": "code",
      "source": [
        "# '.' : Matches any character(only first character)\n",
        "print(find_pattern(\"a\",\".\"))\n",
        "print(find_pattern(\"jksndkj\",\".\"))\n",
        "print(find_pattern(\"(jksndkj\",\".\"))"
      ],
      "metadata": {
        "colab": {
          "base_uri": "https://localhost:8080/"
        },
        "id": "bUlMlyy91O8c",
        "outputId": "c72078a2-3cc5-4ea8-d079-3570f9f88c0a"
      },
      "execution_count": null,
      "outputs": [
        {
          "output_type": "stream",
          "name": "stdout",
          "text": [
            "<re.Match object; span=(0, 1), match='a'>\n",
            "<re.Match object; span=(0, 1), match='j'>\n",
            "<re.Match object; span=(0, 1), match='('>\n"
          ]
        }
      ]
    },
    {
      "cell_type": "code",
      "source": [
        "## Character sets\n",
        "print(find_pattern(\"c\",\"[abc]\"))"
      ],
      "metadata": {
        "colab": {
          "base_uri": "https://localhost:8080/"
        },
        "id": "gWxum5U25Czq",
        "outputId": "2d3aa324-34cf-48aa-b3e0-3342a9f48e7e"
      },
      "execution_count": null,
      "outputs": [
        {
          "output_type": "stream",
          "name": "stdout",
          "text": [
            "<re.Match object; span=(0, 1), match='c'>\n"
          ]
        }
      ]
    },
    {
      "cell_type": "code",
      "source": [
        "print(find_pattern(\"c\",\"[a-z]\"))"
      ],
      "metadata": {
        "colab": {
          "base_uri": "https://localhost:8080/"
        },
        "id": "H-Tq6uPw5f-s",
        "outputId": "632a517d-7a17-4a57-9dfd-8b1859251a88"
      },
      "execution_count": null,
      "outputs": [
        {
          "output_type": "stream",
          "name": "stdout",
          "text": [
            "<re.Match object; span=(0, 1), match='c'>\n"
          ]
        }
      ]
    },
    {
      "cell_type": "code",
      "source": [
        "print(find_pattern(\"c\",\"[A-Z]\"))"
      ],
      "metadata": {
        "colab": {
          "base_uri": "https://localhost:8080/"
        },
        "id": "AY1i4-hm5mey",
        "outputId": "fc65c925-d57b-45e6-db97-b8b8148b731c"
      },
      "execution_count": null,
      "outputs": [
        {
          "output_type": "stream",
          "name": "stdout",
          "text": [
            "not found\n"
          ]
        }
      ]
    },
    {
      "cell_type": "code",
      "source": [
        "# '^' is used inside character set to indicate complementary set\n",
        "print(find_pattern(\"a\",\"[^abc]\")) # return true if neither of these is present -a,b,c"
      ],
      "metadata": {
        "colab": {
          "base_uri": "https://localhost:8080/"
        },
        "id": "U7lIrFMo5yHG",
        "outputId": "73e68441-6bac-432a-e17d-7509f80dc2fe"
      },
      "execution_count": null,
      "outputs": [
        {
          "output_type": "stream",
          "name": "stdout",
          "text": [
            "not found\n"
          ]
        }
      ]
    },
    {
      "cell_type": "code",
      "source": [
        "print(find_pattern(\"d\",\"[^abc]\"))"
      ],
      "metadata": {
        "colab": {
          "base_uri": "https://localhost:8080/"
        },
        "id": "5jY9kjtv6QYY",
        "outputId": "cbd2c691-493c-40a6-d421-4426ad2c9f60"
      },
      "execution_count": null,
      "outputs": [
        {
          "output_type": "stream",
          "name": "stdout",
          "text": [
            "<re.Match object; span=(0, 1), match='d'>\n"
          ]
        }
      ]
    },
    {
      "cell_type": "code",
      "source": [
        "## Meta Sequences\n"
      ],
      "metadata": {
        "id": "BEGCFnNr7N2B"
      },
      "execution_count": null,
      "outputs": []
    },
    {
      "cell_type": "markdown",
      "source": [
        "Pattern       Equivalent to\n",
        "\\s            [\\t\\n\\r\\f\\v],\n",
        "\\S            [^\\t\\n\\r\\f\\v],\n",
        "\\d            [0-9],\n",
        "\\D            [^ 0-9],\n",
        "\\w            [a-zA-z0-9],\n",
        "\\W            [^a-zA-z0-9] "
      ],
      "metadata": {
        "id": "aHLlOZrq7XMt"
      }
    },
    {
      "cell_type": "code",
      "source": [
        "## match() - Determine if the RE matchesat the begining of the string.\n",
        "\n",
        "def match_pattern(text,patterns):\n",
        "  if re.match(patterns,text):\n",
        "    return re.match(patterns,text)\n",
        "  else:\n",
        "    return ('Not found!')  "
      ],
      "metadata": {
        "id": "WReaqyUnFEI7"
      },
      "execution_count": 1,
      "outputs": []
    },
    {
      "cell_type": "code",
      "source": [
        "print(match_pattern(\"abbc\",\"b+\"))"
      ],
      "metadata": {
        "colab": {
          "base_uri": "https://localhost:8080/"
        },
        "id": "QpBfmPKbF6d5",
        "outputId": "9dbc7acd-dd05-4949-ba2b-2871e1bd5f73"
      },
      "execution_count": 4,
      "outputs": [
        {
          "output_type": "stream",
          "name": "stdout",
          "text": [
            "Not found!\n"
          ]
        }
      ]
    },
    {
      "cell_type": "code",
      "source": [
        "print(match_pattern(\"bbca\",\"b+\")) ## '+' one or more"
      ],
      "metadata": {
        "id": "_F39aLWs8FFa",
        "colab": {
          "base_uri": "https://localhost:8080/"
        },
        "outputId": "9b09fbf0-93a9-40a3-a8a0-cc7fb1c0cd49"
      },
      "execution_count": 5,
      "outputs": [
        {
          "output_type": "stream",
          "name": "stdout",
          "text": [
            "<re.Match object; span=(0, 2), match='bb'>\n"
          ]
        }
      ]
    },
    {
      "cell_type": "code",
      "source": [
        "print(match_pattern(\"bbca\",\"b?\")) ## \"?\" zero or one"
      ],
      "metadata": {
        "colab": {
          "base_uri": "https://localhost:8080/"
        },
        "id": "X2q-iR8JGbWJ",
        "outputId": "c4daa296-d353-4c7d-a32a-422fdd5cc971"
      },
      "execution_count": 6,
      "outputs": [
        {
          "output_type": "stream",
          "name": "stdout",
          "text": [
            "<re.Match object; span=(0, 1), match='b'>\n"
          ]
        }
      ]
    },
    {
      "cell_type": "code",
      "source": [
        "## sub()- Find all substrings where the RE matches and substitute them with the \n",
        "## given string"
      ],
      "metadata": {
        "id": "_VZYCFSAGici"
      },
      "execution_count": null,
      "outputs": []
    },
    {
      "cell_type": "code",
      "source": [
        "## usage of sub function, Replace Road with rd\n",
        "street = '21 Ramakrishna Road'\n",
        "print(re.sub('Road', 'Rd',street))\n"
      ],
      "metadata": {
        "colab": {
          "base_uri": "https://localhost:8080/"
        },
        "id": "Vc4EVcWcG7wn",
        "outputId": "af91ea3d-4283-4864-da69-f59ca003e588"
      },
      "execution_count": 7,
      "outputs": [
        {
          "output_type": "stream",
          "name": "stdout",
          "text": [
            "21 Ramakrishna Rd\n"
          ]
        }
      ]
    },
    {
      "cell_type": "code",
      "source": [
        "print(re.sub('R\\w+','Rd',street))"
      ],
      "metadata": {
        "colab": {
          "base_uri": "https://localhost:8080/"
        },
        "id": "OYeGZWoDHz-R",
        "outputId": "8e825942-2fa0-4ab8-973d-dcfc2e38d24b"
      },
      "execution_count": 8,
      "outputs": [
        {
          "output_type": "stream",
          "name": "stdout",
          "text": [
            "21 Rd Rd\n"
          ]
        }
      ]
    },
    {
      "cell_type": "code",
      "source": [
        "## findall() - only first occurence of pattern\n",
        "url = \"indiatoday.in/programme/news-today/video/sc-pulls-up-uttarakhand-govt-over-hate-speech-now-demolition-drive-in-riot-hit-areas-of-gujarat-s-himmatnagar-more-1942300-2022-04-26:\"\n",
        "date_regex ='-(\\d{4})-(\\d{1,2})-(\\d{1,2}):'\n",
        "print(re.findall(date_regex,url))"
      ],
      "metadata": {
        "colab": {
          "base_uri": "https://localhost:8080/"
        },
        "id": "mQcUBKTRIORx",
        "outputId": "92a7e3c7-dac4-4245-fab9-b33c14b5a0bc"
      },
      "execution_count": 12,
      "outputs": [
        {
          "output_type": "stream",
          "name": "stdout",
          "text": [
            "[('2022', '04', '26')]\n"
          ]
        }
      ]
    },
    {
      "cell_type": "code",
      "source": [
        ""
      ],
      "metadata": {
        "id": "u-_y6YVErxl0"
      },
      "execution_count": null,
      "outputs": []
    },
    {
      "cell_type": "code",
      "source": [
        "## Exploring Groups\n",
        "m1 = re.search(date_regex, url)\n",
        "print(m1.group()) ## print the matched group"
      ],
      "metadata": {
        "colab": {
          "base_uri": "https://localhost:8080/"
        },
        "id": "NNNLsHtwRmTA",
        "outputId": "4b5a33a9-e309-4ad2-c912-889a39834494"
      },
      "execution_count": 13,
      "outputs": [
        {
          "output_type": "stream",
          "name": "stdout",
          "text": [
            "-2022-04-26:\n"
          ]
        }
      ]
    },
    {
      "cell_type": "code",
      "source": [
        "print(m1.group(1)) ## print first group"
      ],
      "metadata": {
        "colab": {
          "base_uri": "https://localhost:8080/"
        },
        "id": "wU7OlMB_CjAR",
        "outputId": "0ec25415-d35f-4b7a-c357-63fa421c051e"
      },
      "execution_count": 14,
      "outputs": [
        {
          "output_type": "stream",
          "name": "stdout",
          "text": [
            "2022\n"
          ]
        }
      ]
    },
    {
      "cell_type": "code",
      "source": [
        "print(m1.group(2)) ## print second "
      ],
      "metadata": {
        "id": "RdLIpVhpC0aD"
      },
      "execution_count": null,
      "outputs": []
    },
    {
      "cell_type": "code",
      "source": [
        "## finditer() - Find all the occurence of word festival in the given sentence\n",
        "text ='Diwali is a festival of lights,Holi is a festival of colours!'\n",
        "pattern = 'festival'\n",
        "for match in re.finditer(pattern,text):\n",
        "  print('Start - ',match.start(),end = \"\")\n",
        "  print('End-', match.end())"
      ],
      "metadata": {
        "colab": {
          "base_uri": "https://localhost:8080/"
        },
        "id": "rREJZLnjr1Qe",
        "outputId": "673b320d-aafd-4054-a875-25175344a475"
      },
      "execution_count": 3,
      "outputs": [
        {
          "output_type": "stream",
          "name": "stdout",
          "text": [
            "Start -  12End- 20\n",
            "Start -  41End- 49\n"
          ]
        }
      ]
    }
  ]
}