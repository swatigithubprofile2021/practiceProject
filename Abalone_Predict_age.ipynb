{
 "cells": [
  {
   "cell_type": "code",
   "execution_count": 119,
   "id": "2b7f45fe",
   "metadata": {},
   "outputs": [],
   "source": [
    "### Importing necessary libraries:-\n",
    "import pandas as pd\n",
    "import numpy as np\n",
    "import matplotlib.pyplot as plt\n",
    "import seaborn as sns\n",
    "import warnings\n",
    "warnings.filterwarnings(\"ignore\")\n",
    "from sklearn.preprocessing import StandardScaler\n",
    "from sklearn.model_selection import train_test_split\n",
    "from sklearn.model_selection import GridSearchCV\n",
    "from sklearn.model_selection import cross_val_score\n",
    "from sklearn.linear_model import Lasso,LassoCV,Ridge,RidgeCV\n",
    "from sklearn.ensemble import RandomForestRegressor\n",
    "from sklearn.tree import DecisionTreeRegressor\n",
    "from sklearn.neighbors import KNeighborsRegressor\n",
    "\n"
   ]
  },
  {
   "cell_type": "code",
   "execution_count": 3,
   "id": "417ab136",
   "metadata": {},
   "outputs": [],
   "source": [
    "#### Reading the Abalone csv file:-\n",
    "abalone_df = pd.read_csv(r\"C:/Users/swati/Downloads/dataset1-master/dataset1-master/abalone.csv\")"
   ]
  },
  {
   "cell_type": "code",
   "execution_count": 4,
   "id": "e6a79f2c",
   "metadata": {},
   "outputs": [
    {
     "data": {
      "text/plain": [
       "(4177, 9)"
      ]
     },
     "execution_count": 4,
     "metadata": {},
     "output_type": "execute_result"
    }
   ],
   "source": [
    "### Checking size of dataframe:\n",
    "abalone_df.shape"
   ]
  },
  {
   "cell_type": "code",
   "execution_count": 5,
   "id": "f1bbac7d",
   "metadata": {},
   "outputs": [
    {
     "data": {
      "text/html": [
       "<div>\n",
       "<style scoped>\n",
       "    .dataframe tbody tr th:only-of-type {\n",
       "        vertical-align: middle;\n",
       "    }\n",
       "\n",
       "    .dataframe tbody tr th {\n",
       "        vertical-align: top;\n",
       "    }\n",
       "\n",
       "    .dataframe thead th {\n",
       "        text-align: right;\n",
       "    }\n",
       "</style>\n",
       "<table border=\"1\" class=\"dataframe\">\n",
       "  <thead>\n",
       "    <tr style=\"text-align: right;\">\n",
       "      <th></th>\n",
       "      <th>Sex</th>\n",
       "      <th>Length</th>\n",
       "      <th>Diameter</th>\n",
       "      <th>Height</th>\n",
       "      <th>Whole_weight</th>\n",
       "      <th>Shucked_weight</th>\n",
       "      <th>Viscera_weight</th>\n",
       "      <th>Shell_weight</th>\n",
       "      <th>Rings</th>\n",
       "    </tr>\n",
       "  </thead>\n",
       "  <tbody>\n",
       "    <tr>\n",
       "      <th>0</th>\n",
       "      <td>M</td>\n",
       "      <td>0.455</td>\n",
       "      <td>0.365</td>\n",
       "      <td>0.095</td>\n",
       "      <td>0.5140</td>\n",
       "      <td>0.2245</td>\n",
       "      <td>0.1010</td>\n",
       "      <td>0.1500</td>\n",
       "      <td>15</td>\n",
       "    </tr>\n",
       "    <tr>\n",
       "      <th>1</th>\n",
       "      <td>M</td>\n",
       "      <td>0.350</td>\n",
       "      <td>0.265</td>\n",
       "      <td>0.090</td>\n",
       "      <td>0.2255</td>\n",
       "      <td>0.0995</td>\n",
       "      <td>0.0485</td>\n",
       "      <td>0.0700</td>\n",
       "      <td>7</td>\n",
       "    </tr>\n",
       "    <tr>\n",
       "      <th>2</th>\n",
       "      <td>F</td>\n",
       "      <td>0.530</td>\n",
       "      <td>0.420</td>\n",
       "      <td>0.135</td>\n",
       "      <td>0.6770</td>\n",
       "      <td>0.2565</td>\n",
       "      <td>0.1415</td>\n",
       "      <td>0.2100</td>\n",
       "      <td>9</td>\n",
       "    </tr>\n",
       "    <tr>\n",
       "      <th>3</th>\n",
       "      <td>M</td>\n",
       "      <td>0.440</td>\n",
       "      <td>0.365</td>\n",
       "      <td>0.125</td>\n",
       "      <td>0.5160</td>\n",
       "      <td>0.2155</td>\n",
       "      <td>0.1140</td>\n",
       "      <td>0.1550</td>\n",
       "      <td>10</td>\n",
       "    </tr>\n",
       "    <tr>\n",
       "      <th>4</th>\n",
       "      <td>I</td>\n",
       "      <td>0.330</td>\n",
       "      <td>0.255</td>\n",
       "      <td>0.080</td>\n",
       "      <td>0.2050</td>\n",
       "      <td>0.0895</td>\n",
       "      <td>0.0395</td>\n",
       "      <td>0.0550</td>\n",
       "      <td>7</td>\n",
       "    </tr>\n",
       "    <tr>\n",
       "      <th>...</th>\n",
       "      <td>...</td>\n",
       "      <td>...</td>\n",
       "      <td>...</td>\n",
       "      <td>...</td>\n",
       "      <td>...</td>\n",
       "      <td>...</td>\n",
       "      <td>...</td>\n",
       "      <td>...</td>\n",
       "      <td>...</td>\n",
       "    </tr>\n",
       "    <tr>\n",
       "      <th>4172</th>\n",
       "      <td>F</td>\n",
       "      <td>0.565</td>\n",
       "      <td>0.450</td>\n",
       "      <td>0.165</td>\n",
       "      <td>0.8870</td>\n",
       "      <td>0.3700</td>\n",
       "      <td>0.2390</td>\n",
       "      <td>0.2490</td>\n",
       "      <td>11</td>\n",
       "    </tr>\n",
       "    <tr>\n",
       "      <th>4173</th>\n",
       "      <td>M</td>\n",
       "      <td>0.590</td>\n",
       "      <td>0.440</td>\n",
       "      <td>0.135</td>\n",
       "      <td>0.9660</td>\n",
       "      <td>0.4390</td>\n",
       "      <td>0.2145</td>\n",
       "      <td>0.2605</td>\n",
       "      <td>10</td>\n",
       "    </tr>\n",
       "    <tr>\n",
       "      <th>4174</th>\n",
       "      <td>M</td>\n",
       "      <td>0.600</td>\n",
       "      <td>0.475</td>\n",
       "      <td>0.205</td>\n",
       "      <td>1.1760</td>\n",
       "      <td>0.5255</td>\n",
       "      <td>0.2875</td>\n",
       "      <td>0.3080</td>\n",
       "      <td>9</td>\n",
       "    </tr>\n",
       "    <tr>\n",
       "      <th>4175</th>\n",
       "      <td>F</td>\n",
       "      <td>0.625</td>\n",
       "      <td>0.485</td>\n",
       "      <td>0.150</td>\n",
       "      <td>1.0945</td>\n",
       "      <td>0.5310</td>\n",
       "      <td>0.2610</td>\n",
       "      <td>0.2960</td>\n",
       "      <td>10</td>\n",
       "    </tr>\n",
       "    <tr>\n",
       "      <th>4176</th>\n",
       "      <td>M</td>\n",
       "      <td>0.710</td>\n",
       "      <td>0.555</td>\n",
       "      <td>0.195</td>\n",
       "      <td>1.9485</td>\n",
       "      <td>0.9455</td>\n",
       "      <td>0.3765</td>\n",
       "      <td>0.4950</td>\n",
       "      <td>12</td>\n",
       "    </tr>\n",
       "  </tbody>\n",
       "</table>\n",
       "<p>4177 rows × 9 columns</p>\n",
       "</div>"
      ],
      "text/plain": [
       "     Sex  Length  Diameter  Height  Whole_weight  Shucked_weight  \\\n",
       "0      M   0.455     0.365   0.095        0.5140          0.2245   \n",
       "1      M   0.350     0.265   0.090        0.2255          0.0995   \n",
       "2      F   0.530     0.420   0.135        0.6770          0.2565   \n",
       "3      M   0.440     0.365   0.125        0.5160          0.2155   \n",
       "4      I   0.330     0.255   0.080        0.2050          0.0895   \n",
       "...   ..     ...       ...     ...           ...             ...   \n",
       "4172   F   0.565     0.450   0.165        0.8870          0.3700   \n",
       "4173   M   0.590     0.440   0.135        0.9660          0.4390   \n",
       "4174   M   0.600     0.475   0.205        1.1760          0.5255   \n",
       "4175   F   0.625     0.485   0.150        1.0945          0.5310   \n",
       "4176   M   0.710     0.555   0.195        1.9485          0.9455   \n",
       "\n",
       "      Viscera_weight  Shell_weight  Rings  \n",
       "0             0.1010        0.1500     15  \n",
       "1             0.0485        0.0700      7  \n",
       "2             0.1415        0.2100      9  \n",
       "3             0.1140        0.1550     10  \n",
       "4             0.0395        0.0550      7  \n",
       "...              ...           ...    ...  \n",
       "4172          0.2390        0.2490     11  \n",
       "4173          0.2145        0.2605     10  \n",
       "4174          0.2875        0.3080      9  \n",
       "4175          0.2610        0.2960     10  \n",
       "4176          0.3765        0.4950     12  \n",
       "\n",
       "[4177 rows x 9 columns]"
      ]
     },
     "execution_count": 5,
     "metadata": {},
     "output_type": "execute_result"
    }
   ],
   "source": [
    "### Since columns Whole Weight,Shucked Weight,Visceat Weight  and Shell  Weight has gap in between them,so renaming it .\n",
    "abalone_df_new = abalone_df.rename(columns={'Whole weight' :'Whole_weight',\n",
    "                                            'Shucked weight':'Shucked_weight',\n",
    "                                            'Viscera weight': 'Viscera_weight',\n",
    "                                            'Shell weight': 'Shell_weight'\n",
    "    \n",
    "                                           })\n",
    "abalone_df_new"
   ]
  },
  {
   "cell_type": "code",
   "execution_count": 8,
   "id": "9eea8f4a",
   "metadata": {},
   "outputs": [
    {
     "data": {
      "text/plain": [
       "Sex               0\n",
       "Length            0\n",
       "Diameter          0\n",
       "Height            0\n",
       "Whole_weight      0\n",
       "Shucked_weight    0\n",
       "Viscera_weight    0\n",
       "Shell_weight      0\n",
       "Rings             0\n",
       "dtype: int64"
      ]
     },
     "execution_count": 8,
     "metadata": {},
     "output_type": "execute_result"
    }
   ],
   "source": [
    "### Checking  for missing and null values in the dataset:-\n",
    "abalone_df_new.isnull().sum()"
   ]
  },
  {
   "cell_type": "markdown",
   "id": "82c9b3de",
   "metadata": {},
   "source": [
    "There are not any null values present."
   ]
  },
  {
   "cell_type": "code",
   "execution_count": 9,
   "id": "59209fc4",
   "metadata": {},
   "outputs": [
    {
     "name": "stdout",
     "output_type": "stream",
     "text": [
      "<class 'pandas.core.frame.DataFrame'>\n",
      "RangeIndex: 4177 entries, 0 to 4176\n",
      "Data columns (total 9 columns):\n",
      " #   Column          Non-Null Count  Dtype  \n",
      "---  ------          --------------  -----  \n",
      " 0   Sex             4177 non-null   object \n",
      " 1   Length          4177 non-null   float64\n",
      " 2   Diameter        4177 non-null   float64\n",
      " 3   Height          4177 non-null   float64\n",
      " 4   Whole_weight    4177 non-null   float64\n",
      " 5   Shucked_weight  4177 non-null   float64\n",
      " 6   Viscera_weight  4177 non-null   float64\n",
      " 7   Shell_weight    4177 non-null   float64\n",
      " 8   Rings           4177 non-null   int64  \n",
      "dtypes: float64(7), int64(1), object(1)\n",
      "memory usage: 293.8+ KB\n"
     ]
    }
   ],
   "source": [
    "## Checking types of columns:\n",
    "abalone_df_new.info()"
   ]
  },
  {
   "cell_type": "markdown",
   "id": "1c467f40",
   "metadata": {},
   "source": [
    "# Only sex column's type is object so we encode it using Label Encoder"
   ]
  },
  {
   "cell_type": "code",
   "execution_count": 10,
   "id": "36ae6268",
   "metadata": {},
   "outputs": [
    {
     "data": {
      "text/html": [
       "<div>\n",
       "<style scoped>\n",
       "    .dataframe tbody tr th:only-of-type {\n",
       "        vertical-align: middle;\n",
       "    }\n",
       "\n",
       "    .dataframe tbody tr th {\n",
       "        vertical-align: top;\n",
       "    }\n",
       "\n",
       "    .dataframe thead th {\n",
       "        text-align: right;\n",
       "    }\n",
       "</style>\n",
       "<table border=\"1\" class=\"dataframe\">\n",
       "  <thead>\n",
       "    <tr style=\"text-align: right;\">\n",
       "      <th></th>\n",
       "      <th>Sex</th>\n",
       "      <th>Length</th>\n",
       "      <th>Diameter</th>\n",
       "      <th>Height</th>\n",
       "      <th>Whole_weight</th>\n",
       "      <th>Shucked_weight</th>\n",
       "      <th>Viscera_weight</th>\n",
       "      <th>Shell_weight</th>\n",
       "      <th>Rings</th>\n",
       "    </tr>\n",
       "  </thead>\n",
       "  <tbody>\n",
       "    <tr>\n",
       "      <th>0</th>\n",
       "      <td>2</td>\n",
       "      <td>0.455</td>\n",
       "      <td>0.365</td>\n",
       "      <td>0.095</td>\n",
       "      <td>0.5140</td>\n",
       "      <td>0.2245</td>\n",
       "      <td>0.1010</td>\n",
       "      <td>0.1500</td>\n",
       "      <td>15</td>\n",
       "    </tr>\n",
       "    <tr>\n",
       "      <th>1</th>\n",
       "      <td>2</td>\n",
       "      <td>0.350</td>\n",
       "      <td>0.265</td>\n",
       "      <td>0.090</td>\n",
       "      <td>0.2255</td>\n",
       "      <td>0.0995</td>\n",
       "      <td>0.0485</td>\n",
       "      <td>0.0700</td>\n",
       "      <td>7</td>\n",
       "    </tr>\n",
       "    <tr>\n",
       "      <th>2</th>\n",
       "      <td>0</td>\n",
       "      <td>0.530</td>\n",
       "      <td>0.420</td>\n",
       "      <td>0.135</td>\n",
       "      <td>0.6770</td>\n",
       "      <td>0.2565</td>\n",
       "      <td>0.1415</td>\n",
       "      <td>0.2100</td>\n",
       "      <td>9</td>\n",
       "    </tr>\n",
       "    <tr>\n",
       "      <th>3</th>\n",
       "      <td>2</td>\n",
       "      <td>0.440</td>\n",
       "      <td>0.365</td>\n",
       "      <td>0.125</td>\n",
       "      <td>0.5160</td>\n",
       "      <td>0.2155</td>\n",
       "      <td>0.1140</td>\n",
       "      <td>0.1550</td>\n",
       "      <td>10</td>\n",
       "    </tr>\n",
       "    <tr>\n",
       "      <th>4</th>\n",
       "      <td>1</td>\n",
       "      <td>0.330</td>\n",
       "      <td>0.255</td>\n",
       "      <td>0.080</td>\n",
       "      <td>0.2050</td>\n",
       "      <td>0.0895</td>\n",
       "      <td>0.0395</td>\n",
       "      <td>0.0550</td>\n",
       "      <td>7</td>\n",
       "    </tr>\n",
       "    <tr>\n",
       "      <th>...</th>\n",
       "      <td>...</td>\n",
       "      <td>...</td>\n",
       "      <td>...</td>\n",
       "      <td>...</td>\n",
       "      <td>...</td>\n",
       "      <td>...</td>\n",
       "      <td>...</td>\n",
       "      <td>...</td>\n",
       "      <td>...</td>\n",
       "    </tr>\n",
       "    <tr>\n",
       "      <th>4172</th>\n",
       "      <td>0</td>\n",
       "      <td>0.565</td>\n",
       "      <td>0.450</td>\n",
       "      <td>0.165</td>\n",
       "      <td>0.8870</td>\n",
       "      <td>0.3700</td>\n",
       "      <td>0.2390</td>\n",
       "      <td>0.2490</td>\n",
       "      <td>11</td>\n",
       "    </tr>\n",
       "    <tr>\n",
       "      <th>4173</th>\n",
       "      <td>2</td>\n",
       "      <td>0.590</td>\n",
       "      <td>0.440</td>\n",
       "      <td>0.135</td>\n",
       "      <td>0.9660</td>\n",
       "      <td>0.4390</td>\n",
       "      <td>0.2145</td>\n",
       "      <td>0.2605</td>\n",
       "      <td>10</td>\n",
       "    </tr>\n",
       "    <tr>\n",
       "      <th>4174</th>\n",
       "      <td>2</td>\n",
       "      <td>0.600</td>\n",
       "      <td>0.475</td>\n",
       "      <td>0.205</td>\n",
       "      <td>1.1760</td>\n",
       "      <td>0.5255</td>\n",
       "      <td>0.2875</td>\n",
       "      <td>0.3080</td>\n",
       "      <td>9</td>\n",
       "    </tr>\n",
       "    <tr>\n",
       "      <th>4175</th>\n",
       "      <td>0</td>\n",
       "      <td>0.625</td>\n",
       "      <td>0.485</td>\n",
       "      <td>0.150</td>\n",
       "      <td>1.0945</td>\n",
       "      <td>0.5310</td>\n",
       "      <td>0.2610</td>\n",
       "      <td>0.2960</td>\n",
       "      <td>10</td>\n",
       "    </tr>\n",
       "    <tr>\n",
       "      <th>4176</th>\n",
       "      <td>2</td>\n",
       "      <td>0.710</td>\n",
       "      <td>0.555</td>\n",
       "      <td>0.195</td>\n",
       "      <td>1.9485</td>\n",
       "      <td>0.9455</td>\n",
       "      <td>0.3765</td>\n",
       "      <td>0.4950</td>\n",
       "      <td>12</td>\n",
       "    </tr>\n",
       "  </tbody>\n",
       "</table>\n",
       "<p>4177 rows × 9 columns</p>\n",
       "</div>"
      ],
      "text/plain": [
       "      Sex  Length  Diameter  Height  Whole_weight  Shucked_weight  \\\n",
       "0       2   0.455     0.365   0.095        0.5140          0.2245   \n",
       "1       2   0.350     0.265   0.090        0.2255          0.0995   \n",
       "2       0   0.530     0.420   0.135        0.6770          0.2565   \n",
       "3       2   0.440     0.365   0.125        0.5160          0.2155   \n",
       "4       1   0.330     0.255   0.080        0.2050          0.0895   \n",
       "...   ...     ...       ...     ...           ...             ...   \n",
       "4172    0   0.565     0.450   0.165        0.8870          0.3700   \n",
       "4173    2   0.590     0.440   0.135        0.9660          0.4390   \n",
       "4174    2   0.600     0.475   0.205        1.1760          0.5255   \n",
       "4175    0   0.625     0.485   0.150        1.0945          0.5310   \n",
       "4176    2   0.710     0.555   0.195        1.9485          0.9455   \n",
       "\n",
       "      Viscera_weight  Shell_weight  Rings  \n",
       "0             0.1010        0.1500     15  \n",
       "1             0.0485        0.0700      7  \n",
       "2             0.1415        0.2100      9  \n",
       "3             0.1140        0.1550     10  \n",
       "4             0.0395        0.0550      7  \n",
       "...              ...           ...    ...  \n",
       "4172          0.2390        0.2490     11  \n",
       "4173          0.2145        0.2605     10  \n",
       "4174          0.2875        0.3080      9  \n",
       "4175          0.2610        0.2960     10  \n",
       "4176          0.3765        0.4950     12  \n",
       "\n",
       "[4177 rows x 9 columns]"
      ]
     },
     "execution_count": 10,
     "metadata": {},
     "output_type": "execute_result"
    }
   ],
   "source": [
    "from sklearn.preprocessing import LabelEncoder\n",
    "ler = LabelEncoder()\n",
    "abalone_df_new['Sex'] =ler.fit_transform(abalone_df_new['Sex'])\n",
    "abalone_df_new"
   ]
  },
  {
   "cell_type": "markdown",
   "id": "70b3421e",
   "metadata": {},
   "source": [
    "F is encoded as 0,I is encoded as 1 and M is encoded as M."
   ]
  },
  {
   "cell_type": "code",
   "execution_count": 11,
   "id": "6fb6280b",
   "metadata": {},
   "outputs": [
    {
     "data": {
      "text/html": [
       "<div>\n",
       "<style scoped>\n",
       "    .dataframe tbody tr th:only-of-type {\n",
       "        vertical-align: middle;\n",
       "    }\n",
       "\n",
       "    .dataframe tbody tr th {\n",
       "        vertical-align: top;\n",
       "    }\n",
       "\n",
       "    .dataframe thead th {\n",
       "        text-align: right;\n",
       "    }\n",
       "</style>\n",
       "<table border=\"1\" class=\"dataframe\">\n",
       "  <thead>\n",
       "    <tr style=\"text-align: right;\">\n",
       "      <th></th>\n",
       "      <th>Sex</th>\n",
       "      <th>Length</th>\n",
       "      <th>Diameter</th>\n",
       "      <th>Height</th>\n",
       "      <th>Whole_weight</th>\n",
       "      <th>Shucked_weight</th>\n",
       "      <th>Viscera_weight</th>\n",
       "      <th>Shell_weight</th>\n",
       "      <th>Rings</th>\n",
       "    </tr>\n",
       "  </thead>\n",
       "  <tbody>\n",
       "    <tr>\n",
       "      <th>count</th>\n",
       "      <td>4177.000000</td>\n",
       "      <td>4177.000000</td>\n",
       "      <td>4177.000000</td>\n",
       "      <td>4177.000000</td>\n",
       "      <td>4177.000000</td>\n",
       "      <td>4177.000000</td>\n",
       "      <td>4177.000000</td>\n",
       "      <td>4177.000000</td>\n",
       "      <td>4177.000000</td>\n",
       "    </tr>\n",
       "    <tr>\n",
       "      <th>mean</th>\n",
       "      <td>1.052909</td>\n",
       "      <td>0.523992</td>\n",
       "      <td>0.407881</td>\n",
       "      <td>0.139516</td>\n",
       "      <td>0.828742</td>\n",
       "      <td>0.359367</td>\n",
       "      <td>0.180594</td>\n",
       "      <td>0.238831</td>\n",
       "      <td>9.933684</td>\n",
       "    </tr>\n",
       "    <tr>\n",
       "      <th>std</th>\n",
       "      <td>0.822240</td>\n",
       "      <td>0.120093</td>\n",
       "      <td>0.099240</td>\n",
       "      <td>0.041827</td>\n",
       "      <td>0.490389</td>\n",
       "      <td>0.221963</td>\n",
       "      <td>0.109614</td>\n",
       "      <td>0.139203</td>\n",
       "      <td>3.224169</td>\n",
       "    </tr>\n",
       "    <tr>\n",
       "      <th>min</th>\n",
       "      <td>0.000000</td>\n",
       "      <td>0.075000</td>\n",
       "      <td>0.055000</td>\n",
       "      <td>0.000000</td>\n",
       "      <td>0.002000</td>\n",
       "      <td>0.001000</td>\n",
       "      <td>0.000500</td>\n",
       "      <td>0.001500</td>\n",
       "      <td>1.000000</td>\n",
       "    </tr>\n",
       "    <tr>\n",
       "      <th>25%</th>\n",
       "      <td>0.000000</td>\n",
       "      <td>0.450000</td>\n",
       "      <td>0.350000</td>\n",
       "      <td>0.115000</td>\n",
       "      <td>0.441500</td>\n",
       "      <td>0.186000</td>\n",
       "      <td>0.093500</td>\n",
       "      <td>0.130000</td>\n",
       "      <td>8.000000</td>\n",
       "    </tr>\n",
       "    <tr>\n",
       "      <th>50%</th>\n",
       "      <td>1.000000</td>\n",
       "      <td>0.545000</td>\n",
       "      <td>0.425000</td>\n",
       "      <td>0.140000</td>\n",
       "      <td>0.799500</td>\n",
       "      <td>0.336000</td>\n",
       "      <td>0.171000</td>\n",
       "      <td>0.234000</td>\n",
       "      <td>9.000000</td>\n",
       "    </tr>\n",
       "    <tr>\n",
       "      <th>75%</th>\n",
       "      <td>2.000000</td>\n",
       "      <td>0.615000</td>\n",
       "      <td>0.480000</td>\n",
       "      <td>0.165000</td>\n",
       "      <td>1.153000</td>\n",
       "      <td>0.502000</td>\n",
       "      <td>0.253000</td>\n",
       "      <td>0.329000</td>\n",
       "      <td>11.000000</td>\n",
       "    </tr>\n",
       "    <tr>\n",
       "      <th>max</th>\n",
       "      <td>2.000000</td>\n",
       "      <td>0.815000</td>\n",
       "      <td>0.650000</td>\n",
       "      <td>1.130000</td>\n",
       "      <td>2.825500</td>\n",
       "      <td>1.488000</td>\n",
       "      <td>0.760000</td>\n",
       "      <td>1.005000</td>\n",
       "      <td>29.000000</td>\n",
       "    </tr>\n",
       "  </tbody>\n",
       "</table>\n",
       "</div>"
      ],
      "text/plain": [
       "               Sex       Length     Diameter       Height  Whole_weight  \\\n",
       "count  4177.000000  4177.000000  4177.000000  4177.000000   4177.000000   \n",
       "mean      1.052909     0.523992     0.407881     0.139516      0.828742   \n",
       "std       0.822240     0.120093     0.099240     0.041827      0.490389   \n",
       "min       0.000000     0.075000     0.055000     0.000000      0.002000   \n",
       "25%       0.000000     0.450000     0.350000     0.115000      0.441500   \n",
       "50%       1.000000     0.545000     0.425000     0.140000      0.799500   \n",
       "75%       2.000000     0.615000     0.480000     0.165000      1.153000   \n",
       "max       2.000000     0.815000     0.650000     1.130000      2.825500   \n",
       "\n",
       "       Shucked_weight  Viscera_weight  Shell_weight        Rings  \n",
       "count     4177.000000     4177.000000   4177.000000  4177.000000  \n",
       "mean         0.359367        0.180594      0.238831     9.933684  \n",
       "std          0.221963        0.109614      0.139203     3.224169  \n",
       "min          0.001000        0.000500      0.001500     1.000000  \n",
       "25%          0.186000        0.093500      0.130000     8.000000  \n",
       "50%          0.336000        0.171000      0.234000     9.000000  \n",
       "75%          0.502000        0.253000      0.329000    11.000000  \n",
       "max          1.488000        0.760000      1.005000    29.000000  "
      ]
     },
     "execution_count": 11,
     "metadata": {},
     "output_type": "execute_result"
    }
   ],
   "source": [
    "abalone_df_new.describe()"
   ]
  },
  {
   "cell_type": "markdown",
   "id": "b88e8fcb",
   "metadata": {},
   "source": [
    "As count represents exact number of rows so this also shows that there is not any missing or null values present in dataset \n",
    "and we can see Abalone height is 0, which is illogical,so we fill it with mean data."
   ]
  },
  {
   "cell_type": "code",
   "execution_count": 12,
   "id": "e00cad69",
   "metadata": {},
   "outputs": [],
   "source": [
    "abalone_df_new['Height']=abalone_df_new['Height'].replace(0,abalone_df_new['Height'].mean())"
   ]
  },
  {
   "cell_type": "code",
   "execution_count": 13,
   "id": "a5d32b11",
   "metadata": {},
   "outputs": [
    {
     "data": {
      "text/html": [
       "<div>\n",
       "<style scoped>\n",
       "    .dataframe tbody tr th:only-of-type {\n",
       "        vertical-align: middle;\n",
       "    }\n",
       "\n",
       "    .dataframe tbody tr th {\n",
       "        vertical-align: top;\n",
       "    }\n",
       "\n",
       "    .dataframe thead th {\n",
       "        text-align: right;\n",
       "    }\n",
       "</style>\n",
       "<table border=\"1\" class=\"dataframe\">\n",
       "  <thead>\n",
       "    <tr style=\"text-align: right;\">\n",
       "      <th></th>\n",
       "      <th>Sex</th>\n",
       "      <th>Length</th>\n",
       "      <th>Diameter</th>\n",
       "      <th>Height</th>\n",
       "      <th>Whole_weight</th>\n",
       "      <th>Shucked_weight</th>\n",
       "      <th>Viscera_weight</th>\n",
       "      <th>Shell_weight</th>\n",
       "      <th>Rings</th>\n",
       "    </tr>\n",
       "  </thead>\n",
       "  <tbody>\n",
       "    <tr>\n",
       "      <th>count</th>\n",
       "      <td>4177.000000</td>\n",
       "      <td>4177.000000</td>\n",
       "      <td>4177.000000</td>\n",
       "      <td>4177.000000</td>\n",
       "      <td>4177.000000</td>\n",
       "      <td>4177.000000</td>\n",
       "      <td>4177.000000</td>\n",
       "      <td>4177.000000</td>\n",
       "      <td>4177.000000</td>\n",
       "    </tr>\n",
       "    <tr>\n",
       "      <th>mean</th>\n",
       "      <td>1.052909</td>\n",
       "      <td>0.523992</td>\n",
       "      <td>0.407881</td>\n",
       "      <td>0.139583</td>\n",
       "      <td>0.828742</td>\n",
       "      <td>0.359367</td>\n",
       "      <td>0.180594</td>\n",
       "      <td>0.238831</td>\n",
       "      <td>9.933684</td>\n",
       "    </tr>\n",
       "    <tr>\n",
       "      <th>std</th>\n",
       "      <td>0.822240</td>\n",
       "      <td>0.120093</td>\n",
       "      <td>0.099240</td>\n",
       "      <td>0.041715</td>\n",
       "      <td>0.490389</td>\n",
       "      <td>0.221963</td>\n",
       "      <td>0.109614</td>\n",
       "      <td>0.139203</td>\n",
       "      <td>3.224169</td>\n",
       "    </tr>\n",
       "    <tr>\n",
       "      <th>min</th>\n",
       "      <td>0.000000</td>\n",
       "      <td>0.075000</td>\n",
       "      <td>0.055000</td>\n",
       "      <td>0.010000</td>\n",
       "      <td>0.002000</td>\n",
       "      <td>0.001000</td>\n",
       "      <td>0.000500</td>\n",
       "      <td>0.001500</td>\n",
       "      <td>1.000000</td>\n",
       "    </tr>\n",
       "    <tr>\n",
       "      <th>25%</th>\n",
       "      <td>0.000000</td>\n",
       "      <td>0.450000</td>\n",
       "      <td>0.350000</td>\n",
       "      <td>0.115000</td>\n",
       "      <td>0.441500</td>\n",
       "      <td>0.186000</td>\n",
       "      <td>0.093500</td>\n",
       "      <td>0.130000</td>\n",
       "      <td>8.000000</td>\n",
       "    </tr>\n",
       "    <tr>\n",
       "      <th>50%</th>\n",
       "      <td>1.000000</td>\n",
       "      <td>0.545000</td>\n",
       "      <td>0.425000</td>\n",
       "      <td>0.140000</td>\n",
       "      <td>0.799500</td>\n",
       "      <td>0.336000</td>\n",
       "      <td>0.171000</td>\n",
       "      <td>0.234000</td>\n",
       "      <td>9.000000</td>\n",
       "    </tr>\n",
       "    <tr>\n",
       "      <th>75%</th>\n",
       "      <td>2.000000</td>\n",
       "      <td>0.615000</td>\n",
       "      <td>0.480000</td>\n",
       "      <td>0.165000</td>\n",
       "      <td>1.153000</td>\n",
       "      <td>0.502000</td>\n",
       "      <td>0.253000</td>\n",
       "      <td>0.329000</td>\n",
       "      <td>11.000000</td>\n",
       "    </tr>\n",
       "    <tr>\n",
       "      <th>max</th>\n",
       "      <td>2.000000</td>\n",
       "      <td>0.815000</td>\n",
       "      <td>0.650000</td>\n",
       "      <td>1.130000</td>\n",
       "      <td>2.825500</td>\n",
       "      <td>1.488000</td>\n",
       "      <td>0.760000</td>\n",
       "      <td>1.005000</td>\n",
       "      <td>29.000000</td>\n",
       "    </tr>\n",
       "  </tbody>\n",
       "</table>\n",
       "</div>"
      ],
      "text/plain": [
       "               Sex       Length     Diameter       Height  Whole_weight  \\\n",
       "count  4177.000000  4177.000000  4177.000000  4177.000000   4177.000000   \n",
       "mean      1.052909     0.523992     0.407881     0.139583      0.828742   \n",
       "std       0.822240     0.120093     0.099240     0.041715      0.490389   \n",
       "min       0.000000     0.075000     0.055000     0.010000      0.002000   \n",
       "25%       0.000000     0.450000     0.350000     0.115000      0.441500   \n",
       "50%       1.000000     0.545000     0.425000     0.140000      0.799500   \n",
       "75%       2.000000     0.615000     0.480000     0.165000      1.153000   \n",
       "max       2.000000     0.815000     0.650000     1.130000      2.825500   \n",
       "\n",
       "       Shucked_weight  Viscera_weight  Shell_weight        Rings  \n",
       "count     4177.000000     4177.000000   4177.000000  4177.000000  \n",
       "mean         0.359367        0.180594      0.238831     9.933684  \n",
       "std          0.221963        0.109614      0.139203     3.224169  \n",
       "min          0.001000        0.000500      0.001500     1.000000  \n",
       "25%          0.186000        0.093500      0.130000     8.000000  \n",
       "50%          0.336000        0.171000      0.234000     9.000000  \n",
       "75%          0.502000        0.253000      0.329000    11.000000  \n",
       "max          1.488000        0.760000      1.005000    29.000000  "
      ]
     },
     "execution_count": 13,
     "metadata": {},
     "output_type": "execute_result"
    }
   ],
   "source": [
    "## Checking for updated min value of Height:-\n",
    "abalone_df_new.describe()"
   ]
  },
  {
   "cell_type": "markdown",
   "id": "450aa4cc",
   "metadata": {},
   "source": [
    "Dataset is looking good. Not any missing or null values are present. "
   ]
  },
  {
   "cell_type": "code",
   "execution_count": 14,
   "id": "7b5f035f",
   "metadata": {},
   "outputs": [
    {
     "data": {
      "image/png": "[encoded data removed]",
      "text/plain": [
       "<Figure size 1440x1440 with 9 Axes>"
      ]
     },
     "metadata": {},
     "output_type": "display_data"
    }
   ],
   "source": [
    "## Now using visualization will try to find distribution of data in the columns:-\n",
    "plt.figure(figsize=(20,20),facecolor = 'blue')\n",
    "plotnumber = 1\n",
    "for column in abalone_df_new:\n",
    "    if plotnumber <=9:\n",
    "        ax = plt.subplot(3,3,plotnumber)\n",
    "        sns.distplot(abalone_df_new[column])\n",
    "        plt.xlabel(column,fontsize=20)\n",
    "    plotnumber +=1\n",
    "plt.show()    "
   ]
  },
  {
   "cell_type": "markdown",
   "id": "7e271ae4",
   "metadata": {},
   "source": [
    "As sex column has categorical data,so no need to check for outliers and skewness.From the above graph whole weight,shucked weight,viscera weight,and shell weight are showing little bit skewnwss.So will confirm with other visualization graph."
   ]
  },
  {
   "cell_type": "code",
   "execution_count": 15,
   "id": "365f539c",
   "metadata": {},
   "outputs": [
    {
     "data": {
      "text/html": [
       "<div>\n",
       "<style scoped>\n",
       "    .dataframe tbody tr th:only-of-type {\n",
       "        vertical-align: middle;\n",
       "    }\n",
       "\n",
       "    .dataframe tbody tr th {\n",
       "        vertical-align: top;\n",
       "    }\n",
       "\n",
       "    .dataframe thead th {\n",
       "        text-align: right;\n",
       "    }\n",
       "</style>\n",
       "<table border=\"1\" class=\"dataframe\">\n",
       "  <thead>\n",
       "    <tr style=\"text-align: right;\">\n",
       "      <th></th>\n",
       "      <th>Sex</th>\n",
       "      <th>Length</th>\n",
       "      <th>Diameter</th>\n",
       "      <th>Height</th>\n",
       "      <th>Whole_weight</th>\n",
       "      <th>Shucked_weight</th>\n",
       "      <th>Viscera_weight</th>\n",
       "      <th>Shell_weight</th>\n",
       "    </tr>\n",
       "  </thead>\n",
       "  <tbody>\n",
       "    <tr>\n",
       "      <th>0</th>\n",
       "      <td>2</td>\n",
       "      <td>0.455</td>\n",
       "      <td>0.365</td>\n",
       "      <td>0.095</td>\n",
       "      <td>0.5140</td>\n",
       "      <td>0.2245</td>\n",
       "      <td>0.1010</td>\n",
       "      <td>0.1500</td>\n",
       "    </tr>\n",
       "    <tr>\n",
       "      <th>1</th>\n",
       "      <td>2</td>\n",
       "      <td>0.350</td>\n",
       "      <td>0.265</td>\n",
       "      <td>0.090</td>\n",
       "      <td>0.2255</td>\n",
       "      <td>0.0995</td>\n",
       "      <td>0.0485</td>\n",
       "      <td>0.0700</td>\n",
       "    </tr>\n",
       "    <tr>\n",
       "      <th>2</th>\n",
       "      <td>0</td>\n",
       "      <td>0.530</td>\n",
       "      <td>0.420</td>\n",
       "      <td>0.135</td>\n",
       "      <td>0.6770</td>\n",
       "      <td>0.2565</td>\n",
       "      <td>0.1415</td>\n",
       "      <td>0.2100</td>\n",
       "    </tr>\n",
       "    <tr>\n",
       "      <th>3</th>\n",
       "      <td>2</td>\n",
       "      <td>0.440</td>\n",
       "      <td>0.365</td>\n",
       "      <td>0.125</td>\n",
       "      <td>0.5160</td>\n",
       "      <td>0.2155</td>\n",
       "      <td>0.1140</td>\n",
       "      <td>0.1550</td>\n",
       "    </tr>\n",
       "    <tr>\n",
       "      <th>4</th>\n",
       "      <td>1</td>\n",
       "      <td>0.330</td>\n",
       "      <td>0.255</td>\n",
       "      <td>0.080</td>\n",
       "      <td>0.2050</td>\n",
       "      <td>0.0895</td>\n",
       "      <td>0.0395</td>\n",
       "      <td>0.0550</td>\n",
       "    </tr>\n",
       "    <tr>\n",
       "      <th>...</th>\n",
       "      <td>...</td>\n",
       "      <td>...</td>\n",
       "      <td>...</td>\n",
       "      <td>...</td>\n",
       "      <td>...</td>\n",
       "      <td>...</td>\n",
       "      <td>...</td>\n",
       "      <td>...</td>\n",
       "    </tr>\n",
       "    <tr>\n",
       "      <th>4172</th>\n",
       "      <td>0</td>\n",
       "      <td>0.565</td>\n",
       "      <td>0.450</td>\n",
       "      <td>0.165</td>\n",
       "      <td>0.8870</td>\n",
       "      <td>0.3700</td>\n",
       "      <td>0.2390</td>\n",
       "      <td>0.2490</td>\n",
       "    </tr>\n",
       "    <tr>\n",
       "      <th>4173</th>\n",
       "      <td>2</td>\n",
       "      <td>0.590</td>\n",
       "      <td>0.440</td>\n",
       "      <td>0.135</td>\n",
       "      <td>0.9660</td>\n",
       "      <td>0.4390</td>\n",
       "      <td>0.2145</td>\n",
       "      <td>0.2605</td>\n",
       "    </tr>\n",
       "    <tr>\n",
       "      <th>4174</th>\n",
       "      <td>2</td>\n",
       "      <td>0.600</td>\n",
       "      <td>0.475</td>\n",
       "      <td>0.205</td>\n",
       "      <td>1.1760</td>\n",
       "      <td>0.5255</td>\n",
       "      <td>0.2875</td>\n",
       "      <td>0.3080</td>\n",
       "    </tr>\n",
       "    <tr>\n",
       "      <th>4175</th>\n",
       "      <td>0</td>\n",
       "      <td>0.625</td>\n",
       "      <td>0.485</td>\n",
       "      <td>0.150</td>\n",
       "      <td>1.0945</td>\n",
       "      <td>0.5310</td>\n",
       "      <td>0.2610</td>\n",
       "      <td>0.2960</td>\n",
       "    </tr>\n",
       "    <tr>\n",
       "      <th>4176</th>\n",
       "      <td>2</td>\n",
       "      <td>0.710</td>\n",
       "      <td>0.555</td>\n",
       "      <td>0.195</td>\n",
       "      <td>1.9485</td>\n",
       "      <td>0.9455</td>\n",
       "      <td>0.3765</td>\n",
       "      <td>0.4950</td>\n",
       "    </tr>\n",
       "  </tbody>\n",
       "</table>\n",
       "<p>4177 rows × 8 columns</p>\n",
       "</div>"
      ],
      "text/plain": [
       "      Sex  Length  Diameter  Height  Whole_weight  Shucked_weight  \\\n",
       "0       2   0.455     0.365   0.095        0.5140          0.2245   \n",
       "1       2   0.350     0.265   0.090        0.2255          0.0995   \n",
       "2       0   0.530     0.420   0.135        0.6770          0.2565   \n",
       "3       2   0.440     0.365   0.125        0.5160          0.2155   \n",
       "4       1   0.330     0.255   0.080        0.2050          0.0895   \n",
       "...   ...     ...       ...     ...           ...             ...   \n",
       "4172    0   0.565     0.450   0.165        0.8870          0.3700   \n",
       "4173    2   0.590     0.440   0.135        0.9660          0.4390   \n",
       "4174    2   0.600     0.475   0.205        1.1760          0.5255   \n",
       "4175    0   0.625     0.485   0.150        1.0945          0.5310   \n",
       "4176    2   0.710     0.555   0.195        1.9485          0.9455   \n",
       "\n",
       "      Viscera_weight  Shell_weight  \n",
       "0             0.1010        0.1500  \n",
       "1             0.0485        0.0700  \n",
       "2             0.1415        0.2100  \n",
       "3             0.1140        0.1550  \n",
       "4             0.0395        0.0550  \n",
       "...              ...           ...  \n",
       "4172          0.2390        0.2490  \n",
       "4173          0.2145        0.2605  \n",
       "4174          0.2875        0.3080  \n",
       "4175          0.2610        0.2960  \n",
       "4176          0.3765        0.4950  \n",
       "\n",
       "[4177 rows x 8 columns]"
      ]
     },
     "execution_count": 15,
     "metadata": {},
     "output_type": "execute_result"
    }
   ],
   "source": [
    "## Separating label from features:-\n",
    "abalone_df_features = abalone_df_new.drop('Rings',axis=1)\n",
    "abalone_df_features"
   ]
  },
  {
   "cell_type": "code",
   "execution_count": 16,
   "id": "6663e7ab",
   "metadata": {},
   "outputs": [
    {
     "data": {
      "image/png": "[encoded data removed]",
      "text/plain": [
       "<Figure size 1440x1440 with 8 Axes>"
      ]
     },
     "metadata": {
      "needs_background": "light"
     },
     "output_type": "display_data"
    }
   ],
   "source": [
    "### Visualizing outliers using boxplot:-\n",
    "plt.figure(figsize=(20,20))\n",
    "plotnumber=1\n",
    "\n",
    "for column in abalone_df_features:\n",
    "    if plotnumber <= 8:\n",
    "        ax=plt.subplot(3,3,plotnumber)\n",
    "        sns.boxplot(abalone_df_features[column],orient='v')\n",
    "        plt.xlabel(column,fontsize=12)\n",
    "        plotnumber +=1\n",
    "plt.show()        "
   ]
  },
  {
   "cell_type": "markdown",
   "id": "6f8b52c2",
   "metadata": {},
   "source": [
    "As we can clearly see outliers are present in columns like Height,Whole_weight,Shucked_weight,Viscera_weight,Shell_weight"
   ]
  },
  {
   "cell_type": "markdown",
   "id": "dadaf3cb",
   "metadata": {},
   "source": [
    "# Using Inter quantile range to remove Outliers:"
   ]
  },
  {
   "cell_type": "code",
   "execution_count": 17,
   "id": "52845c7c",
   "metadata": {},
   "outputs": [],
   "source": [
    "## 1st quantile:-\n",
    "q1 = abalone_df_new.quantile(0.25)\n",
    "## 3rd quantile:-\n",
    "q3 = abalone_df_new.quantile(0.75)\n",
    "## IQR :-\n",
    "iqr = q3 - q1"
   ]
  },
  {
   "cell_type": "markdown",
   "id": "f14dafa7",
   "metadata": {},
   "source": [
    "Outlier Detection Formula:-\n",
    "    Higher Side = Q3 + (1.5 * IQR) \n",
    "    Lower Side = Q1 - (1.5 * IQR )"
   ]
  },
  {
   "cell_type": "code",
   "execution_count": 18,
   "id": "53a92c83",
   "metadata": {},
   "outputs": [
    {
     "data": {
      "text/plain": [
       "0.20250000000000004"
      ]
     },
     "execution_count": 18,
     "metadata": {},
     "output_type": "execute_result"
    }
   ],
   "source": [
    "### removing outliers from Length column :-\n",
    "length_lowerside =(q1.Length-(1.5 * iqr.Length))\n",
    "length_lowerside"
   ]
  },
  {
   "cell_type": "code",
   "execution_count": 22,
   "id": "84a66358",
   "metadata": {},
   "outputs": [
    {
     "data": {
      "text/plain": [
       "(array([], dtype=int64),)"
      ]
     },
     "execution_count": 22,
     "metadata": {},
     "output_type": "execute_result"
    }
   ],
   "source": [
    "### Finding index of that data which are less than .2025:-\n",
    "index =np.where(abalone_df_new['Length'] <  length_lowerside)\n",
    "index"
   ]
  },
  {
   "cell_type": "code",
   "execution_count": 20,
   "id": "dabec705",
   "metadata": {},
   "outputs": [
    {
     "data": {
      "text/plain": [
       "(4128, 9)"
      ]
     },
     "execution_count": 20,
     "metadata": {},
     "output_type": "execute_result"
    }
   ],
   "source": [
    "## Dropping that data which are  supposed to be outliers:-\n",
    "abalone_df_new = abalone_df_new.drop(abalone_df_new.index[index])\n",
    "abalone_df_new.shape"
   ]
  },
  {
   "cell_type": "code",
   "execution_count": 21,
   "id": "186fdd16",
   "metadata": {},
   "outputs": [
    {
     "data": {
      "text/plain": [
       "0.15499999999999997"
      ]
     },
     "execution_count": 21,
     "metadata": {},
     "output_type": "execute_result"
    }
   ],
   "source": [
    "## Removing outliers from Diameter:-\n",
    "Diameter_lowerside = (q1.Diameter-(1.5 * iqr.Diameter))\n",
    "Diameter_lowerside"
   ]
  },
  {
   "cell_type": "code",
   "execution_count": 23,
   "id": "ce0ce2c0",
   "metadata": {},
   "outputs": [
    {
     "data": {
      "text/plain": [
       "(array([  43,   44,  510,  873,  879, 1960, 2140, 2508, 2674, 3429, 3477,\n",
       "        3671], dtype=int64),)"
      ]
     },
     "execution_count": 23,
     "metadata": {},
     "output_type": "execute_result"
    }
   ],
   "source": [
    "### Finding index of that data which are less than .0.1549:-\n",
    "index =np.where(abalone_df_new['Diameter'] <  Diameter_lowerside)\n",
    "index"
   ]
  },
  {
   "cell_type": "code",
   "execution_count": 24,
   "id": "5c242e6b",
   "metadata": {},
   "outputs": [
    {
     "data": {
      "text/plain": [
       "(4116, 9)"
      ]
     },
     "execution_count": 24,
     "metadata": {},
     "output_type": "execute_result"
    }
   ],
   "source": [
    "## Dropping that data which are  supposed to be outliers:-\n",
    "abalone_df_new = abalone_df_new.drop(abalone_df_new.index[index])\n",
    "abalone_df_new.shape"
   ]
  },
  {
   "cell_type": "code",
   "execution_count": 25,
   "id": "aa9b62c7",
   "metadata": {},
   "outputs": [
    {
     "data": {
      "text/plain": [
       "0.039999999999999994"
      ]
     },
     "execution_count": 25,
     "metadata": {},
     "output_type": "execute_result"
    }
   ],
   "source": [
    "## Removing outliers from Height:\n",
    "height_lowerside = (q1.Height-(1.5 * iqr.Height))\n",
    "height_lowerside"
   ]
  },
  {
   "cell_type": "code",
   "execution_count": 26,
   "id": "94d47c70",
   "metadata": {},
   "outputs": [
    {
     "data": {
      "text/plain": [
       "(array([1146], dtype=int64),)"
      ]
     },
     "execution_count": 26,
     "metadata": {},
     "output_type": "execute_result"
    }
   ],
   "source": [
    "### Finding index of that data which are less than 0.03999:-\n",
    "\n",
    "index =np.where(abalone_df_new['Height'] <  height_lowerside)\n",
    "index"
   ]
  },
  {
   "cell_type": "code",
   "execution_count": 27,
   "id": "b2ce1fab",
   "metadata": {},
   "outputs": [
    {
     "data": {
      "text/plain": [
       "(4115, 9)"
      ]
     },
     "execution_count": 27,
     "metadata": {},
     "output_type": "execute_result"
    }
   ],
   "source": [
    "## Dropping that data which are  supposed to be outliers:-\n",
    "abalone_df_new = abalone_df_new.drop(abalone_df_new.index[index])\n",
    "abalone_df_new.shape"
   ]
  },
  {
   "cell_type": "code",
   "execution_count": 28,
   "id": "82378e71",
   "metadata": {},
   "outputs": [
    {
     "data": {
      "text/plain": [
       "2.22025"
      ]
     },
     "execution_count": 28,
     "metadata": {},
     "output_type": "execute_result"
    }
   ],
   "source": [
    "## Removing outliers from Whole_weight:-\n",
    "whole_weight_high = (q3.Whole_weight +(1.5 * iqr.Whole_weight))\n",
    "whole_weight_high"
   ]
  },
  {
   "cell_type": "code",
   "execution_count": 29,
   "id": "07771fe1",
   "metadata": {},
   "outputs": [
    {
     "data": {
      "text/plain": [
       "(array([ 161,  347,  869, 1027, 1028, 1164, 1177, 1178, 1180, 1396, 1397,\n",
       "        1398, 1730, 1731, 1732, 2225, 2294, 2577, 2578, 2763, 2814, 2815,\n",
       "        2959, 2960, 3138, 3374, 3543, 3658, 3742, 3932], dtype=int64),)"
      ]
     },
     "execution_count": 29,
     "metadata": {},
     "output_type": "execute_result"
    }
   ],
   "source": [
    "### Finding index of that data which are Greater than 2.2202:-\n",
    "\n",
    "index =np.where(abalone_df_new['Whole_weight'] >  whole_weight_high)\n",
    "index"
   ]
  },
  {
   "cell_type": "code",
   "execution_count": 30,
   "id": "ecc78dc9",
   "metadata": {},
   "outputs": [
    {
     "data": {
      "text/plain": [
       "(4085, 9)"
      ]
     },
     "execution_count": 30,
     "metadata": {},
     "output_type": "execute_result"
    }
   ],
   "source": [
    "## Dropping that data which are  supposed to be outliers:-\n",
    "abalone_df_new = abalone_df_new.drop(abalone_df_new.index[index])\n",
    "abalone_df_new.shape"
   ]
  },
  {
   "cell_type": "code",
   "execution_count": 31,
   "id": "3c626977",
   "metadata": {},
   "outputs": [
    {
     "data": {
      "text/plain": [
       "0.976"
      ]
     },
     "execution_count": 31,
     "metadata": {},
     "output_type": "execute_result"
    }
   ],
   "source": [
    "## Removing outliers from Shucked_weight:-\n",
    "shucked_weight_high = (q3.Shucked_weight +(1.5 * iqr.Shucked_weight))\n",
    "shucked_weight_high"
   ]
  },
  {
   "cell_type": "code",
   "execution_count": 32,
   "id": "3019f942",
   "metadata": {},
   "outputs": [
    {
     "data": {
      "text/plain": [
       "(array([1021, 1162, 1164, 1167, 1378, 1379, 1484, 1485, 1706, 1707, 1711,\n",
       "        1713, 1775, 1935, 2482, 2560, 2610, 2645, 2743, 2900, 2902, 3010,\n",
       "        3629, 3871, 3872], dtype=int64),)"
      ]
     },
     "execution_count": 32,
     "metadata": {},
     "output_type": "execute_result"
    }
   ],
   "source": [
    "### Finding index of that data which are Greater than 0.976:-\n",
    "\n",
    "index =np.where(abalone_df_new['Shucked_weight'] >  shucked_weight_high)\n",
    "index"
   ]
  },
  {
   "cell_type": "code",
   "execution_count": 33,
   "id": "903f4e56",
   "metadata": {},
   "outputs": [
    {
     "data": {
      "text/plain": [
       "(4060, 9)"
      ]
     },
     "execution_count": 33,
     "metadata": {},
     "output_type": "execute_result"
    }
   ],
   "source": [
    "## Dropping that data which are  supposed to be outliers:-\n",
    "abalone_df_new = abalone_df_new.drop(abalone_df_new.index[index])\n",
    "abalone_df_new.shape"
   ]
  },
  {
   "cell_type": "code",
   "execution_count": 34,
   "id": "b23baeec",
   "metadata": {},
   "outputs": [
    {
     "data": {
      "text/plain": [
       "0.49225"
      ]
     },
     "execution_count": 34,
     "metadata": {},
     "output_type": "execute_result"
    }
   ],
   "source": [
    "## Removing outliers from  Viscera weight:-\n",
    "Viscera_weight_high = (q3.Viscera_weight +(1.5 * iqr.Viscera_weight))\n",
    "Viscera_weight_high"
   ]
  },
  {
   "cell_type": "code",
   "execution_count": 35,
   "id": "8d280df9",
   "metadata": {},
   "outputs": [
    {
     "data": {
      "text/plain": [
       "(array([ 165, 1165, 1377, 1702, 1704, 2627, 3522, 4031], dtype=int64),)"
      ]
     },
     "execution_count": 35,
     "metadata": {},
     "output_type": "execute_result"
    }
   ],
   "source": [
    "### Finding index of that data which are Greater than 0.49225:-\n",
    "\n",
    "index =np.where(abalone_df_new['Viscera_weight'] >  Viscera_weight_high)\n",
    "index"
   ]
  },
  {
   "cell_type": "code",
   "execution_count": 36,
   "id": "e629f156",
   "metadata": {},
   "outputs": [
    {
     "data": {
      "text/plain": [
       "(4052, 9)"
      ]
     },
     "execution_count": 36,
     "metadata": {},
     "output_type": "execute_result"
    }
   ],
   "source": [
    "## Dropping that data which are  supposed to be outliers:-\n",
    "abalone_df_new = abalone_df_new.drop(abalone_df_new.index[index])\n",
    "abalone_df_new.shape"
   ]
  },
  {
   "cell_type": "code",
   "execution_count": null,
   "id": "0a217139",
   "metadata": {},
   "outputs": [],
   "source": [
    "### Removing outliers from Shell_weight:-"
   ]
  },
  {
   "cell_type": "code",
   "execution_count": 38,
   "id": "b9cf206f",
   "metadata": {},
   "outputs": [
    {
     "data": {
      "text/plain": [
       "0.6275"
      ]
     },
     "execution_count": 38,
     "metadata": {},
     "output_type": "execute_result"
    }
   ],
   "source": [
    "shell_weight_high = (q3.Shell_weight +(1.5 * iqr.Shell_weight))\n",
    "shell_weight_high"
   ]
  },
  {
   "cell_type": "code",
   "execution_count": 39,
   "id": "d34a9f7d",
   "metadata": {},
   "outputs": [
    {
     "data": {
      "text/plain": [
       "(array([  79,  127,  153,  159,  160,  161,  162,  163,  267,  321, 1759,\n",
       "        1919, 2021, 2039, 2086, 2090, 2134, 2199, 2291, 3046, 3047, 3049,\n",
       "        3808, 4021], dtype=int64),)"
      ]
     },
     "execution_count": 39,
     "metadata": {},
     "output_type": "execute_result"
    }
   ],
   "source": [
    "### Finding index of that data which are Greater than 0.6275:-\n",
    "\n",
    "index =np.where(abalone_df_new['Shell_weight'] >  shell_weight_high)\n",
    "index"
   ]
  },
  {
   "cell_type": "code",
   "execution_count": 40,
   "id": "e3af8b67",
   "metadata": {},
   "outputs": [
    {
     "data": {
      "text/plain": [
       "(4028, 9)"
      ]
     },
     "execution_count": 40,
     "metadata": {},
     "output_type": "execute_result"
    }
   ],
   "source": [
    "## Dropping that data which are  supposed to be outliers:-\n",
    "abalone_df_new = abalone_df_new.drop(abalone_df_new.index[index])\n",
    "abalone_df_new.shape"
   ]
  },
  {
   "cell_type": "code",
   "execution_count": 41,
   "id": "a4d0633b",
   "metadata": {},
   "outputs": [
    {
     "data": {
      "text/html": [
       "<div>\n",
       "<style scoped>\n",
       "    .dataframe tbody tr th:only-of-type {\n",
       "        vertical-align: middle;\n",
       "    }\n",
       "\n",
       "    .dataframe tbody tr th {\n",
       "        vertical-align: top;\n",
       "    }\n",
       "\n",
       "    .dataframe thead th {\n",
       "        text-align: right;\n",
       "    }\n",
       "</style>\n",
       "<table border=\"1\" class=\"dataframe\">\n",
       "  <thead>\n",
       "    <tr style=\"text-align: right;\">\n",
       "      <th></th>\n",
       "      <th>index</th>\n",
       "      <th>Sex</th>\n",
       "      <th>Length</th>\n",
       "      <th>Diameter</th>\n",
       "      <th>Height</th>\n",
       "      <th>Whole_weight</th>\n",
       "      <th>Shucked_weight</th>\n",
       "      <th>Viscera_weight</th>\n",
       "      <th>Shell_weight</th>\n",
       "      <th>Rings</th>\n",
       "    </tr>\n",
       "  </thead>\n",
       "  <tbody>\n",
       "    <tr>\n",
       "      <th>0</th>\n",
       "      <td>0</td>\n",
       "      <td>2</td>\n",
       "      <td>0.455</td>\n",
       "      <td>0.365</td>\n",
       "      <td>0.095</td>\n",
       "      <td>0.5140</td>\n",
       "      <td>0.2245</td>\n",
       "      <td>0.1010</td>\n",
       "      <td>0.1500</td>\n",
       "      <td>15</td>\n",
       "    </tr>\n",
       "    <tr>\n",
       "      <th>1</th>\n",
       "      <td>1</td>\n",
       "      <td>2</td>\n",
       "      <td>0.350</td>\n",
       "      <td>0.265</td>\n",
       "      <td>0.090</td>\n",
       "      <td>0.2255</td>\n",
       "      <td>0.0995</td>\n",
       "      <td>0.0485</td>\n",
       "      <td>0.0700</td>\n",
       "      <td>7</td>\n",
       "    </tr>\n",
       "    <tr>\n",
       "      <th>2</th>\n",
       "      <td>2</td>\n",
       "      <td>0</td>\n",
       "      <td>0.530</td>\n",
       "      <td>0.420</td>\n",
       "      <td>0.135</td>\n",
       "      <td>0.6770</td>\n",
       "      <td>0.2565</td>\n",
       "      <td>0.1415</td>\n",
       "      <td>0.2100</td>\n",
       "      <td>9</td>\n",
       "    </tr>\n",
       "    <tr>\n",
       "      <th>3</th>\n",
       "      <td>3</td>\n",
       "      <td>2</td>\n",
       "      <td>0.440</td>\n",
       "      <td>0.365</td>\n",
       "      <td>0.125</td>\n",
       "      <td>0.5160</td>\n",
       "      <td>0.2155</td>\n",
       "      <td>0.1140</td>\n",
       "      <td>0.1550</td>\n",
       "      <td>10</td>\n",
       "    </tr>\n",
       "    <tr>\n",
       "      <th>4</th>\n",
       "      <td>4</td>\n",
       "      <td>1</td>\n",
       "      <td>0.330</td>\n",
       "      <td>0.255</td>\n",
       "      <td>0.080</td>\n",
       "      <td>0.2050</td>\n",
       "      <td>0.0895</td>\n",
       "      <td>0.0395</td>\n",
       "      <td>0.0550</td>\n",
       "      <td>7</td>\n",
       "    </tr>\n",
       "    <tr>\n",
       "      <th>...</th>\n",
       "      <td>...</td>\n",
       "      <td>...</td>\n",
       "      <td>...</td>\n",
       "      <td>...</td>\n",
       "      <td>...</td>\n",
       "      <td>...</td>\n",
       "      <td>...</td>\n",
       "      <td>...</td>\n",
       "      <td>...</td>\n",
       "      <td>...</td>\n",
       "    </tr>\n",
       "    <tr>\n",
       "      <th>4023</th>\n",
       "      <td>4172</td>\n",
       "      <td>0</td>\n",
       "      <td>0.565</td>\n",
       "      <td>0.450</td>\n",
       "      <td>0.165</td>\n",
       "      <td>0.8870</td>\n",
       "      <td>0.3700</td>\n",
       "      <td>0.2390</td>\n",
       "      <td>0.2490</td>\n",
       "      <td>11</td>\n",
       "    </tr>\n",
       "    <tr>\n",
       "      <th>4024</th>\n",
       "      <td>4173</td>\n",
       "      <td>2</td>\n",
       "      <td>0.590</td>\n",
       "      <td>0.440</td>\n",
       "      <td>0.135</td>\n",
       "      <td>0.9660</td>\n",
       "      <td>0.4390</td>\n",
       "      <td>0.2145</td>\n",
       "      <td>0.2605</td>\n",
       "      <td>10</td>\n",
       "    </tr>\n",
       "    <tr>\n",
       "      <th>4025</th>\n",
       "      <td>4174</td>\n",
       "      <td>2</td>\n",
       "      <td>0.600</td>\n",
       "      <td>0.475</td>\n",
       "      <td>0.205</td>\n",
       "      <td>1.1760</td>\n",
       "      <td>0.5255</td>\n",
       "      <td>0.2875</td>\n",
       "      <td>0.3080</td>\n",
       "      <td>9</td>\n",
       "    </tr>\n",
       "    <tr>\n",
       "      <th>4026</th>\n",
       "      <td>4175</td>\n",
       "      <td>0</td>\n",
       "      <td>0.625</td>\n",
       "      <td>0.485</td>\n",
       "      <td>0.150</td>\n",
       "      <td>1.0945</td>\n",
       "      <td>0.5310</td>\n",
       "      <td>0.2610</td>\n",
       "      <td>0.2960</td>\n",
       "      <td>10</td>\n",
       "    </tr>\n",
       "    <tr>\n",
       "      <th>4027</th>\n",
       "      <td>4176</td>\n",
       "      <td>2</td>\n",
       "      <td>0.710</td>\n",
       "      <td>0.555</td>\n",
       "      <td>0.195</td>\n",
       "      <td>1.9485</td>\n",
       "      <td>0.9455</td>\n",
       "      <td>0.3765</td>\n",
       "      <td>0.4950</td>\n",
       "      <td>12</td>\n",
       "    </tr>\n",
       "  </tbody>\n",
       "</table>\n",
       "<p>4028 rows × 10 columns</p>\n",
       "</div>"
      ],
      "text/plain": [
       "      index  Sex  Length  Diameter  Height  Whole_weight  Shucked_weight  \\\n",
       "0         0    2   0.455     0.365   0.095        0.5140          0.2245   \n",
       "1         1    2   0.350     0.265   0.090        0.2255          0.0995   \n",
       "2         2    0   0.530     0.420   0.135        0.6770          0.2565   \n",
       "3         3    2   0.440     0.365   0.125        0.5160          0.2155   \n",
       "4         4    1   0.330     0.255   0.080        0.2050          0.0895   \n",
       "...     ...  ...     ...       ...     ...           ...             ...   \n",
       "4023   4172    0   0.565     0.450   0.165        0.8870          0.3700   \n",
       "4024   4173    2   0.590     0.440   0.135        0.9660          0.4390   \n",
       "4025   4174    2   0.600     0.475   0.205        1.1760          0.5255   \n",
       "4026   4175    0   0.625     0.485   0.150        1.0945          0.5310   \n",
       "4027   4176    2   0.710     0.555   0.195        1.9485          0.9455   \n",
       "\n",
       "      Viscera_weight  Shell_weight  Rings  \n",
       "0             0.1010        0.1500     15  \n",
       "1             0.0485        0.0700      7  \n",
       "2             0.1415        0.2100      9  \n",
       "3             0.1140        0.1550     10  \n",
       "4             0.0395        0.0550      7  \n",
       "...              ...           ...    ...  \n",
       "4023          0.2390        0.2490     11  \n",
       "4024          0.2145        0.2605     10  \n",
       "4025          0.2875        0.3080      9  \n",
       "4026          0.2610        0.2960     10  \n",
       "4027          0.3765        0.4950     12  \n",
       "\n",
       "[4028 rows x 10 columns]"
      ]
     },
     "execution_count": 41,
     "metadata": {},
     "output_type": "execute_result"
    }
   ],
   "source": [
    "abalone_df_new.reset_index()"
   ]
  },
  {
   "cell_type": "markdown",
   "id": "fdd61ca2",
   "metadata": {},
   "source": [
    "The data looks much better than before."
   ]
  },
  {
   "cell_type": "code",
   "execution_count": 42,
   "id": "4ac73bcc",
   "metadata": {},
   "outputs": [
    {
     "data": {
      "text/plain": [
       "<AxesSubplot:>"
      ]
     },
     "execution_count": 42,
     "metadata": {},
     "output_type": "execute_result"
    },
    {
     "data": {
      "image/png": "[encoded data removed]",
      "text/plain": [
       "<Figure size 1440x1440 with 2 Axes>"
      ]
     },
     "metadata": {
      "needs_background": "light"
     },
     "output_type": "display_data"
    }
   ],
   "source": [
    "## Checking correlation using Heatmap\n",
    "plt.figure(figsize=(20,20))\n",
    "sns.heatmap(abalone_df_new.corr(),annot =True)"
   ]
  },
  {
   "cell_type": "markdown",
   "id": "3ece3cba",
   "metadata": {},
   "source": [
    "Checking the columns which are positively or negatively related with target column:-"
   ]
  },
  {
   "cell_type": "code",
   "execution_count": 45,
   "id": "7330d8f3",
   "metadata": {},
   "outputs": [
    {
     "data": {
      "image/png": "[encoded data removed]",
      "text/plain": [
       "<Figure size 1440x720 with 1 Axes>"
      ]
     },
     "metadata": {
      "needs_background": "light"
     },
     "output_type": "display_data"
    }
   ],
   "source": [
    "plt.figure(figsize=(20,10))\n",
    "abalone_df_new.corr()['Rings'].sort_values(ascending=False).drop(['Rings']).plot(kind='bar',color='c')\n",
    "plt.xlabel('Feature',fontsize='12')\n",
    "plt.ylabel('Rings')\n",
    "plt.title('correlation',fontsize=18)\n",
    "plt.show()\n",
    "\n"
   ]
  },
  {
   "cell_type": "code",
   "execution_count": 46,
   "id": "4e8ec410",
   "metadata": {},
   "outputs": [
    {
     "data": {
      "text/plain": [
       "Sex              -0.088957\n",
       "Length           -0.539590\n",
       "Diameter         -0.519376\n",
       "Height            3.924135\n",
       "Whole_weight      0.306025\n",
       "Shucked_weight    0.427458\n",
       "Viscera_weight    0.423549\n",
       "Shell_weight      0.344199\n",
       "Rings             1.206687\n",
       "dtype: float64"
      ]
     },
     "execution_count": 46,
     "metadata": {},
     "output_type": "execute_result"
    }
   ],
   "source": [
    "### checking skewnees:-\n",
    "abalone_df_new.skew()"
   ]
  },
  {
   "cell_type": "markdown",
   "id": "4da33bc3",
   "metadata": {},
   "source": [
    "Keeping +/-0.5 as the range for skewness,We can see only Height column is not in the range,so will treat it using squareroot method."
   ]
  },
  {
   "cell_type": "code",
   "execution_count": 47,
   "id": "b07dc241",
   "metadata": {},
   "outputs": [
    {
     "data": {
      "text/plain": [
       "<AxesSubplot:xlabel='Height', ylabel='Density'>"
      ]
     },
     "execution_count": 47,
     "metadata": {},
     "output_type": "execute_result"
    },
    {
     "data": {
      "image/png": "[encoded data removed]",
      "text/plain": [
       "<Figure size 432x288 with 1 Axes>"
      ]
     },
     "metadata": {
      "needs_background": "light"
     },
     "output_type": "display_data"
    }
   ],
   "source": [
    "sns.distplot(abalone_df_new['Height'])"
   ]
  },
  {
   "cell_type": "code",
   "execution_count": 48,
   "id": "8ab29213",
   "metadata": {},
   "outputs": [],
   "source": [
    "### Using square root method for treating positive skewness:-\n",
    "abalone_df_new['Height'] =np.sqrt(abalone_df_new['Height'])"
   ]
  },
  {
   "cell_type": "code",
   "execution_count": 49,
   "id": "9c01b4d9",
   "metadata": {},
   "outputs": [
    {
     "data": {
      "text/plain": [
       "<AxesSubplot:xlabel='Height', ylabel='Density'>"
      ]
     },
     "execution_count": 49,
     "metadata": {},
     "output_type": "execute_result"
    },
    {
     "data": {
      "image/png": "[encoded data removed]",
      "text/plain": [
       "<Figure size 432x288 with 1 Axes>"
      ]
     },
     "metadata": {
      "needs_background": "light"
     },
     "output_type": "display_data"
    }
   ],
   "source": [
    "### Visualizing through graph:-\n",
    "sns.distplot(abalone_df_new['Height'])"
   ]
  },
  {
   "cell_type": "code",
   "execution_count": 50,
   "id": "780ac130",
   "metadata": {},
   "outputs": [
    {
     "data": {
      "text/html": [
       "<div>\n",
       "<style scoped>\n",
       "    .dataframe tbody tr th:only-of-type {\n",
       "        vertical-align: middle;\n",
       "    }\n",
       "\n",
       "    .dataframe tbody tr th {\n",
       "        vertical-align: top;\n",
       "    }\n",
       "\n",
       "    .dataframe thead th {\n",
       "        text-align: right;\n",
       "    }\n",
       "</style>\n",
       "<table border=\"1\" class=\"dataframe\">\n",
       "  <thead>\n",
       "    <tr style=\"text-align: right;\">\n",
       "      <th></th>\n",
       "      <th>Sex</th>\n",
       "      <th>Length</th>\n",
       "      <th>Diameter</th>\n",
       "      <th>Height</th>\n",
       "      <th>Whole_weight</th>\n",
       "      <th>Shucked_weight</th>\n",
       "      <th>Viscera_weight</th>\n",
       "      <th>Shell_weight</th>\n",
       "      <th>Rings</th>\n",
       "    </tr>\n",
       "  </thead>\n",
       "  <tbody>\n",
       "    <tr>\n",
       "      <th>0</th>\n",
       "      <td>2</td>\n",
       "      <td>0.455</td>\n",
       "      <td>0.365</td>\n",
       "      <td>0.308221</td>\n",
       "      <td>0.5140</td>\n",
       "      <td>0.2245</td>\n",
       "      <td>0.1010</td>\n",
       "      <td>0.1500</td>\n",
       "      <td>15</td>\n",
       "    </tr>\n",
       "    <tr>\n",
       "      <th>1</th>\n",
       "      <td>2</td>\n",
       "      <td>0.350</td>\n",
       "      <td>0.265</td>\n",
       "      <td>0.300000</td>\n",
       "      <td>0.2255</td>\n",
       "      <td>0.0995</td>\n",
       "      <td>0.0485</td>\n",
       "      <td>0.0700</td>\n",
       "      <td>7</td>\n",
       "    </tr>\n",
       "    <tr>\n",
       "      <th>2</th>\n",
       "      <td>0</td>\n",
       "      <td>0.530</td>\n",
       "      <td>0.420</td>\n",
       "      <td>0.367423</td>\n",
       "      <td>0.6770</td>\n",
       "      <td>0.2565</td>\n",
       "      <td>0.1415</td>\n",
       "      <td>0.2100</td>\n",
       "      <td>9</td>\n",
       "    </tr>\n",
       "    <tr>\n",
       "      <th>3</th>\n",
       "      <td>2</td>\n",
       "      <td>0.440</td>\n",
       "      <td>0.365</td>\n",
       "      <td>0.353553</td>\n",
       "      <td>0.5160</td>\n",
       "      <td>0.2155</td>\n",
       "      <td>0.1140</td>\n",
       "      <td>0.1550</td>\n",
       "      <td>10</td>\n",
       "    </tr>\n",
       "    <tr>\n",
       "      <th>4</th>\n",
       "      <td>1</td>\n",
       "      <td>0.330</td>\n",
       "      <td>0.255</td>\n",
       "      <td>0.282843</td>\n",
       "      <td>0.2050</td>\n",
       "      <td>0.0895</td>\n",
       "      <td>0.0395</td>\n",
       "      <td>0.0550</td>\n",
       "      <td>7</td>\n",
       "    </tr>\n",
       "    <tr>\n",
       "      <th>...</th>\n",
       "      <td>...</td>\n",
       "      <td>...</td>\n",
       "      <td>...</td>\n",
       "      <td>...</td>\n",
       "      <td>...</td>\n",
       "      <td>...</td>\n",
       "      <td>...</td>\n",
       "      <td>...</td>\n",
       "      <td>...</td>\n",
       "    </tr>\n",
       "    <tr>\n",
       "      <th>4172</th>\n",
       "      <td>0</td>\n",
       "      <td>0.565</td>\n",
       "      <td>0.450</td>\n",
       "      <td>0.406202</td>\n",
       "      <td>0.8870</td>\n",
       "      <td>0.3700</td>\n",
       "      <td>0.2390</td>\n",
       "      <td>0.2490</td>\n",
       "      <td>11</td>\n",
       "    </tr>\n",
       "    <tr>\n",
       "      <th>4173</th>\n",
       "      <td>2</td>\n",
       "      <td>0.590</td>\n",
       "      <td>0.440</td>\n",
       "      <td>0.367423</td>\n",
       "      <td>0.9660</td>\n",
       "      <td>0.4390</td>\n",
       "      <td>0.2145</td>\n",
       "      <td>0.2605</td>\n",
       "      <td>10</td>\n",
       "    </tr>\n",
       "    <tr>\n",
       "      <th>4174</th>\n",
       "      <td>2</td>\n",
       "      <td>0.600</td>\n",
       "      <td>0.475</td>\n",
       "      <td>0.452769</td>\n",
       "      <td>1.1760</td>\n",
       "      <td>0.5255</td>\n",
       "      <td>0.2875</td>\n",
       "      <td>0.3080</td>\n",
       "      <td>9</td>\n",
       "    </tr>\n",
       "    <tr>\n",
       "      <th>4175</th>\n",
       "      <td>0</td>\n",
       "      <td>0.625</td>\n",
       "      <td>0.485</td>\n",
       "      <td>0.387298</td>\n",
       "      <td>1.0945</td>\n",
       "      <td>0.5310</td>\n",
       "      <td>0.2610</td>\n",
       "      <td>0.2960</td>\n",
       "      <td>10</td>\n",
       "    </tr>\n",
       "    <tr>\n",
       "      <th>4176</th>\n",
       "      <td>2</td>\n",
       "      <td>0.710</td>\n",
       "      <td>0.555</td>\n",
       "      <td>0.441588</td>\n",
       "      <td>1.9485</td>\n",
       "      <td>0.9455</td>\n",
       "      <td>0.3765</td>\n",
       "      <td>0.4950</td>\n",
       "      <td>12</td>\n",
       "    </tr>\n",
       "  </tbody>\n",
       "</table>\n",
       "<p>4028 rows × 9 columns</p>\n",
       "</div>"
      ],
      "text/plain": [
       "      Sex  Length  Diameter    Height  Whole_weight  Shucked_weight  \\\n",
       "0       2   0.455     0.365  0.308221        0.5140          0.2245   \n",
       "1       2   0.350     0.265  0.300000        0.2255          0.0995   \n",
       "2       0   0.530     0.420  0.367423        0.6770          0.2565   \n",
       "3       2   0.440     0.365  0.353553        0.5160          0.2155   \n",
       "4       1   0.330     0.255  0.282843        0.2050          0.0895   \n",
       "...   ...     ...       ...       ...           ...             ...   \n",
       "4172    0   0.565     0.450  0.406202        0.8870          0.3700   \n",
       "4173    2   0.590     0.440  0.367423        0.9660          0.4390   \n",
       "4174    2   0.600     0.475  0.452769        1.1760          0.5255   \n",
       "4175    0   0.625     0.485  0.387298        1.0945          0.5310   \n",
       "4176    2   0.710     0.555  0.441588        1.9485          0.9455   \n",
       "\n",
       "      Viscera_weight  Shell_weight  Rings  \n",
       "0             0.1010        0.1500     15  \n",
       "1             0.0485        0.0700      7  \n",
       "2             0.1415        0.2100      9  \n",
       "3             0.1140        0.1550     10  \n",
       "4             0.0395        0.0550      7  \n",
       "...              ...           ...    ...  \n",
       "4172          0.2390        0.2490     11  \n",
       "4173          0.2145        0.2605     10  \n",
       "4174          0.2875        0.3080      9  \n",
       "4175          0.2610        0.2960     10  \n",
       "4176          0.3765        0.4950     12  \n",
       "\n",
       "[4028 rows x 9 columns]"
      ]
     },
     "execution_count": 50,
     "metadata": {},
     "output_type": "execute_result"
    }
   ],
   "source": [
    "abalone_df_new"
   ]
  },
  {
   "cell_type": "code",
   "execution_count": 51,
   "id": "78fe9de6",
   "metadata": {},
   "outputs": [
    {
     "data": {
      "text/plain": [
       "(4028, 9)"
      ]
     },
     "execution_count": 51,
     "metadata": {},
     "output_type": "execute_result"
    }
   ],
   "source": [
    "abalone_df_new.shape"
   ]
  },
  {
   "cell_type": "code",
   "execution_count": 53,
   "id": "1548b770",
   "metadata": {},
   "outputs": [
    {
     "data": {
      "text/plain": [
       "3.567153459420637"
      ]
     },
     "execution_count": 53,
     "metadata": {},
     "output_type": "execute_result"
    }
   ],
   "source": [
    "## Percentage loss of data:-\n",
    "loss_percent =((4177-4028)/4177) * 100\n",
    "loss_percent"
   ]
  },
  {
   "cell_type": "markdown",
   "id": "8b18b25b",
   "metadata": {},
   "source": [
    "# Now Separating the columns into features and label"
   ]
  },
  {
   "cell_type": "code",
   "execution_count": 55,
   "id": "25edefc1",
   "metadata": {},
   "outputs": [],
   "source": [
    "features = abalone_df_new.drop('Rings',axis =1)\n",
    "label = abalone_df_new['Rings']"
   ]
  },
  {
   "cell_type": "code",
   "execution_count": 56,
   "id": "5bb3817d",
   "metadata": {},
   "outputs": [],
   "source": [
    "## Scaling the data using Standard Scaler:-\n",
    "scaler = StandardScaler()\n",
    "x_scaler = scaler.fit_transform(features)"
   ]
  },
  {
   "cell_type": "code",
   "execution_count": 57,
   "id": "469179d0",
   "metadata": {},
   "outputs": [],
   "source": [
    "### Model Building :-\n",
    "from sklearn.linear_model import LinearRegression\n",
    "from sklearn.metrics import r2_score\n",
    "\n",
    "lr = LinearRegression()"
   ]
  },
  {
   "cell_type": "code",
   "execution_count": 59,
   "id": "ba064daf",
   "metadata": {},
   "outputs": [
    {
     "name": "stdout",
     "output_type": "stream",
     "text": [
      "At Random state 0 ,the train data accuracy is :- 0.5018320865441797 \n",
      "At Random state 0 ,the test data accuracy is :- 0.5332931832549762 \n",
      "\n",
      "\n",
      "At Random state 1 ,the train data accuracy is :- 0.5064423595210203 \n",
      "At Random state 1 ,the test data accuracy is :- 0.5234654416724602 \n",
      "\n",
      "\n",
      "At Random state 2 ,the train data accuracy is :- 0.5183402641217871 \n",
      "At Random state 2 ,the test data accuracy is :- 0.48068185633046334 \n",
      "\n",
      "\n",
      "At Random state 3 ,the train data accuracy is :- 0.5096027125349885 \n",
      "At Random state 3 ,the test data accuracy is :- 0.5057852257627311 \n",
      "\n",
      "\n",
      "At Random state 4 ,the train data accuracy is :- 0.5032216104965082 \n",
      "At Random state 4 ,the test data accuracy is :- 0.5345017189341108 \n",
      "\n",
      "\n",
      "At Random state 5 ,the train data accuracy is :- 0.5107792668922913 \n",
      "At Random state 5 ,the test data accuracy is :- 0.5123945629618822 \n",
      "\n",
      "\n",
      "At Random state 6 ,the train data accuracy is :- 0.5148415331252323 \n",
      "At Random state 6 ,the test data accuracy is :- 0.4966000217476857 \n",
      "\n",
      "\n",
      "At Random state 7 ,the train data accuracy is :- 0.5130801668939267 \n",
      "At Random state 7 ,the test data accuracy is :- 0.5048779563005839 \n",
      "\n",
      "\n",
      "At Random state 8 ,the train data accuracy is :- 0.5068554713139688 \n",
      "At Random state 8 ,the test data accuracy is :- 0.519695617181088 \n",
      "\n",
      "\n",
      "At Random state 9 ,the train data accuracy is :- 0.5127558642245045 \n",
      "At Random state 9 ,the test data accuracy is :- 0.5076249998084877 \n",
      "\n",
      "\n",
      "At Random state 10 ,the train data accuracy is :- 0.5118559482572232 \n",
      "At Random state 10 ,the test data accuracy is :- 0.5046197680752835 \n",
      "\n",
      "\n",
      "At Random state 11 ,the train data accuracy is :- 0.5148270623992942 \n",
      "At Random state 11 ,the test data accuracy is :- 0.49801538418150804 \n",
      "\n",
      "\n",
      "At Random state 12 ,the train data accuracy is :- 0.5128289757972018 \n",
      "At Random state 12 ,the test data accuracy is :- 0.5057749916527259 \n",
      "\n",
      "\n",
      "At Random state 13 ,the train data accuracy is :- 0.513665978457874 \n",
      "At Random state 13 ,the test data accuracy is :- 0.5029084021290726 \n",
      "\n",
      "\n",
      "At Random state 14 ,the train data accuracy is :- 0.5196873625017473 \n",
      "At Random state 14 ,the test data accuracy is :- 0.4868054255642924 \n",
      "\n",
      "\n",
      "At Random state 15 ,the train data accuracy is :- 0.5200648494358286 \n",
      "At Random state 15 ,the test data accuracy is :- 0.4846076315883876 \n",
      "\n",
      "\n",
      "At Random state 16 ,the train data accuracy is :- 0.5087013291504252 \n",
      "At Random state 16 ,the test data accuracy is :- 0.5155296990527304 \n",
      "\n",
      "\n",
      "At Random state 17 ,the train data accuracy is :- 0.5180940481885352 \n",
      "At Random state 17 ,the test data accuracy is :- 0.4879864360898898 \n",
      "\n",
      "\n",
      "At Random state 18 ,the train data accuracy is :- 0.5086369286202344 \n",
      "At Random state 18 ,the test data accuracy is :- 0.5177383140012948 \n",
      "\n",
      "\n",
      "At Random state 19 ,the train data accuracy is :- 0.5083760301596202 \n",
      "At Random state 19 ,the test data accuracy is :- 0.5169790939910025 \n",
      "\n",
      "\n",
      "At Random state 20 ,the train data accuracy is :- 0.5210544820293797 \n",
      "At Random state 20 ,the test data accuracy is :- 0.47976810809107706 \n",
      "\n",
      "\n",
      "At Random state 21 ,the train data accuracy is :- 0.5037211690101596 \n",
      "At Random state 21 ,the test data accuracy is :- 0.5305553280277688 \n",
      "\n",
      "\n",
      "At Random state 22 ,the train data accuracy is :- 0.5146495343208779 \n",
      "At Random state 22 ,the test data accuracy is :- 0.5012411957717081 \n",
      "\n",
      "\n",
      "At Random state 23 ,the train data accuracy is :- 0.5319825421300874 \n",
      "At Random state 23 ,the test data accuracy is :- 0.4372619691487889 \n",
      "\n",
      "\n",
      "At Random state 24 ,the train data accuracy is :- 0.5133938529114317 \n",
      "At Random state 24 ,the test data accuracy is :- 0.5040976759876441 \n",
      "\n",
      "\n",
      "At Random state 25 ,the train data accuracy is :- 0.5124378797537011 \n",
      "At Random state 25 ,the test data accuracy is :- 0.5041026780158568 \n",
      "\n",
      "\n",
      "At Random state 26 ,the train data accuracy is :- 0.5059311735542933 \n",
      "At Random state 26 ,the test data accuracy is :- 0.5259253381925231 \n",
      "\n",
      "\n",
      "At Random state 27 ,the train data accuracy is :- 0.5120222019076726 \n",
      "At Random state 27 ,the test data accuracy is :- 0.5039084201984501 \n",
      "\n",
      "\n",
      "At Random state 28 ,the train data accuracy is :- 0.5119070429069552 \n",
      "At Random state 28 ,the test data accuracy is :- 0.5055719007747088 \n",
      "\n",
      "\n",
      "At Random state 29 ,the train data accuracy is :- 0.5179836036862588 \n",
      "At Random state 29 ,the test data accuracy is :- 0.4865038592982007 \n",
      "\n",
      "\n",
      "At Random state 30 ,the train data accuracy is :- 0.5132752607553229 \n",
      "At Random state 30 ,the test data accuracy is :- 0.49965375448713734 \n",
      "\n",
      "\n",
      "At Random state 31 ,the train data accuracy is :- 0.5133175713675091 \n",
      "At Random state 31 ,the test data accuracy is :- 0.5047665418540336 \n",
      "\n",
      "\n",
      "At Random state 32 ,the train data accuracy is :- 0.5232813658137878 \n",
      "At Random state 32 ,the test data accuracy is :- 0.46851056870704166 \n",
      "\n",
      "\n",
      "At Random state 33 ,the train data accuracy is :- 0.49582908060850195 \n",
      "At Random state 33 ,the test data accuracy is :- 0.5580345943080858 \n",
      "\n",
      "\n",
      "At Random state 34 ,the train data accuracy is :- 0.5184815961802576 \n",
      "At Random state 34 ,the test data accuracy is :- 0.4862119314125001 \n",
      "\n",
      "\n",
      "At Random state 35 ,the train data accuracy is :- 0.5239729398758166 \n",
      "At Random state 35 ,the test data accuracy is :- 0.4689908637107604 \n",
      "\n",
      "\n",
      "At Random state 36 ,the train data accuracy is :- 0.5015566292298683 \n",
      "At Random state 36 ,the test data accuracy is :- 0.5317065679364243 \n",
      "\n",
      "\n",
      "At Random state 37 ,the train data accuracy is :- 0.5146629629954673 \n",
      "At Random state 37 ,the test data accuracy is :- 0.49960589641264197 \n",
      "\n",
      "\n",
      "At Random state 38 ,the train data accuracy is :- 0.5094375977233133 \n",
      "At Random state 38 ,the test data accuracy is :- 0.5164386914457765 \n",
      "\n",
      "\n",
      "At Random state 39 ,the train data accuracy is :- 0.5161484355842384 \n",
      "At Random state 39 ,the test data accuracy is :- 0.4934033663621543 \n",
      "\n",
      "\n",
      "At Random state 40 ,the train data accuracy is :- 0.5118852929992581 \n",
      "At Random state 40 ,the test data accuracy is :- 0.5072155516875698 \n",
      "\n",
      "\n",
      "At Random state 41 ,the train data accuracy is :- 0.5093217665131013 \n",
      "At Random state 41 ,the test data accuracy is :- 0.5111381265172585 \n",
      "\n",
      "\n",
      "At Random state 42 ,the train data accuracy is :- 0.517749366939287 \n",
      "At Random state 42 ,the test data accuracy is :- 0.49121085471081305 \n",
      "\n",
      "\n",
      "At Random state 43 ,the train data accuracy is :- 0.5188264989228475 \n",
      "At Random state 43 ,the test data accuracy is :- 0.4871607777131255 \n",
      "\n",
      "\n",
      "At Random state 44 ,the train data accuracy is :- 0.5137396782479939 \n",
      "At Random state 44 ,the test data accuracy is :- 0.49381304952807636 \n",
      "\n",
      "\n",
      "At Random state 45 ,the train data accuracy is :- 0.5199603214910804 \n",
      "At Random state 45 ,the test data accuracy is :- 0.48094847856915157 \n",
      "\n",
      "\n",
      "At Random state 46 ,the train data accuracy is :- 0.5080507041761096 \n",
      "At Random state 46 ,the test data accuracy is :- 0.5184218273334671 \n",
      "\n",
      "\n",
      "At Random state 47 ,the train data accuracy is :- 0.5139036158340147 \n",
      "At Random state 47 ,the test data accuracy is :- 0.5031436106168461 \n",
      "\n",
      "\n",
      "At Random state 48 ,the train data accuracy is :- 0.5231016564543182 \n",
      "At Random state 48 ,the test data accuracy is :- 0.4743955478989219 \n",
      "\n",
      "\n",
      "At Random state 49 ,the train data accuracy is :- 0.5180975497163441 \n",
      "At Random state 49 ,the test data accuracy is :- 0.4911371883288329 \n",
      "\n",
      "\n",
      "At Random state 50 ,the train data accuracy is :- 0.5135865155989414 \n",
      "At Random state 50 ,the test data accuracy is :- 0.5043006872166302 \n",
      "\n",
      "\n",
      "At Random state 51 ,the train data accuracy is :- 0.5053844745750016 \n",
      "At Random state 51 ,the test data accuracy is :- 0.523176081912825 \n",
      "\n",
      "\n",
      "At Random state 52 ,the train data accuracy is :- 0.519954942492324 \n",
      "At Random state 52 ,the test data accuracy is :- 0.47709317413942554 \n",
      "\n",
      "\n",
      "At Random state 53 ,the train data accuracy is :- 0.49774025870605554 \n",
      "At Random state 53 ,the test data accuracy is :- 0.5533812169420969 \n",
      "\n",
      "\n",
      "At Random state 54 ,the train data accuracy is :- 0.5147807746240588 \n",
      "At Random state 54 ,the test data accuracy is :- 0.49810420630052665 \n",
      "\n",
      "\n",
      "At Random state 55 ,the train data accuracy is :- 0.5152835523663515 \n",
      "At Random state 55 ,the test data accuracy is :- 0.4973770545621857 \n",
      "\n",
      "\n",
      "At Random state 56 ,the train data accuracy is :- 0.5221901408861704 \n",
      "At Random state 56 ,the test data accuracy is :- 0.4704888712440225 \n",
      "\n",
      "\n",
      "At Random state 57 ,the train data accuracy is :- 0.5130902414037668 \n",
      "At Random state 57 ,the test data accuracy is :- 0.5041994375111998 \n",
      "\n",
      "\n",
      "At Random state 58 ,the train data accuracy is :- 0.5088597080043924 \n",
      "At Random state 58 ,the test data accuracy is :- 0.5146516618049035 \n",
      "\n",
      "\n",
      "At Random state 59 ,the train data accuracy is :- 0.5158117759673696 \n",
      "At Random state 59 ,the test data accuracy is :- 0.49538932839880256 \n",
      "\n",
      "\n",
      "At Random state 60 ,the train data accuracy is :- 0.5090361208735014 \n",
      "At Random state 60 ,the test data accuracy is :- 0.5152908829695787 \n",
      "\n",
      "\n",
      "At Random state 61 ,the train data accuracy is :- 0.5084211043616131 \n",
      "At Random state 61 ,the test data accuracy is :- 0.5199966204219367 \n",
      "\n",
      "\n",
      "At Random state 62 ,the train data accuracy is :- 0.5084566875822587 \n",
      "At Random state 62 ,the test data accuracy is :- 0.5146492580769864 \n",
      "\n",
      "\n",
      "At Random state 63 ,the train data accuracy is :- 0.5155304987972705 \n",
      "At Random state 63 ,the test data accuracy is :- 0.49609234976959515 \n",
      "\n",
      "\n",
      "At Random state 64 ,the train data accuracy is :- 0.5034121809892879 \n",
      "At Random state 64 ,the test data accuracy is :- 0.53512532714812 \n",
      "\n",
      "\n",
      "At Random state 65 ,the train data accuracy is :- 0.5099716081995308 \n",
      "At Random state 65 ,the test data accuracy is :- 0.5144916566536095 \n",
      "\n",
      "\n",
      "At Random state 66 ,the train data accuracy is :- 0.5090567580384634 \n"
     ]
    },
    {
     "name": "stdout",
     "output_type": "stream",
     "text": [
      "At Random state 66 ,the test data accuracy is :- 0.509685069922807 \n",
      "\n",
      "\n",
      "At Random state 67 ,the train data accuracy is :- 0.5165791402956466 \n",
      "At Random state 67 ,the test data accuracy is :- 0.4889384446139198 \n",
      "\n",
      "\n",
      "At Random state 68 ,the train data accuracy is :- 0.5190652724256517 \n",
      "At Random state 68 ,the test data accuracy is :- 0.48451993614257494 \n",
      "\n",
      "\n",
      "At Random state 69 ,the train data accuracy is :- 0.5157928969487706 \n",
      "At Random state 69 ,the test data accuracy is :- 0.4912491224521339 \n",
      "\n",
      "\n",
      "At Random state 70 ,the train data accuracy is :- 0.5113926919218692 \n",
      "At Random state 70 ,the test data accuracy is :- 0.509002613643155 \n",
      "\n",
      "\n",
      "At Random state 71 ,the train data accuracy is :- 0.5103777342604418 \n",
      "At Random state 71 ,the test data accuracy is :- 0.5127896134351271 \n",
      "\n",
      "\n",
      "At Random state 72 ,the train data accuracy is :- 0.5188284909841651 \n",
      "At Random state 72 ,the test data accuracy is :- 0.48556379461540655 \n",
      "\n",
      "\n",
      "At Random state 73 ,the train data accuracy is :- 0.5049152385363851 \n",
      "At Random state 73 ,the test data accuracy is :- 0.5286729878202616 \n",
      "\n",
      "\n",
      "At Random state 74 ,the train data accuracy is :- 0.5090014579573523 \n",
      "At Random state 74 ,the test data accuracy is :- 0.5170439170678958 \n",
      "\n",
      "\n",
      "At Random state 75 ,the train data accuracy is :- 0.505218526362561 \n",
      "At Random state 75 ,the test data accuracy is :- 0.5277879697525768 \n",
      "\n",
      "\n",
      "At Random state 76 ,the train data accuracy is :- 0.5153516329597222 \n",
      "At Random state 76 ,the test data accuracy is :- 0.4969829702506656 \n",
      "\n",
      "\n",
      "At Random state 77 ,the train data accuracy is :- 0.5091453048706756 \n",
      "At Random state 77 ,the test data accuracy is :- 0.5166813930427392 \n",
      "\n",
      "\n",
      "At Random state 78 ,the train data accuracy is :- 0.5103286869483119 \n",
      "At Random state 78 ,the test data accuracy is :- 0.5136575687867495 \n",
      "\n",
      "\n",
      "At Random state 79 ,the train data accuracy is :- 0.5100772991625253 \n",
      "At Random state 79 ,the test data accuracy is :- 0.514173642580691 \n",
      "\n",
      "\n",
      "At Random state 80 ,the train data accuracy is :- 0.5153159572688863 \n",
      "At Random state 80 ,the test data accuracy is :- 0.497713292007415 \n",
      "\n",
      "\n",
      "At Random state 81 ,the train data accuracy is :- 0.5100038020025326 \n",
      "At Random state 81 ,the test data accuracy is :- 0.5029711761062025 \n",
      "\n",
      "\n",
      "At Random state 82 ,the train data accuracy is :- 0.513049218186231 \n",
      "At Random state 82 ,the test data accuracy is :- 0.4978743775230575 \n",
      "\n",
      "\n",
      "At Random state 83 ,the train data accuracy is :- 0.504709607351427 \n",
      "At Random state 83 ,the test data accuracy is :- 0.5304651475274305 \n",
      "\n",
      "\n",
      "At Random state 84 ,the train data accuracy is :- 0.5193523531416018 \n",
      "At Random state 84 ,the test data accuracy is :- 0.48383034867113117 \n",
      "\n",
      "\n",
      "At Random state 85 ,the train data accuracy is :- 0.512629232389183 \n",
      "At Random state 85 ,the test data accuracy is :- 0.5072126791865339 \n",
      "\n",
      "\n",
      "At Random state 86 ,the train data accuracy is :- 0.5046781604126938 \n",
      "At Random state 86 ,the test data accuracy is :- 0.5286809892838347 \n",
      "\n",
      "\n",
      "At Random state 87 ,the train data accuracy is :- 0.5098789387345146 \n",
      "At Random state 87 ,the test data accuracy is :- 0.5130021370894234 \n",
      "\n",
      "\n",
      "At Random state 88 ,the train data accuracy is :- 0.5171085926481672 \n",
      "At Random state 88 ,the test data accuracy is :- 0.4882436939538485 \n",
      "\n",
      "\n",
      "At Random state 89 ,the train data accuracy is :- 0.5266830333861532 \n",
      "At Random state 89 ,the test data accuracy is :- 0.44783575990340896 \n",
      "\n",
      "\n",
      "At Random state 90 ,the train data accuracy is :- 0.5074065514577686 \n",
      "At Random state 90 ,the test data accuracy is :- 0.5193766438378525 \n",
      "\n",
      "\n",
      "At Random state 91 ,the train data accuracy is :- 0.5120039851286496 \n",
      "At Random state 91 ,the test data accuracy is :- 0.5024692696000059 \n",
      "\n",
      "\n",
      "At Random state 92 ,the train data accuracy is :- 0.5089776695869406 \n",
      "At Random state 92 ,the test data accuracy is :- 0.5167350177984434 \n",
      "\n",
      "\n",
      "At Random state 93 ,the train data accuracy is :- 0.5218384979794193 \n",
      "At Random state 93 ,the test data accuracy is :- 0.4763005045140435 \n",
      "\n",
      "\n",
      "At Random state 94 ,the train data accuracy is :- 0.5008190540634035 \n",
      "At Random state 94 ,the test data accuracy is :- 0.5412107497766618 \n",
      "\n",
      "\n",
      "At Random state 95 ,the train data accuracy is :- 0.5158479197256318 \n",
      "At Random state 95 ,the test data accuracy is :- 0.49795227915651386 \n",
      "\n",
      "\n",
      "At Random state 96 ,the train data accuracy is :- 0.5141479674750868 \n",
      "At Random state 96 ,the test data accuracy is :- 0.5020216207411882 \n",
      "\n",
      "\n",
      "At Random state 97 ,the train data accuracy is :- 0.5182621869548074 \n",
      "At Random state 97 ,the test data accuracy is :- 0.49024303279273285 \n",
      "\n",
      "\n",
      "At Random state 98 ,the train data accuracy is :- 0.5114256158642803 \n",
      "At Random state 98 ,the test data accuracy is :- 0.5097619197140821 \n",
      "\n",
      "\n",
      "At Random state 99 ,the train data accuracy is :- 0.513416083224193 \n",
      "At Random state 99 ,the test data accuracy is :- 0.5045701009340825 \n",
      "\n",
      "\n"
     ]
    }
   ],
   "source": [
    "\n",
    "for i in range(0,100):\n",
    "    x_train,x_test,y_train,y_test = train_test_split(features,label,test_size = 0.20,random_state=i)\n",
    "    lr.fit(x_train,y_train)\n",
    "    pred_train = lr.predict(x_train)\n",
    "    pred_test = lr.predict(x_test)\n",
    "    print(f\"At Random state {i} ,the train data accuracy is :- {r2_score(y_train,pred_train)} \")\n",
    "    print(f\"At Random state {i} ,the test data accuracy is :- {r2_score(y_test,pred_test)} \")\n",
    "    print(\"\\n\")\n",
    "\n",
    "    "
   ]
  },
  {
   "cell_type": "code",
   "execution_count": 64,
   "id": "71d216e1",
   "metadata": {},
   "outputs": [],
   "source": [
    " x_train,x_test,y_train,y_test = train_test_split(features,label,test_size = 0.20,random_state=94)\n"
   ]
  },
  {
   "cell_type": "code",
   "execution_count": 65,
   "id": "8b71a18f",
   "metadata": {},
   "outputs": [
    {
     "data": {
      "text/plain": [
       "LinearRegression()"
      ]
     },
     "execution_count": 65,
     "metadata": {},
     "output_type": "execute_result"
    }
   ],
   "source": [
    "lr.fit(x_train,y_train)"
   ]
  },
  {
   "cell_type": "code",
   "execution_count": 66,
   "id": "e1e4713e",
   "metadata": {},
   "outputs": [],
   "source": [
    "pred_test = lr.predict(x_test)"
   ]
  },
  {
   "cell_type": "code",
   "execution_count": 67,
   "id": "997db16d",
   "metadata": {},
   "outputs": [
    {
     "name": "stdout",
     "output_type": "stream",
     "text": [
      "0.547989356456898\n"
     ]
    }
   ],
   "source": [
    "print(r2_score(y_test,pred_test))"
   ]
  },
  {
   "cell_type": "markdown",
   "id": "06be65ba",
   "metadata": {},
   "source": [
    "# Cross Validation of the model:-"
   ]
  },
  {
   "cell_type": "code",
   "execution_count": 84,
   "id": "94365b37",
   "metadata": {},
   "outputs": [
    {
     "name": "stdout",
     "output_type": "stream",
     "text": [
      "At cross fold 2 the cv score is 0.500901627768896\n",
      "At cross fold 3 the cv score is 0.47801657145043847\n",
      "At cross fold 4 the cv score is 0.37606596070729803\n",
      "At cross fold 5 the cv score is 0.37015035322130824\n",
      "At cross fold 6 the cv score is 0.37732300136232116\n",
      "At cross fold 7 the cv score is 0.4136233520628507\n",
      "At cross fold 8 the cv score is 0.3359265058457751\n",
      "At cross fold 9 the cv score is 0.3873392866342839\n"
     ]
    }
   ],
   "source": [
    "from sklearn.model_selection import cross_val_score\n",
    "for i in range(2,10):\n",
    "    cv_score = cross_val_score(lr,features,label,cv = i)\n",
    "    cv_mean = cv_score.mean()\n",
    "    print(f\"At cross fold {i} the cv score is {cv_mean}\")\n",
    "    "
   ]
  },
  {
   "cell_type": "markdown",
   "id": "a2d7845c",
   "metadata": {},
   "source": [
    "Above we have checked that our model is overfitting or not.It's not overfitted."
   ]
  },
  {
   "cell_type": "code",
   "execution_count": 87,
   "id": "67c62f27",
   "metadata": {},
   "outputs": [
    {
     "data": {
      "image/png": "[encoded data removed]",
      "text/plain": [
       "<Figure size 720x576 with 1 Axes>"
      ]
     },
     "metadata": {
      "needs_background": "light"
     },
     "output_type": "display_data"
    }
   ],
   "source": [
    "## Visualization through Scatter plot:-\n",
    "plt.figure(figsize=(10,8))\n",
    "plt.scatter(x = y_test,y = pred_test,color ='r')\n",
    "plt.plot(y_test,y_test,color='b')\n",
    "plt.xlabel('Actual result',fontsize=14)\n",
    "plt.ylabel('predicted result',fontsize=14)\n",
    "plt.title('Linear Regression',fontsize=18)\n",
    "plt.show()\n"
   ]
  },
  {
   "cell_type": "markdown",
   "id": "8a869851",
   "metadata": {},
   "source": [
    "# Regularization:-"
   ]
  },
  {
   "cell_type": "code",
   "execution_count": 91,
   "id": "94a79332",
   "metadata": {},
   "outputs": [
    {
     "name": "stdout",
     "output_type": "stream",
     "text": [
      "{'alpha': 0.0001, 'random_state': 0}\n"
     ]
    }
   ],
   "source": [
    "params ={'alpha':[.0001,.001,.01,.1,1,10],'random_state':list(range(0,10))}\n",
    "ls = Lasso()\n",
    "cvs =GridSearchCV(ls,params)\n",
    "cvs.fit(x_train,y_train)\n",
    "print(cvs.best_params_)"
   ]
  },
  {
   "cell_type": "code",
   "execution_count": 92,
   "id": "cc149357",
   "metadata": {},
   "outputs": [
    {
     "data": {
      "text/plain": [
       "0.5481230760705205"
      ]
     },
     "execution_count": 92,
     "metadata": {},
     "output_type": "execute_result"
    }
   ],
   "source": [
    "### providing best parameters:-\n",
    "ls = Lasso(alpha=.0001,random_state = 0)\n",
    "ls.fit(x_train,y_train)\n",
    "predict_ls = ls.predict(x_test)\n",
    "\n",
    "lss = r2_score(y_test,predict_ls)\n",
    "lss"
   ]
  },
  {
   "cell_type": "code",
   "execution_count": 93,
   "id": "b3a61acb",
   "metadata": {},
   "outputs": [
    {
     "data": {
      "text/plain": [
       "0.5009960832014635"
      ]
     },
     "execution_count": 93,
     "metadata": {},
     "output_type": "execute_result"
    }
   ],
   "source": [
    "## Cross Validation for Lasso\n",
    "cv_score = cross_val_score(ls,features,label,cv=2)\n",
    "cv_mean = cv_score.mean()\n",
    "cv_mean"
   ]
  },
  {
   "cell_type": "markdown",
   "id": "fb94caea",
   "metadata": {},
   "source": [
    "# Ensemble Technique:-"
   ]
  },
  {
   "cell_type": "code",
   "execution_count": 96,
   "id": "a620918e",
   "metadata": {},
   "outputs": [
    {
     "name": "stdout",
     "output_type": "stream",
     "text": [
      "{'criterion': 'mse', 'max_features': 'sqrt'}\n"
     ]
    }
   ],
   "source": [
    "\n",
    "params ={'criterion':['mse','mae'],'max_features':[\"auto\",\"sqrt\",\"log2\"]}\n",
    "rf = RandomForestRegressor()\n",
    "cfr = GridSearchCV(rf,params)\n",
    "cfr.fit(x_train,y_train)\n",
    "print(cfr.best_params_)"
   ]
  },
  {
   "cell_type": "code",
   "execution_count": 99,
   "id": "45162454",
   "metadata": {},
   "outputs": [
    {
     "name": "stdout",
     "output_type": "stream",
     "text": [
      "R2 score : 0.5640303118508104\n",
      "Cross Val Score : 0.5105051280679167\n"
     ]
    }
   ],
   "source": [
    "rf =RandomForestRegressor(criterion = 'mse',max_features = 'sqrt')\n",
    "rf.fit(x_train,y_train)\n",
    "rf.score(x_train,y_train)\n",
    "pred_rf = rf.predict(x_test)\n",
    "\n",
    "rfs = r2_score(y_test,pred_rf)\n",
    "print('R2 score :' , rfs)\n",
    "## Cross validation:\n",
    "rfscore = cross_val_score(rf,features,label,cv =2)\n",
    "cv_mean = rfscore.mean()\n",
    "print('Cross Val Score :',cv_mean)\n"
   ]
  },
  {
   "cell_type": "markdown",
   "id": "70882179",
   "metadata": {},
   "source": [
    "# Regularization using Ridge :-"
   ]
  },
  {
   "cell_type": "code",
   "execution_count": 103,
   "id": "3cb3d322",
   "metadata": {},
   "outputs": [
    {
     "name": "stdout",
     "output_type": "stream",
     "text": [
      "{'alpha': 0.1, 'random_state': 0}\n"
     ]
    }
   ],
   "source": [
    "#rc = RidgeCV( alphas = np.arange(.0001,.001,.01,1),normalize = True)\n",
    "params ={'alpha':[.0001,.001,.01,.1,1,10],'random_state':list(range(0,10))}\n",
    "rd = Ridge()\n",
    "cvs =GridSearchCV(rd,params)\n",
    "cvs.fit(x_train,y_train)\n",
    "print(cvs.best_params_)"
   ]
  },
  {
   "cell_type": "code",
   "execution_count": 104,
   "id": "e175217e",
   "metadata": {},
   "outputs": [
    {
     "data": {
      "text/plain": [
       "0.5478729211683078"
      ]
     },
     "execution_count": 104,
     "metadata": {},
     "output_type": "execute_result"
    }
   ],
   "source": [
    "### providing best parameters:-\n",
    "rd = Ridge(alpha=.1,random_state = 0)\n",
    "rd.fit(x_train,y_train)\n",
    "predict_rd = rd.predict(x_test)\n",
    "\n",
    "score = r2_score(y_test,predict_rd)\n",
    "score"
   ]
  },
  {
   "cell_type": "code",
   "execution_count": 105,
   "id": "a54d501d",
   "metadata": {},
   "outputs": [
    {
     "data": {
      "text/plain": [
       "0.502844490248068"
      ]
     },
     "execution_count": 105,
     "metadata": {},
     "output_type": "execute_result"
    }
   ],
   "source": [
    "## Cross Validation for Ridge\n",
    "cv_score = cross_val_score(rd,features,label,cv=2)\n",
    "cv_mean = cv_score.mean()\n",
    "cv_mean"
   ]
  },
  {
   "cell_type": "markdown",
   "id": "c1aaaeb0",
   "metadata": {},
   "source": [
    "So we can see Model is not overfitting."
   ]
  },
  {
   "cell_type": "code",
   "execution_count": 111,
   "id": "855c499a",
   "metadata": {},
   "outputs": [
    {
     "name": "stdout",
     "output_type": "stream",
     "text": [
      "{'criterion': 'mse', 'max_depth': 5, 'min_samples_leaf': 9, 'min_samples_split': 3}\n"
     ]
    }
   ],
   "source": [
    "### Using Decision Tree Regressor for model building:-\n",
    "param =  {'criterion':['mse','mae'],\n",
    "          'max_depth':range(2,10),\n",
    "          'min_samples_leaf':range(2,10),\n",
    "          'min_samples_split':range(3,10)\n",
    "    \n",
    "          }\n",
    "dtr = DecisionTreeRegressor()\n",
    "grid_search = GridSearchCV(dtr,param)\n",
    "grid_search.fit(x_train,y_train)\n",
    "print(grid_search.best_params_)\n"
   ]
  },
  {
   "cell_type": "code",
   "execution_count": 112,
   "id": "433eb3e7",
   "metadata": {},
   "outputs": [
    {
     "data": {
      "text/plain": [
       "0.5017716768380018"
      ]
     },
     "execution_count": 112,
     "metadata": {},
     "output_type": "execute_result"
    }
   ],
   "source": [
    "## Providing best parameters to Decision Tree:-\n",
    "dtr = DecisionTreeRegressor(criterion = 'mse',max_depth = 5,min_samples_leaf=9,min_samples_split = 3)\n",
    "dtr.fit(x_train,y_train)\n",
    "predict_dtr = dtr.predict(x_test)\n",
    "score = r2_score(y_test,predict_dtr)\n",
    "score\n",
    "\n"
   ]
  },
  {
   "cell_type": "code",
   "execution_count": 117,
   "id": "04f708ed",
   "metadata": {},
   "outputs": [
    {
     "data": {
      "text/plain": [
       "0.41224659632929306"
      ]
     },
     "execution_count": 117,
     "metadata": {},
     "output_type": "execute_result"
    }
   ],
   "source": [
    "## Cross Validation to check overfitting:-\n",
    "cv_score = cross_val_score(dtr,features,label,cv=2)\n",
    "cv_mean = cv_score.mean()\n",
    "cv_mean\n"
   ]
  },
  {
   "cell_type": "code",
   "execution_count": 121,
   "id": "6c135ef6",
   "metadata": {},
   "outputs": [
    {
     "name": "stdout",
     "output_type": "stream",
     "text": [
      "{'algorithm': 'auto', 'n_neighbors': 7}\n"
     ]
    }
   ],
   "source": [
    "### using KNeighborsRegressor Model:-\n",
    "params ={'n_neighbors' :[3,4,5,7] ,'algorithm':['auto','ball_tree','kd_tree','brute']}\n",
    "knn = KNeighborsRegressor()\n",
    "cfr = GridSearchCV(knn,params)\n",
    "cfr.fit(x_train,y_train)\n",
    "print(cfr.best_params_)"
   ]
  },
  {
   "cell_type": "code",
   "execution_count": 122,
   "id": "d5bb0b63",
   "metadata": {},
   "outputs": [
    {
     "data": {
      "text/plain": [
       "0.5428266877876295"
      ]
     },
     "execution_count": 122,
     "metadata": {},
     "output_type": "execute_result"
    }
   ],
   "source": [
    "## Providing best parameters to KNeighborsRegressor :-\n",
    "knn = KNeighborsRegressor(n_neighbors=7,algorithm='auto')\n",
    "knn.fit(x_train,y_train)\n",
    "predict_knn = knn.predict(x_test)\n",
    "score = r2_score(y_test,predict_knn)\n",
    "score\n",
    "\n"
   ]
  },
  {
   "cell_type": "code",
   "execution_count": 123,
   "id": "024225fb",
   "metadata": {},
   "outputs": [
    {
     "data": {
      "text/plain": [
       "0.46744094089779564"
      ]
     },
     "execution_count": 123,
     "metadata": {},
     "output_type": "execute_result"
    }
   ],
   "source": [
    "## Cross Validation to check overfitting:-\n",
    "cv_score = cross_val_score(knn,features,label,cv=2)\n",
    "cv_mean = cv_score.mean()\n",
    "cv_mean\n"
   ]
  },
  {
   "cell_type": "markdown",
   "id": "0b9e4325",
   "metadata": {},
   "source": [
    "# Regularization using Ridge :-"
   ]
  },
  {
   "cell_type": "code",
   "execution_count": null,
   "id": "8318a27a",
   "metadata": {},
   "outputs": [],
   "source": []
  },
  {
   "cell_type": "code",
   "execution_count": null,
   "id": "cb0af7e8",
   "metadata": {},
   "outputs": [],
   "source": [
    "###Plotting ROC AUC Curve:\n",
    "disp =plot_roc_curve(dtr,x_test,y_test)   \n",
    "plot_roc_curve(lr,x_test,y_test,ax = disp.ax_)\n",
    "plot_roc_curve(rf,x_test,y_test,ax = disp.ax_)\n",
    "plot_roc_curve(knn,x_test,y_test,ax = disp.ax_)\n",
    "plt.legend(prop={'size': 11},loc = 'lower right')\n",
    "plt.show()\n"
   ]
  }
 ],
 "metadata": {
  "kernelspec": {
   "display_name": "Python 3",
   "language": "python",
   "name": "python3"
  },
  "language_info": {
   "codemirror_mode": {
    "name": "ipython",
    "version": 3
   },
   "file_extension": ".py",
   "mimetype": "text/x-python",
   "name": "python",
   "nbconvert_exporter": "python",
   "pygments_lexer": "ipython3",
   "version": "3.8.8"
  }
 },
 "nbformat": 4,
 "nbformat_minor": 5
}
